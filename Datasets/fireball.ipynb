{
 "metadata": {
  "language_info": {
   "codemirror_mode": {
    "name": "ipython",
    "version": 3
   },
   "file_extension": ".py",
   "mimetype": "text/x-python",
   "name": "python",
   "nbconvert_exporter": "python",
   "pygments_lexer": "ipython3",
   "version": "3.8.5"
  },
  "orig_nbformat": 2,
  "kernelspec": {
   "name": "python385jvsc74a57bd0b75be9ad71603c40476c6c8216298ace4da278de65ecdbf5da31753ceef4d599",
   "display_name": "Python 3.8.5 64-bit ('base': conda)"
  }
 },
 "nbformat": 4,
 "nbformat_minor": 2,
 "cells": [
  {
   "cell_type": "code",
   "execution_count": 1,
   "metadata": {},
   "outputs": [],
   "source": [
    "import pandas as pd\n",
    "import csv"
   ]
  },
  {
   "cell_type": "code",
   "execution_count": 4,
   "metadata": {},
   "outputs": [],
   "source": [
    "fireball_csv = \"cneos_fireball_data.csv\"\n",
    "fireball_df = pd.read_csv(fireball_csv)"
   ]
  },
  {
   "cell_type": "code",
   "execution_count": 5,
   "metadata": {},
   "outputs": [
    {
     "output_type": "execute_result",
     "data": {
      "text/plain": [
       "  Peak Brightness Date/Time (UT) Latitude (deg.) Longitude (deg.)  \\\n",
       "0            2017-07-31 22:01:35           24.7N           118.5W   \n",
       "1            2017-07-23 06:12:38            6.6S            69.7W   \n",
       "2            2017-07-13 09:30:36           23.1N            60.7E   \n",
       "3            2017-06-30 14:26:45           34.3S           134.5E   \n",
       "4            2017-06-23 20:21:55           57.0N           143.7E   \n",
       "\n",
       "   Altitude (km)  Velocity (km/s)    vx    vy    vz  \\\n",
       "0            NaN              NaN   NaN   NaN   NaN   \n",
       "1           38.0             17.2  -0.4   8.7 -14.8   \n",
       "2           35.0             13.7 -10.0  -6.5  -6.8   \n",
       "3           20.0             15.2  10.9  -9.7   4.2   \n",
       "4           35.1             24.3  17.7  13.1 -10.3   \n",
       "\n",
       "   Total Radiated Energy (J)  Calculated Total Impact Energy (kt)  \n",
       "0               5.800000e+10                                 0.19  \n",
       "1               3.500000e+10                                 0.12  \n",
       "2               7.300000e+10                                 0.23  \n",
       "3               9.400000e+10                                 0.29  \n",
       "4               1.840000e+11                                 0.52  "
      ],
      "text/html": "<div>\n<style scoped>\n    .dataframe tbody tr th:only-of-type {\n        vertical-align: middle;\n    }\n\n    .dataframe tbody tr th {\n        vertical-align: top;\n    }\n\n    .dataframe thead th {\n        text-align: right;\n    }\n</style>\n<table border=\"1\" class=\"dataframe\">\n  <thead>\n    <tr style=\"text-align: right;\">\n      <th></th>\n      <th>Peak Brightness Date/Time (UT)</th>\n      <th>Latitude (deg.)</th>\n      <th>Longitude (deg.)</th>\n      <th>Altitude (km)</th>\n      <th>Velocity (km/s)</th>\n      <th>vx</th>\n      <th>vy</th>\n      <th>vz</th>\n      <th>Total Radiated Energy (J)</th>\n      <th>Calculated Total Impact Energy (kt)</th>\n    </tr>\n  </thead>\n  <tbody>\n    <tr>\n      <th>0</th>\n      <td>2017-07-31 22:01:35</td>\n      <td>24.7N</td>\n      <td>118.5W</td>\n      <td>NaN</td>\n      <td>NaN</td>\n      <td>NaN</td>\n      <td>NaN</td>\n      <td>NaN</td>\n      <td>5.800000e+10</td>\n      <td>0.19</td>\n    </tr>\n    <tr>\n      <th>1</th>\n      <td>2017-07-23 06:12:38</td>\n      <td>6.6S</td>\n      <td>69.7W</td>\n      <td>38.0</td>\n      <td>17.2</td>\n      <td>-0.4</td>\n      <td>8.7</td>\n      <td>-14.8</td>\n      <td>3.500000e+10</td>\n      <td>0.12</td>\n    </tr>\n    <tr>\n      <th>2</th>\n      <td>2017-07-13 09:30:36</td>\n      <td>23.1N</td>\n      <td>60.7E</td>\n      <td>35.0</td>\n      <td>13.7</td>\n      <td>-10.0</td>\n      <td>-6.5</td>\n      <td>-6.8</td>\n      <td>7.300000e+10</td>\n      <td>0.23</td>\n    </tr>\n    <tr>\n      <th>3</th>\n      <td>2017-06-30 14:26:45</td>\n      <td>34.3S</td>\n      <td>134.5E</td>\n      <td>20.0</td>\n      <td>15.2</td>\n      <td>10.9</td>\n      <td>-9.7</td>\n      <td>4.2</td>\n      <td>9.400000e+10</td>\n      <td>0.29</td>\n    </tr>\n    <tr>\n      <th>4</th>\n      <td>2017-06-23 20:21:55</td>\n      <td>57.0N</td>\n      <td>143.7E</td>\n      <td>35.1</td>\n      <td>24.3</td>\n      <td>17.7</td>\n      <td>13.1</td>\n      <td>-10.3</td>\n      <td>1.840000e+11</td>\n      <td>0.52</td>\n    </tr>\n  </tbody>\n</table>\n</div>"
     },
     "metadata": {},
     "execution_count": 5
    }
   ],
   "source": [
    "fireball_df.head()"
   ]
  },
  {
   "cell_type": "code",
   "execution_count": 7,
   "metadata": {},
   "outputs": [
    {
     "output_type": "execute_result",
     "data": {
      "text/plain": [
       "Index(['Peak Brightness Date/Time (UT)', 'Latitude (deg.)', 'Longitude (deg.)',\n",
       "       'Altitude (km)', 'Velocity (km/s)', 'vx', 'vy', 'vz',\n",
       "       'Total Radiated Energy (J)', 'Calculated Total Impact Energy (kt)'],\n",
       "      dtype='object')"
      ]
     },
     "metadata": {},
     "execution_count": 7
    }
   ],
   "source": [
    "fireball_df.columns"
   ]
  },
  {
   "cell_type": "code",
   "execution_count": 8,
   "metadata": {},
   "outputs": [],
   "source": [
    "fireball_df = fireball_df[['Peak Brightness Date/Time (UT)', 'Latitude (deg.)', 'Longitude (deg.)']]"
   ]
  },
  {
   "cell_type": "code",
   "execution_count": 9,
   "metadata": {},
   "outputs": [
    {
     "output_type": "execute_result",
     "data": {
      "text/plain": [
       "    Peak Brightness Date/Time (UT) Latitude (deg.) Longitude (deg.)\n",
       "0              2017-07-31 22:01:35           24.7N           118.5W\n",
       "1              2017-07-23 06:12:38            6.6S            69.7W\n",
       "2              2017-07-13 09:30:36           23.1N            60.7E\n",
       "3              2017-06-30 14:26:45           34.3S           134.5E\n",
       "4              2017-06-23 20:21:55           57.0N           143.7E\n",
       "..                             ...             ...              ...\n",
       "714            1993-11-29 17:48:41           26.5N            78.3E\n",
       "715            1993-10-31 03:39:27           51.3N           100.9W\n",
       "716            1991-10-04 09:22:47           78.7N             6.3E\n",
       "717            1990-10-01 03:51:47            7.5N           142.8E\n",
       "718            1988-04-15 03:03:10            4.1S           124.3E\n",
       "\n",
       "[719 rows x 3 columns]"
      ],
      "text/html": "<div>\n<style scoped>\n    .dataframe tbody tr th:only-of-type {\n        vertical-align: middle;\n    }\n\n    .dataframe tbody tr th {\n        vertical-align: top;\n    }\n\n    .dataframe thead th {\n        text-align: right;\n    }\n</style>\n<table border=\"1\" class=\"dataframe\">\n  <thead>\n    <tr style=\"text-align: right;\">\n      <th></th>\n      <th>Peak Brightness Date/Time (UT)</th>\n      <th>Latitude (deg.)</th>\n      <th>Longitude (deg.)</th>\n    </tr>\n  </thead>\n  <tbody>\n    <tr>\n      <th>0</th>\n      <td>2017-07-31 22:01:35</td>\n      <td>24.7N</td>\n      <td>118.5W</td>\n    </tr>\n    <tr>\n      <th>1</th>\n      <td>2017-07-23 06:12:38</td>\n      <td>6.6S</td>\n      <td>69.7W</td>\n    </tr>\n    <tr>\n      <th>2</th>\n      <td>2017-07-13 09:30:36</td>\n      <td>23.1N</td>\n      <td>60.7E</td>\n    </tr>\n    <tr>\n      <th>3</th>\n      <td>2017-06-30 14:26:45</td>\n      <td>34.3S</td>\n      <td>134.5E</td>\n    </tr>\n    <tr>\n      <th>4</th>\n      <td>2017-06-23 20:21:55</td>\n      <td>57.0N</td>\n      <td>143.7E</td>\n    </tr>\n    <tr>\n      <th>...</th>\n      <td>...</td>\n      <td>...</td>\n      <td>...</td>\n    </tr>\n    <tr>\n      <th>714</th>\n      <td>1993-11-29 17:48:41</td>\n      <td>26.5N</td>\n      <td>78.3E</td>\n    </tr>\n    <tr>\n      <th>715</th>\n      <td>1993-10-31 03:39:27</td>\n      <td>51.3N</td>\n      <td>100.9W</td>\n    </tr>\n    <tr>\n      <th>716</th>\n      <td>1991-10-04 09:22:47</td>\n      <td>78.7N</td>\n      <td>6.3E</td>\n    </tr>\n    <tr>\n      <th>717</th>\n      <td>1990-10-01 03:51:47</td>\n      <td>7.5N</td>\n      <td>142.8E</td>\n    </tr>\n    <tr>\n      <th>718</th>\n      <td>1988-04-15 03:03:10</td>\n      <td>4.1S</td>\n      <td>124.3E</td>\n    </tr>\n  </tbody>\n</table>\n<p>719 rows × 3 columns</p>\n</div>"
     },
     "metadata": {},
     "execution_count": 9
    }
   ],
   "source": [
    "fireball_df"
   ]
  },
  {
   "cell_type": "code",
   "execution_count": null,
   "metadata": {},
   "outputs": [],
   "source": []
  }
 ]
}