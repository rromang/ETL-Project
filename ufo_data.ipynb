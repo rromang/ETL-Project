{
 "metadata": {
  "language_info": {
   "codemirror_mode": {
    "name": "ipython",
    "version": 3
   },
   "file_extension": ".py",
   "mimetype": "text/x-python",
   "name": "python",
   "nbconvert_exporter": "python",
   "pygments_lexer": "ipython3",
   "version": "3.7.9"
  },
  "orig_nbformat": 2,
  "kernelspec": {
   "name": "python379jvsc74a57bd0e3896c66a75c41725fea970d0c2a2982cf91def990c8dcb709e7b9c0cc3a398d",
   "display_name": "Python 3.7.9 64-bit ('PythonData': conda)"
  }
 },
 "nbformat": 4,
 "nbformat_minor": 2,
 "cells": [
  {
   "cell_type": "code",
   "execution_count": 1,
   "metadata": {},
   "outputs": [],
   "source": [
    "import pandas as pd\n",
    "import numpy as np\n",
    "import requests\n",
    "import json\n",
    "import time"
   ]
  },
  {
   "cell_type": "code",
   "execution_count": 2,
   "metadata": {},
   "outputs": [],
   "source": [
    "# Import API key\n",
    "from api_keys import g_key\n",
    "if g_key == \"YOUR KEY HERE!\":\n",
    "    import sys\n",
    "    sys.path.append(r\"/Users/rosaicelaroman/Desktop/Data_BootCamp/APIs/config_keys/\")\n",
    "    from api_keys_v2 import g_key"
   ]
  },
  {
   "source": [
    "Connect to csv file and create dataframe"
   ],
   "cell_type": "markdown",
   "metadata": {}
  },
  {
   "cell_type": "code",
   "execution_count": 3,
   "metadata": {},
   "outputs": [
    {
     "output_type": "execute_result",
     "data": {
      "text/plain": [
       "  Event.Date                Shape           Location State Country  Source  \\\n",
       "0 2016-06-18  Boomerang/V-Shaped   South Barrington    IL     USA   NUFORC   \n",
       "1 2016-06-17  Boomerang/V-Shaped               Kuna    ID     USA   NUFORC   \n",
       "2 2016-05-30  Boomerang/V-Shaped       Lake Stevens    WA     USA   NUFORC   \n",
       "3 2016-05-27  Boomerang/V-Shaped             Gerber    CA     USA   NUFORC   \n",
       "4 2016-05-24  Boomerang/V-Shaped          Camdenton    MO     USA   NUFORC   \n",
       "\n",
       "  USA  Unnamed: 7  \n",
       "0   1         NaN  \n",
       "1   1         NaN  \n",
       "2   1         NaN  \n",
       "3   1         NaN  \n",
       "4   1         NaN  "
      ],
      "text/html": "<div>\n<style scoped>\n    .dataframe tbody tr th:only-of-type {\n        vertical-align: middle;\n    }\n\n    .dataframe tbody tr th {\n        vertical-align: top;\n    }\n\n    .dataframe thead th {\n        text-align: right;\n    }\n</style>\n<table border=\"1\" class=\"dataframe\">\n  <thead>\n    <tr style=\"text-align: right;\">\n      <th></th>\n      <th>Event.Date</th>\n      <th>Shape</th>\n      <th>Location</th>\n      <th>State</th>\n      <th>Country</th>\n      <th>Source</th>\n      <th>USA</th>\n      <th>Unnamed: 7</th>\n    </tr>\n  </thead>\n  <tbody>\n    <tr>\n      <th>0</th>\n      <td>2016-06-18</td>\n      <td>Boomerang/V-Shaped</td>\n      <td>South Barrington</td>\n      <td>IL</td>\n      <td>USA</td>\n      <td>NUFORC</td>\n      <td>1</td>\n      <td>NaN</td>\n    </tr>\n    <tr>\n      <th>1</th>\n      <td>2016-06-17</td>\n      <td>Boomerang/V-Shaped</td>\n      <td>Kuna</td>\n      <td>ID</td>\n      <td>USA</td>\n      <td>NUFORC</td>\n      <td>1</td>\n      <td>NaN</td>\n    </tr>\n    <tr>\n      <th>2</th>\n      <td>2016-05-30</td>\n      <td>Boomerang/V-Shaped</td>\n      <td>Lake Stevens</td>\n      <td>WA</td>\n      <td>USA</td>\n      <td>NUFORC</td>\n      <td>1</td>\n      <td>NaN</td>\n    </tr>\n    <tr>\n      <th>3</th>\n      <td>2016-05-27</td>\n      <td>Boomerang/V-Shaped</td>\n      <td>Gerber</td>\n      <td>CA</td>\n      <td>USA</td>\n      <td>NUFORC</td>\n      <td>1</td>\n      <td>NaN</td>\n    </tr>\n    <tr>\n      <th>4</th>\n      <td>2016-05-24</td>\n      <td>Boomerang/V-Shaped</td>\n      <td>Camdenton</td>\n      <td>MO</td>\n      <td>USA</td>\n      <td>NUFORC</td>\n      <td>1</td>\n      <td>NaN</td>\n    </tr>\n  </tbody>\n</table>\n</div>"
     },
     "metadata": {},
     "execution_count": 3
    }
   ],
   "source": [
    "csv_path = \"Datasets/ufo_location_shape.csv\"\n",
    "ufo_df = pd.read_csv(csv_path)\n",
    "ufo_df['Event.Date'] = pd.to_datetime(ufo_df['Event.Date'], format=\"%m/%d/%Y\")\n",
    "ufo_df.head()"
   ]
  },
  {
   "source": [
    "Check how many rows and columns are in the dataframe"
   ],
   "cell_type": "markdown",
   "metadata": {}
  },
  {
   "cell_type": "code",
   "execution_count": 4,
   "metadata": {},
   "outputs": [
    {
     "output_type": "execute_result",
     "data": {
      "text/plain": [
       "(3646, 8)"
      ]
     },
     "metadata": {},
     "execution_count": 4
    }
   ],
   "source": [
    "ufo_df.shape"
   ]
  },
  {
   "source": [
    "Check how many unique countries are in the dataset"
   ],
   "cell_type": "markdown",
   "metadata": {}
  },
  {
   "cell_type": "code",
   "execution_count": 5,
   "metadata": {},
   "outputs": [
    {
     "output_type": "stream",
     "name": "stdout",
     "text": [
      "['USA ' 'Canada ' 'India ' 'Norway ' 'PA ' 'Wales/UK ' 'China '\n 'England/UK ' nan 'Philippines ' 'Iran ' 'Unknown ' 'Mauritius '\n 'Australia ' 'Dominican Republic ' 'Gibralter ' 'New Zealand '\n 'South Africa ' 'Kenya ' 'Israel ' 'Japan ' 'Mexico ' 'Netherlands '\n 'Puerto Rico ' 'MO ' 'OH ' 'Lithuania ' 'Indonesia ' 'Portugal '\n 'Ireland ' 'Thailand ' 'Brazil ' 'Chile ' 'CO ' 'Cambodia ' 'Pakistan '\n 'The Bahamas (Bermuda triangle) ' 'Sweden ' 'NC ' 'NY ' 'OR ' 'Finland '\n 'Turkey ' 'Italy ' 'Croatia ' 'KS ' 'WI ' 'NV ' 'Argentina ' 'Spain '\n 'South Australia ' 'Germany ' 'Tonga ']\n"
     ]
    }
   ],
   "source": [
    "countries = ufo_df['Country'].unique()\n",
    "print(countries)"
   ]
  },
  {
   "source": [
    "Filter for only USA"
   ],
   "cell_type": "markdown",
   "metadata": {}
  },
  {
   "source": [
    "ufo_df_country = ufo_df.loc[(ufo_df['Country']=='USA ')]\n",
    "ufo_df_country.head()"
   ],
   "cell_type": "code",
   "metadata": {},
   "execution_count": 6,
   "outputs": [
    {
     "output_type": "execute_result",
     "data": {
      "text/plain": [
       "  Event.Date                Shape           Location State Country  Source  \\\n",
       "0 2016-06-18  Boomerang/V-Shaped   South Barrington    IL     USA   NUFORC   \n",
       "1 2016-06-17  Boomerang/V-Shaped               Kuna    ID     USA   NUFORC   \n",
       "2 2016-05-30  Boomerang/V-Shaped       Lake Stevens    WA     USA   NUFORC   \n",
       "3 2016-05-27  Boomerang/V-Shaped             Gerber    CA     USA   NUFORC   \n",
       "4 2016-05-24  Boomerang/V-Shaped          Camdenton    MO     USA   NUFORC   \n",
       "\n",
       "  USA  Unnamed: 7  \n",
       "0   1         NaN  \n",
       "1   1         NaN  \n",
       "2   1         NaN  \n",
       "3   1         NaN  \n",
       "4   1         NaN  "
      ],
      "text/html": "<div>\n<style scoped>\n    .dataframe tbody tr th:only-of-type {\n        vertical-align: middle;\n    }\n\n    .dataframe tbody tr th {\n        vertical-align: top;\n    }\n\n    .dataframe thead th {\n        text-align: right;\n    }\n</style>\n<table border=\"1\" class=\"dataframe\">\n  <thead>\n    <tr style=\"text-align: right;\">\n      <th></th>\n      <th>Event.Date</th>\n      <th>Shape</th>\n      <th>Location</th>\n      <th>State</th>\n      <th>Country</th>\n      <th>Source</th>\n      <th>USA</th>\n      <th>Unnamed: 7</th>\n    </tr>\n  </thead>\n  <tbody>\n    <tr>\n      <th>0</th>\n      <td>2016-06-18</td>\n      <td>Boomerang/V-Shaped</td>\n      <td>South Barrington</td>\n      <td>IL</td>\n      <td>USA</td>\n      <td>NUFORC</td>\n      <td>1</td>\n      <td>NaN</td>\n    </tr>\n    <tr>\n      <th>1</th>\n      <td>2016-06-17</td>\n      <td>Boomerang/V-Shaped</td>\n      <td>Kuna</td>\n      <td>ID</td>\n      <td>USA</td>\n      <td>NUFORC</td>\n      <td>1</td>\n      <td>NaN</td>\n    </tr>\n    <tr>\n      <th>2</th>\n      <td>2016-05-30</td>\n      <td>Boomerang/V-Shaped</td>\n      <td>Lake Stevens</td>\n      <td>WA</td>\n      <td>USA</td>\n      <td>NUFORC</td>\n      <td>1</td>\n      <td>NaN</td>\n    </tr>\n    <tr>\n      <th>3</th>\n      <td>2016-05-27</td>\n      <td>Boomerang/V-Shaped</td>\n      <td>Gerber</td>\n      <td>CA</td>\n      <td>USA</td>\n      <td>NUFORC</td>\n      <td>1</td>\n      <td>NaN</td>\n    </tr>\n    <tr>\n      <th>4</th>\n      <td>2016-05-24</td>\n      <td>Boomerang/V-Shaped</td>\n      <td>Camdenton</td>\n      <td>MO</td>\n      <td>USA</td>\n      <td>NUFORC</td>\n      <td>1</td>\n      <td>NaN</td>\n    </tr>\n  </tbody>\n</table>\n</div>"
     },
     "metadata": {},
     "execution_count": 6
    }
   ]
  },
  {
   "source": [
    "Verify rows were removed"
   ],
   "cell_type": "markdown",
   "metadata": {}
  },
  {
   "cell_type": "code",
   "execution_count": 7,
   "metadata": {},
   "outputs": [
    {
     "output_type": "execute_result",
     "data": {
      "text/plain": [
       "(3427, 8)"
      ]
     },
     "metadata": {},
     "execution_count": 7
    }
   ],
   "source": [
    "ufo_df_country.shape"
   ]
  },
  {
   "source": [
    "Drop unneeded columns and check amount of columns/rows"
   ],
   "cell_type": "markdown",
   "metadata": {}
  },
  {
   "cell_type": "code",
   "execution_count": 8,
   "metadata": {},
   "outputs": [],
   "source": [
    "ufo_df_dropped = ufo_df_country.drop(['Unnamed: 7', 'USA', 'Source'], axis = 1)\n",
    "ufo_df_dropped = ufo_df_dropped.rename(columns={'Event.Date': 'Date'})"
   ]
  },
  {
   "cell_type": "code",
   "execution_count": 9,
   "metadata": {},
   "outputs": [
    {
     "output_type": "execute_result",
     "data": {
      "text/plain": [
       "(3427, 5)"
      ]
     },
     "metadata": {},
     "execution_count": 9
    }
   ],
   "source": [
    "ufo_df_dropped.shape"
   ]
  },
  {
   "source": [
    "Drop NaN rows and check rows counts"
   ],
   "cell_type": "markdown",
   "metadata": {}
  },
  {
   "cell_type": "code",
   "execution_count": 10,
   "metadata": {},
   "outputs": [
    {
     "output_type": "execute_result",
     "data": {
      "text/plain": [
       "        Date                Shape           Location State Country\n",
       "0 2016-06-18  Boomerang/V-Shaped   South Barrington    IL     USA \n",
       "1 2016-06-17  Boomerang/V-Shaped               Kuna    ID     USA \n",
       "2 2016-05-30  Boomerang/V-Shaped       Lake Stevens    WA     USA \n",
       "3 2016-05-27  Boomerang/V-Shaped             Gerber    CA     USA \n",
       "4 2016-05-24  Boomerang/V-Shaped          Camdenton    MO     USA "
      ],
      "text/html": "<div>\n<style scoped>\n    .dataframe tbody tr th:only-of-type {\n        vertical-align: middle;\n    }\n\n    .dataframe tbody tr th {\n        vertical-align: top;\n    }\n\n    .dataframe thead th {\n        text-align: right;\n    }\n</style>\n<table border=\"1\" class=\"dataframe\">\n  <thead>\n    <tr style=\"text-align: right;\">\n      <th></th>\n      <th>Date</th>\n      <th>Shape</th>\n      <th>Location</th>\n      <th>State</th>\n      <th>Country</th>\n    </tr>\n  </thead>\n  <tbody>\n    <tr>\n      <th>0</th>\n      <td>2016-06-18</td>\n      <td>Boomerang/V-Shaped</td>\n      <td>South Barrington</td>\n      <td>IL</td>\n      <td>USA</td>\n    </tr>\n    <tr>\n      <th>1</th>\n      <td>2016-06-17</td>\n      <td>Boomerang/V-Shaped</td>\n      <td>Kuna</td>\n      <td>ID</td>\n      <td>USA</td>\n    </tr>\n    <tr>\n      <th>2</th>\n      <td>2016-05-30</td>\n      <td>Boomerang/V-Shaped</td>\n      <td>Lake Stevens</td>\n      <td>WA</td>\n      <td>USA</td>\n    </tr>\n    <tr>\n      <th>3</th>\n      <td>2016-05-27</td>\n      <td>Boomerang/V-Shaped</td>\n      <td>Gerber</td>\n      <td>CA</td>\n      <td>USA</td>\n    </tr>\n    <tr>\n      <th>4</th>\n      <td>2016-05-24</td>\n      <td>Boomerang/V-Shaped</td>\n      <td>Camdenton</td>\n      <td>MO</td>\n      <td>USA</td>\n    </tr>\n  </tbody>\n</table>\n</div>"
     },
     "metadata": {},
     "execution_count": 10
    }
   ],
   "source": [
    "ufo_df_cleaned = ufo_df_dropped.dropna()\n",
    "ufo_df_cleaned.head()\n"
   ]
  },
  {
   "cell_type": "code",
   "execution_count": 11,
   "metadata": {},
   "outputs": [
    {
     "output_type": "execute_result",
     "data": {
      "text/plain": [
       "(3414, 5)"
      ]
     },
     "metadata": {},
     "execution_count": 11
    }
   ],
   "source": [
    "ufo_df_cleaned.shape"
   ]
  },
  {
   "cell_type": "code",
   "execution_count": 12,
   "metadata": {},
   "outputs": [
    {
     "output_type": "execute_result",
     "data": {
      "text/plain": [
       "Date        datetime64[ns]\n",
       "Shape               object\n",
       "Location            object\n",
       "State               object\n",
       "Country             object\n",
       "dtype: object"
      ]
     },
     "metadata": {},
     "execution_count": 12
    }
   ],
   "source": [
    "ufo_df_cleaned.dtypes"
   ]
  },
  {
   "source": [
    "Filter for 2016 and check row counts"
   ],
   "cell_type": "markdown",
   "metadata": {}
  },
  {
   "cell_type": "code",
   "execution_count": 13,
   "metadata": {},
   "outputs": [
    {
     "output_type": "execute_result",
     "data": {
      "text/plain": [
       "        Date         Shape   Location State Country\n",
       "0 2016-01-01      Unknown    Ontario    CA     USA \n",
       "1 2016-01-01      Diamond   Longmont    CO     USA \n",
       "2 2016-01-01  Lights Only     Auburn    WA     USA \n",
       "3 2016-01-01  Lights Only     Smyrna    GA     USA \n",
       "4 2016-01-01       Circle   Richland    WA     USA "
      ],
      "text/html": "<div>\n<style scoped>\n    .dataframe tbody tr th:only-of-type {\n        vertical-align: middle;\n    }\n\n    .dataframe tbody tr th {\n        vertical-align: top;\n    }\n\n    .dataframe thead th {\n        text-align: right;\n    }\n</style>\n<table border=\"1\" class=\"dataframe\">\n  <thead>\n    <tr style=\"text-align: right;\">\n      <th></th>\n      <th>Date</th>\n      <th>Shape</th>\n      <th>Location</th>\n      <th>State</th>\n      <th>Country</th>\n    </tr>\n  </thead>\n  <tbody>\n    <tr>\n      <th>0</th>\n      <td>2016-01-01</td>\n      <td>Unknown</td>\n      <td>Ontario</td>\n      <td>CA</td>\n      <td>USA</td>\n    </tr>\n    <tr>\n      <th>1</th>\n      <td>2016-01-01</td>\n      <td>Diamond</td>\n      <td>Longmont</td>\n      <td>CO</td>\n      <td>USA</td>\n    </tr>\n    <tr>\n      <th>2</th>\n      <td>2016-01-01</td>\n      <td>Lights Only</td>\n      <td>Auburn</td>\n      <td>WA</td>\n      <td>USA</td>\n    </tr>\n    <tr>\n      <th>3</th>\n      <td>2016-01-01</td>\n      <td>Lights Only</td>\n      <td>Smyrna</td>\n      <td>GA</td>\n      <td>USA</td>\n    </tr>\n    <tr>\n      <th>4</th>\n      <td>2016-01-01</td>\n      <td>Circle</td>\n      <td>Richland</td>\n      <td>WA</td>\n      <td>USA</td>\n    </tr>\n  </tbody>\n</table>\n</div>"
     },
     "metadata": {},
     "execution_count": 13
    }
   ],
   "source": [
    "initial_date = \"2016-01-01\"\n",
    "end_date = \"2016-12-31\"\n",
    "ufo_df_date = ufo_df_cleaned.loc[(ufo_df_cleaned['Date']>=initial_date) & (ufo_df_cleaned['Date']<= end_date)]\n",
    "ufo_df_date_sorted = ufo_df_date.sort_values(by=['Date'])\n",
    "ufo_df_date_sorted = ufo_df_date_sorted.reset_index(drop=True)\n",
    "ufo_df_date_sorted.head()"
   ]
  },
  {
   "cell_type": "code",
   "execution_count": 14,
   "metadata": {},
   "outputs": [
    {
     "output_type": "execute_result",
     "data": {
      "text/plain": [
       "(2634, 5)"
      ]
     },
     "metadata": {},
     "execution_count": 14
    }
   ],
   "source": [
    "ufo_df_date_sorted.shape"
   ]
  },
  {
   "cell_type": "code",
   "execution_count": 15,
   "metadata": {},
   "outputs": [
    {
     "output_type": "execute_result",
     "data": {
      "text/plain": [
       "        Date         Shape   Location State Country\n",
       "0 2016-01-01      Unknown    Ontario    CA     USA \n",
       "1 2016-01-01      Diamond   Longmont    CO     USA \n",
       "2 2016-01-01  Lights Only     Auburn    WA     USA \n",
       "3 2016-01-01  Lights Only     Smyrna    GA     USA \n",
       "4 2016-01-01       Circle   Richland    WA     USA "
      ],
      "text/html": "<div>\n<style scoped>\n    .dataframe tbody tr th:only-of-type {\n        vertical-align: middle;\n    }\n\n    .dataframe tbody tr th {\n        vertical-align: top;\n    }\n\n    .dataframe thead th {\n        text-align: right;\n    }\n</style>\n<table border=\"1\" class=\"dataframe\">\n  <thead>\n    <tr style=\"text-align: right;\">\n      <th></th>\n      <th>Date</th>\n      <th>Shape</th>\n      <th>Location</th>\n      <th>State</th>\n      <th>Country</th>\n    </tr>\n  </thead>\n  <tbody>\n    <tr>\n      <th>0</th>\n      <td>2016-01-01</td>\n      <td>Unknown</td>\n      <td>Ontario</td>\n      <td>CA</td>\n      <td>USA</td>\n    </tr>\n    <tr>\n      <th>1</th>\n      <td>2016-01-01</td>\n      <td>Diamond</td>\n      <td>Longmont</td>\n      <td>CO</td>\n      <td>USA</td>\n    </tr>\n    <tr>\n      <th>2</th>\n      <td>2016-01-01</td>\n      <td>Lights Only</td>\n      <td>Auburn</td>\n      <td>WA</td>\n      <td>USA</td>\n    </tr>\n    <tr>\n      <th>3</th>\n      <td>2016-01-01</td>\n      <td>Lights Only</td>\n      <td>Smyrna</td>\n      <td>GA</td>\n      <td>USA</td>\n    </tr>\n    <tr>\n      <th>4</th>\n      <td>2016-01-01</td>\n      <td>Circle</td>\n      <td>Richland</td>\n      <td>WA</td>\n      <td>USA</td>\n    </tr>\n  </tbody>\n</table>\n</div>"
     },
     "metadata": {},
     "execution_count": 15
    }
   ],
   "source": [
    "ufo_df_date_sorted['Location'] = ufo_df_date_sorted['Location'].str.replace(r\"\\(.*\\)\",\"\")\n",
    "ufo_df_date_sorted.head()"
   ]
  },
  {
   "cell_type": "code",
   "execution_count": 16,
   "metadata": {},
   "outputs": [
    {
     "output_type": "execute_result",
     "data": {
      "text/plain": [
       "           Date         Shape    Location State Country\n",
       "2629 2016-07-22  Lights Only      Sedona    AZ     USA \n",
       "2630 2016-07-22         Oval    Billings    MT     USA \n",
       "2631 2016-07-22       Circle      Bangor    ME     USA \n",
       "2632 2016-07-22  Lights Only   Las Vegas    NV     USA \n",
       "2633 2016-07-22  Lights Only      Renton    WA     USA "
      ],
      "text/html": "<div>\n<style scoped>\n    .dataframe tbody tr th:only-of-type {\n        vertical-align: middle;\n    }\n\n    .dataframe tbody tr th {\n        vertical-align: top;\n    }\n\n    .dataframe thead th {\n        text-align: right;\n    }\n</style>\n<table border=\"1\" class=\"dataframe\">\n  <thead>\n    <tr style=\"text-align: right;\">\n      <th></th>\n      <th>Date</th>\n      <th>Shape</th>\n      <th>Location</th>\n      <th>State</th>\n      <th>Country</th>\n    </tr>\n  </thead>\n  <tbody>\n    <tr>\n      <th>2629</th>\n      <td>2016-07-22</td>\n      <td>Lights Only</td>\n      <td>Sedona</td>\n      <td>AZ</td>\n      <td>USA</td>\n    </tr>\n    <tr>\n      <th>2630</th>\n      <td>2016-07-22</td>\n      <td>Oval</td>\n      <td>Billings</td>\n      <td>MT</td>\n      <td>USA</td>\n    </tr>\n    <tr>\n      <th>2631</th>\n      <td>2016-07-22</td>\n      <td>Circle</td>\n      <td>Bangor</td>\n      <td>ME</td>\n      <td>USA</td>\n    </tr>\n    <tr>\n      <th>2632</th>\n      <td>2016-07-22</td>\n      <td>Lights Only</td>\n      <td>Las Vegas</td>\n      <td>NV</td>\n      <td>USA</td>\n    </tr>\n    <tr>\n      <th>2633</th>\n      <td>2016-07-22</td>\n      <td>Lights Only</td>\n      <td>Renton</td>\n      <td>WA</td>\n      <td>USA</td>\n    </tr>\n  </tbody>\n</table>\n</div>"
     },
     "metadata": {},
     "execution_count": 16
    }
   ],
   "source": [
    "ufo_df_date_sorted.tail()"
   ]
  },
  {
   "source": [
    "Add latitude and longitude columns"
   ],
   "cell_type": "markdown",
   "metadata": {}
  },
  {
   "cell_type": "code",
   "execution_count": 17,
   "metadata": {},
   "outputs": [
    {
     "output_type": "execute_result",
     "data": {
      "text/plain": [
       "        Date         Shape   Location State Country Lat Lng\n",
       "0 2016-01-01      Unknown    Ontario    CA     USA         \n",
       "1 2016-01-01      Diamond   Longmont    CO     USA         \n",
       "2 2016-01-01  Lights Only     Auburn    WA     USA         \n",
       "3 2016-01-01  Lights Only     Smyrna    GA     USA         \n",
       "4 2016-01-01       Circle   Richland    WA     USA         "
      ],
      "text/html": "<div>\n<style scoped>\n    .dataframe tbody tr th:only-of-type {\n        vertical-align: middle;\n    }\n\n    .dataframe tbody tr th {\n        vertical-align: top;\n    }\n\n    .dataframe thead th {\n        text-align: right;\n    }\n</style>\n<table border=\"1\" class=\"dataframe\">\n  <thead>\n    <tr style=\"text-align: right;\">\n      <th></th>\n      <th>Date</th>\n      <th>Shape</th>\n      <th>Location</th>\n      <th>State</th>\n      <th>Country</th>\n      <th>Lat</th>\n      <th>Lng</th>\n    </tr>\n  </thead>\n  <tbody>\n    <tr>\n      <th>0</th>\n      <td>2016-01-01</td>\n      <td>Unknown</td>\n      <td>Ontario</td>\n      <td>CA</td>\n      <td>USA</td>\n      <td></td>\n      <td></td>\n    </tr>\n    <tr>\n      <th>1</th>\n      <td>2016-01-01</td>\n      <td>Diamond</td>\n      <td>Longmont</td>\n      <td>CO</td>\n      <td>USA</td>\n      <td></td>\n      <td></td>\n    </tr>\n    <tr>\n      <th>2</th>\n      <td>2016-01-01</td>\n      <td>Lights Only</td>\n      <td>Auburn</td>\n      <td>WA</td>\n      <td>USA</td>\n      <td></td>\n      <td></td>\n    </tr>\n    <tr>\n      <th>3</th>\n      <td>2016-01-01</td>\n      <td>Lights Only</td>\n      <td>Smyrna</td>\n      <td>GA</td>\n      <td>USA</td>\n      <td></td>\n      <td></td>\n    </tr>\n    <tr>\n      <th>4</th>\n      <td>2016-01-01</td>\n      <td>Circle</td>\n      <td>Richland</td>\n      <td>WA</td>\n      <td>USA</td>\n      <td></td>\n      <td></td>\n    </tr>\n  </tbody>\n</table>\n</div>"
     },
     "metadata": {},
     "execution_count": 17
    }
   ],
   "source": [
    "ufo_df_date_sorted['Lat']=\"\"\n",
    "ufo_df_date_sorted['Lng']=\"\"\n",
    "ufo_df_date_sorted.head()"
   ]
  },
  {
   "source": [
    "Find the unique locations and try to clean for unnecessary characters"
   ],
   "cell_type": "markdown",
   "metadata": {}
  },
  {
   "cell_type": "code",
   "execution_count": 18,
   "metadata": {},
   "outputs": [
    {
     "output_type": "execute_result",
     "data": {
      "text/plain": [
       "array(['Ontario ', 'Longmont ', 'Auburn ', ..., 'Spanish Fort ',\n",
       "       'Sedona ', 'Renton '], dtype=object)"
      ]
     },
     "metadata": {},
     "execution_count": 18
    }
   ],
   "source": [
    "locations = ufo_df_date_sorted['Location'].unique()\n",
    "locations"
   ]
  },
  {
   "cell_type": "code",
   "execution_count": 19,
   "metadata": {},
   "outputs": [
    {
     "output_type": "execute_result",
     "data": {
      "text/plain": [
       "           Date         Shape    Location State Country Lat Lng\n",
       "0    2016-01-01      Unknown     Ontario    CA     USA         \n",
       "1    2016-01-01      Diamond    Longmont    CO     USA         \n",
       "2    2016-01-01  Lights Only      Auburn    WA     USA         \n",
       "3    2016-01-01  Lights Only      Smyrna    GA     USA         \n",
       "4    2016-01-01       Circle    Richland    WA     USA         \n",
       "...         ...           ...         ...   ...     ...  ..  ..\n",
       "2629 2016-07-22  Lights Only      Sedona    AZ     USA         \n",
       "2630 2016-07-22         Oval    Billings    MT     USA         \n",
       "2631 2016-07-22       Circle      Bangor    ME     USA         \n",
       "2632 2016-07-22  Lights Only   Las Vegas    NV     USA         \n",
       "2633 2016-07-22  Lights Only      Renton    WA     USA         \n",
       "\n",
       "[2634 rows x 7 columns]"
      ],
      "text/html": "<div>\n<style scoped>\n    .dataframe tbody tr th:only-of-type {\n        vertical-align: middle;\n    }\n\n    .dataframe tbody tr th {\n        vertical-align: top;\n    }\n\n    .dataframe thead th {\n        text-align: right;\n    }\n</style>\n<table border=\"1\" class=\"dataframe\">\n  <thead>\n    <tr style=\"text-align: right;\">\n      <th></th>\n      <th>Date</th>\n      <th>Shape</th>\n      <th>Location</th>\n      <th>State</th>\n      <th>Country</th>\n      <th>Lat</th>\n      <th>Lng</th>\n    </tr>\n  </thead>\n  <tbody>\n    <tr>\n      <th>0</th>\n      <td>2016-01-01</td>\n      <td>Unknown</td>\n      <td>Ontario</td>\n      <td>CA</td>\n      <td>USA</td>\n      <td></td>\n      <td></td>\n    </tr>\n    <tr>\n      <th>1</th>\n      <td>2016-01-01</td>\n      <td>Diamond</td>\n      <td>Longmont</td>\n      <td>CO</td>\n      <td>USA</td>\n      <td></td>\n      <td></td>\n    </tr>\n    <tr>\n      <th>2</th>\n      <td>2016-01-01</td>\n      <td>Lights Only</td>\n      <td>Auburn</td>\n      <td>WA</td>\n      <td>USA</td>\n      <td></td>\n      <td></td>\n    </tr>\n    <tr>\n      <th>3</th>\n      <td>2016-01-01</td>\n      <td>Lights Only</td>\n      <td>Smyrna</td>\n      <td>GA</td>\n      <td>USA</td>\n      <td></td>\n      <td></td>\n    </tr>\n    <tr>\n      <th>4</th>\n      <td>2016-01-01</td>\n      <td>Circle</td>\n      <td>Richland</td>\n      <td>WA</td>\n      <td>USA</td>\n      <td></td>\n      <td></td>\n    </tr>\n    <tr>\n      <th>...</th>\n      <td>...</td>\n      <td>...</td>\n      <td>...</td>\n      <td>...</td>\n      <td>...</td>\n      <td>...</td>\n      <td>...</td>\n    </tr>\n    <tr>\n      <th>2629</th>\n      <td>2016-07-22</td>\n      <td>Lights Only</td>\n      <td>Sedona</td>\n      <td>AZ</td>\n      <td>USA</td>\n      <td></td>\n      <td></td>\n    </tr>\n    <tr>\n      <th>2630</th>\n      <td>2016-07-22</td>\n      <td>Oval</td>\n      <td>Billings</td>\n      <td>MT</td>\n      <td>USA</td>\n      <td></td>\n      <td></td>\n    </tr>\n    <tr>\n      <th>2631</th>\n      <td>2016-07-22</td>\n      <td>Circle</td>\n      <td>Bangor</td>\n      <td>ME</td>\n      <td>USA</td>\n      <td></td>\n      <td></td>\n    </tr>\n    <tr>\n      <th>2632</th>\n      <td>2016-07-22</td>\n      <td>Lights Only</td>\n      <td>Las Vegas</td>\n      <td>NV</td>\n      <td>USA</td>\n      <td></td>\n      <td></td>\n    </tr>\n    <tr>\n      <th>2633</th>\n      <td>2016-07-22</td>\n      <td>Lights Only</td>\n      <td>Renton</td>\n      <td>WA</td>\n      <td>USA</td>\n      <td></td>\n      <td></td>\n    </tr>\n  </tbody>\n</table>\n<p>2634 rows × 7 columns</p>\n</div>"
     },
     "metadata": {},
     "execution_count": 19
    }
   ],
   "source": [
    "ufo_df_date_sorted['Location'] = ufo_df_date_sorted['Location'].str.replace(r\"\\(.*\\)\",\"\")\n",
    "ufo_df_date_sorted"
   ]
  },
  {
   "cell_type": "code",
   "execution_count": 20,
   "metadata": {},
   "outputs": [
    {
     "output_type": "execute_result",
     "data": {
      "text/plain": [
       "array(['Ontario ', 'Longmont ', 'Auburn ', ..., 'Spanish Fort ',\n",
       "       'Sedona ', 'Renton '], dtype=object)"
      ]
     },
     "metadata": {},
     "execution_count": 20
    }
   ],
   "source": [
    "locations = ufo_df_date_sorted['Location'].unique()\n",
    "locations"
   ]
  },
  {
   "source": [
    "Add the latitude and longitude for the location of the sightings from google maps api."
   ],
   "cell_type": "markdown",
   "metadata": {}
  },
  {
   "cell_type": "code",
   "execution_count": 21,
   "metadata": {
    "tags": []
   },
   "outputs": [
    {
     "output_type": "stream",
     "name": "stdout",
     "text": [
      "City not found. Skipping...\n",
      "City not found. Skipping...\n",
      "City not found. Skipping...\n",
      "City not found. Skipping...\n",
      "City not found. Skipping...\n",
      "Process finished!\n"
     ]
    },
    {
     "output_type": "execute_result",
     "data": {
      "text/plain": [
       "        Date         Shape   Location State Country      Lat      Lng\n",
       "0 2016-01-01      Unknown    Ontario    CA     USA   34.0633 -117.651\n",
       "1 2016-01-01      Diamond   Longmont    CO     USA   40.1672 -105.102\n",
       "2 2016-01-01  Lights Only     Auburn    WA     USA   47.3073 -122.228\n",
       "3 2016-01-01  Lights Only     Smyrna    GA     USA    33.884 -84.5144\n",
       "4 2016-01-01       Circle   Richland    WA     USA   46.2804 -119.275"
      ],
      "text/html": "<div>\n<style scoped>\n    .dataframe tbody tr th:only-of-type {\n        vertical-align: middle;\n    }\n\n    .dataframe tbody tr th {\n        vertical-align: top;\n    }\n\n    .dataframe thead th {\n        text-align: right;\n    }\n</style>\n<table border=\"1\" class=\"dataframe\">\n  <thead>\n    <tr style=\"text-align: right;\">\n      <th></th>\n      <th>Date</th>\n      <th>Shape</th>\n      <th>Location</th>\n      <th>State</th>\n      <th>Country</th>\n      <th>Lat</th>\n      <th>Lng</th>\n    </tr>\n  </thead>\n  <tbody>\n    <tr>\n      <th>0</th>\n      <td>2016-01-01</td>\n      <td>Unknown</td>\n      <td>Ontario</td>\n      <td>CA</td>\n      <td>USA</td>\n      <td>34.0633</td>\n      <td>-117.651</td>\n    </tr>\n    <tr>\n      <th>1</th>\n      <td>2016-01-01</td>\n      <td>Diamond</td>\n      <td>Longmont</td>\n      <td>CO</td>\n      <td>USA</td>\n      <td>40.1672</td>\n      <td>-105.102</td>\n    </tr>\n    <tr>\n      <th>2</th>\n      <td>2016-01-01</td>\n      <td>Lights Only</td>\n      <td>Auburn</td>\n      <td>WA</td>\n      <td>USA</td>\n      <td>47.3073</td>\n      <td>-122.228</td>\n    </tr>\n    <tr>\n      <th>3</th>\n      <td>2016-01-01</td>\n      <td>Lights Only</td>\n      <td>Smyrna</td>\n      <td>GA</td>\n      <td>USA</td>\n      <td>33.884</td>\n      <td>-84.5144</td>\n    </tr>\n    <tr>\n      <th>4</th>\n      <td>2016-01-01</td>\n      <td>Circle</td>\n      <td>Richland</td>\n      <td>WA</td>\n      <td>USA</td>\n      <td>46.2804</td>\n      <td>-119.275</td>\n    </tr>\n  </tbody>\n</table>\n</div>"
     },
     "metadata": {},
     "execution_count": 21
    }
   ],
   "source": [
    " # create a params dict that will be updated with new city each iteration\n",
    "params = {\"key\": g_key}\n",
    "\n",
    "# Loop through the cities_pd and run a lat/long search for each city\n",
    "for index, row in ufo_df_date_sorted.iterrows():\n",
    "    try:\n",
    "        base_url = \"https://maps.googleapis.com/maps/api/geocode/json\"\n",
    "\n",
    "        city = row['Location']\n",
    "        state = row['State']\n",
    "\n",
    "        # update address key value\n",
    "        params['address'] = f\"{city},{state}\"\n",
    "\n",
    "        # make request\n",
    "        cities_lat_lng = requests.get(base_url, params=params)\n",
    "        \n",
    "        # convert to json\n",
    "        cities_lat_lng = cities_lat_lng.json()\n",
    "\n",
    "        ufo_df_date_sorted.loc[index, \"Lat\"] = cities_lat_lng[\"results\"][0][\"geometry\"][\"location\"][\"lat\"]\n",
    "        ufo_df_date_sorted.loc[index, \"Lng\"] = cities_lat_lng[\"results\"][0][\"geometry\"][\"location\"][\"lng\"]\n",
    "\n",
    "    except:\n",
    "        print(f'City not found. Skipping...')\n",
    "    time.sleep(0.1)\n",
    "    \n",
    "print(\"Process finished!\")\n",
    "# # Visualize to confirm lat lng appear\n",
    "ufo_df_date_sorted.head()"
   ]
  },
  {
   "cell_type": "code",
   "execution_count": 22,
   "metadata": {},
   "outputs": [
    {
     "output_type": "execute_result",
     "data": {
      "text/plain": [
       "           Date         Shape    Location State Country      Lat      Lng\n",
       "0    2016-01-01      Unknown     Ontario    CA     USA   34.0633 -117.651\n",
       "1    2016-01-01      Diamond    Longmont    CO     USA   40.1672 -105.102\n",
       "2    2016-01-01  Lights Only      Auburn    WA     USA   47.3073 -122.228\n",
       "3    2016-01-01  Lights Only      Smyrna    GA     USA    33.884 -84.5144\n",
       "4    2016-01-01       Circle    Richland    WA     USA   46.2804 -119.275\n",
       "...         ...           ...         ...   ...     ...      ...      ...\n",
       "2629 2016-07-22  Lights Only      Sedona    AZ     USA   34.8697 -111.761\n",
       "2630 2016-07-22         Oval    Billings    MT     USA   45.7833 -108.501\n",
       "2631 2016-07-22       Circle      Bangor    ME     USA   44.8016 -68.7712\n",
       "2632 2016-07-22  Lights Only   Las Vegas    NV     USA   36.1699  -115.14\n",
       "2633 2016-07-22  Lights Only      Renton    WA     USA   47.4797 -122.208\n",
       "\n",
       "[2634 rows x 7 columns]"
      ],
      "text/html": "<div>\n<style scoped>\n    .dataframe tbody tr th:only-of-type {\n        vertical-align: middle;\n    }\n\n    .dataframe tbody tr th {\n        vertical-align: top;\n    }\n\n    .dataframe thead th {\n        text-align: right;\n    }\n</style>\n<table border=\"1\" class=\"dataframe\">\n  <thead>\n    <tr style=\"text-align: right;\">\n      <th></th>\n      <th>Date</th>\n      <th>Shape</th>\n      <th>Location</th>\n      <th>State</th>\n      <th>Country</th>\n      <th>Lat</th>\n      <th>Lng</th>\n    </tr>\n  </thead>\n  <tbody>\n    <tr>\n      <th>0</th>\n      <td>2016-01-01</td>\n      <td>Unknown</td>\n      <td>Ontario</td>\n      <td>CA</td>\n      <td>USA</td>\n      <td>34.0633</td>\n      <td>-117.651</td>\n    </tr>\n    <tr>\n      <th>1</th>\n      <td>2016-01-01</td>\n      <td>Diamond</td>\n      <td>Longmont</td>\n      <td>CO</td>\n      <td>USA</td>\n      <td>40.1672</td>\n      <td>-105.102</td>\n    </tr>\n    <tr>\n      <th>2</th>\n      <td>2016-01-01</td>\n      <td>Lights Only</td>\n      <td>Auburn</td>\n      <td>WA</td>\n      <td>USA</td>\n      <td>47.3073</td>\n      <td>-122.228</td>\n    </tr>\n    <tr>\n      <th>3</th>\n      <td>2016-01-01</td>\n      <td>Lights Only</td>\n      <td>Smyrna</td>\n      <td>GA</td>\n      <td>USA</td>\n      <td>33.884</td>\n      <td>-84.5144</td>\n    </tr>\n    <tr>\n      <th>4</th>\n      <td>2016-01-01</td>\n      <td>Circle</td>\n      <td>Richland</td>\n      <td>WA</td>\n      <td>USA</td>\n      <td>46.2804</td>\n      <td>-119.275</td>\n    </tr>\n    <tr>\n      <th>...</th>\n      <td>...</td>\n      <td>...</td>\n      <td>...</td>\n      <td>...</td>\n      <td>...</td>\n      <td>...</td>\n      <td>...</td>\n    </tr>\n    <tr>\n      <th>2629</th>\n      <td>2016-07-22</td>\n      <td>Lights Only</td>\n      <td>Sedona</td>\n      <td>AZ</td>\n      <td>USA</td>\n      <td>34.8697</td>\n      <td>-111.761</td>\n    </tr>\n    <tr>\n      <th>2630</th>\n      <td>2016-07-22</td>\n      <td>Oval</td>\n      <td>Billings</td>\n      <td>MT</td>\n      <td>USA</td>\n      <td>45.7833</td>\n      <td>-108.501</td>\n    </tr>\n    <tr>\n      <th>2631</th>\n      <td>2016-07-22</td>\n      <td>Circle</td>\n      <td>Bangor</td>\n      <td>ME</td>\n      <td>USA</td>\n      <td>44.8016</td>\n      <td>-68.7712</td>\n    </tr>\n    <tr>\n      <th>2632</th>\n      <td>2016-07-22</td>\n      <td>Lights Only</td>\n      <td>Las Vegas</td>\n      <td>NV</td>\n      <td>USA</td>\n      <td>36.1699</td>\n      <td>-115.14</td>\n    </tr>\n    <tr>\n      <th>2633</th>\n      <td>2016-07-22</td>\n      <td>Lights Only</td>\n      <td>Renton</td>\n      <td>WA</td>\n      <td>USA</td>\n      <td>47.4797</td>\n      <td>-122.208</td>\n    </tr>\n  </tbody>\n</table>\n<p>2634 rows × 7 columns</p>\n</div>"
     },
     "metadata": {},
     "execution_count": 22
    }
   ],
   "source": [
    "ufo_df_date_sorted"
   ]
  },
  {
   "source": [
    "Add columns for closest airports and do nearby search for airports within 50 miles."
   ],
   "cell_type": "markdown",
   "metadata": {}
  },
  {
   "cell_type": "code",
   "execution_count": 23,
   "metadata": {},
   "outputs": [
    {
     "output_type": "execute_result",
     "data": {
      "text/plain": [
       "        Date         Shape   Location State Country      Lat      Lng  \\\n",
       "0 2016-01-01      Unknown    Ontario    CA     USA   34.0633 -117.651   \n",
       "1 2016-01-01      Diamond   Longmont    CO     USA   40.1672 -105.102   \n",
       "2 2016-01-01  Lights Only     Auburn    WA     USA   47.3073 -122.228   \n",
       "3 2016-01-01  Lights Only     Smyrna    GA     USA    33.884 -84.5144   \n",
       "4 2016-01-01       Circle   Richland    WA     USA   46.2804 -119.275   \n",
       "\n",
       "  Closest Airport Closest Airport Address  \n",
       "0                                          \n",
       "1                                          \n",
       "2                                          \n",
       "3                                          \n",
       "4                                          "
      ],
      "text/html": "<div>\n<style scoped>\n    .dataframe tbody tr th:only-of-type {\n        vertical-align: middle;\n    }\n\n    .dataframe tbody tr th {\n        vertical-align: top;\n    }\n\n    .dataframe thead th {\n        text-align: right;\n    }\n</style>\n<table border=\"1\" class=\"dataframe\">\n  <thead>\n    <tr style=\"text-align: right;\">\n      <th></th>\n      <th>Date</th>\n      <th>Shape</th>\n      <th>Location</th>\n      <th>State</th>\n      <th>Country</th>\n      <th>Lat</th>\n      <th>Lng</th>\n      <th>Closest Airport</th>\n      <th>Closest Airport Address</th>\n    </tr>\n  </thead>\n  <tbody>\n    <tr>\n      <th>0</th>\n      <td>2016-01-01</td>\n      <td>Unknown</td>\n      <td>Ontario</td>\n      <td>CA</td>\n      <td>USA</td>\n      <td>34.0633</td>\n      <td>-117.651</td>\n      <td></td>\n      <td></td>\n    </tr>\n    <tr>\n      <th>1</th>\n      <td>2016-01-01</td>\n      <td>Diamond</td>\n      <td>Longmont</td>\n      <td>CO</td>\n      <td>USA</td>\n      <td>40.1672</td>\n      <td>-105.102</td>\n      <td></td>\n      <td></td>\n    </tr>\n    <tr>\n      <th>2</th>\n      <td>2016-01-01</td>\n      <td>Lights Only</td>\n      <td>Auburn</td>\n      <td>WA</td>\n      <td>USA</td>\n      <td>47.3073</td>\n      <td>-122.228</td>\n      <td></td>\n      <td></td>\n    </tr>\n    <tr>\n      <th>3</th>\n      <td>2016-01-01</td>\n      <td>Lights Only</td>\n      <td>Smyrna</td>\n      <td>GA</td>\n      <td>USA</td>\n      <td>33.884</td>\n      <td>-84.5144</td>\n      <td></td>\n      <td></td>\n    </tr>\n    <tr>\n      <th>4</th>\n      <td>2016-01-01</td>\n      <td>Circle</td>\n      <td>Richland</td>\n      <td>WA</td>\n      <td>USA</td>\n      <td>46.2804</td>\n      <td>-119.275</td>\n      <td></td>\n      <td></td>\n    </tr>\n  </tbody>\n</table>\n</div>"
     },
     "metadata": {},
     "execution_count": 23
    }
   ],
   "source": [
    "ufo_df_date_sorted['Closest Airport'] = \"\"\n",
    "ufo_df_date_sorted['Closest Airport Address'] = \"\"\n",
    "ufo_df_date_sorted.head()"
   ]
  },
  {
   "cell_type": "code",
   "execution_count": 24,
   "metadata": {
    "tags": []
   },
   "outputs": [
    {
     "output_type": "stream",
     "name": "stdout",
     "text": [
      "Missing field/result... skipping.\n",
      "Missing field/result... skipping.\n",
      "Missing field/result... skipping.\n",
      "Missing field/result... skipping.\n",
      "Missing field/result... skipping.\n",
      "Missing field/result... skipping.\n",
      "Missing field/result... skipping.\n",
      "Missing field/result... skipping.\n",
      "Missing field/result... skipping.\n",
      "Missing field/result... skipping.\n",
      "Missing field/result... skipping.\n",
      "Missing field/result... skipping.\n",
      "Missing field/result... skipping.\n",
      "Missing field/result... skipping.\n",
      "Missing field/result... skipping.\n",
      "Missing field/result... skipping.\n",
      "Missing field/result... skipping.\n",
      "Missing field/result... skipping.\n",
      "Missing field/result... skipping.\n",
      "Missing field/result... skipping.\n",
      "Missing field/result... skipping.\n",
      "Missing field/result... skipping.\n",
      "Missing field/result... skipping.\n",
      "Missing field/result... skipping.\n",
      "Missing field/result... skipping.\n",
      "Missing field/result... skipping.\n",
      "Missing field/result... skipping.\n",
      "Missing field/result... skipping.\n",
      "Missing field/result... skipping.\n",
      "Missing field/result... skipping.\n",
      "Missing field/result... skipping.\n",
      "Missing field/result... skipping.\n",
      "Missing field/result... skipping.\n",
      "Missing field/result... skipping.\n",
      "Missing field/result... skipping.\n",
      "Missing field/result... skipping.\n",
      "Missing field/result... skipping.\n",
      "Missing field/result... skipping.\n",
      "Missing field/result... skipping.\n",
      "Missing field/result... skipping.\n",
      "Missing field/result... skipping.\n",
      "Missing field/result... skipping.\n",
      "Missing field/result... skipping.\n",
      "Missing field/result... skipping.\n",
      "Missing field/result... skipping.\n",
      "Missing field/result... skipping.\n",
      "Missing field/result... skipping.\n",
      "Missing field/result... skipping.\n",
      "Missing field/result... skipping.\n",
      "Missing field/result... skipping.\n",
      "Missing field/result... skipping.\n",
      "Missing field/result... skipping.\n",
      "Missing field/result... skipping.\n",
      "Missing field/result... skipping.\n",
      "Missing field/result... skipping.\n",
      "Missing field/result... skipping.\n",
      "Missing field/result... skipping.\n",
      "Missing field/result... skipping.\n",
      "Missing field/result... skipping.\n",
      "Missing field/result... skipping.\n",
      "Missing field/result... skipping.\n",
      "Missing field/result... skipping.\n",
      "Missing field/result... skipping.\n",
      "Missing field/result... skipping.\n",
      "Missing field/result... skipping.\n",
      "Missing field/result... skipping.\n",
      "Missing field/result... skipping.\n",
      "Missing field/result... skipping.\n",
      "Missing field/result... skipping.\n",
      "Missing field/result... skipping.\n",
      "Missing field/result... skipping.\n",
      "Missing field/result... skipping.\n",
      "Missing field/result... skipping.\n",
      "Missing field/result... skipping.\n",
      "Missing field/result... skipping.\n",
      "Missing field/result... skipping.\n",
      "Missing field/result... skipping.\n",
      "Missing field/result... skipping.\n",
      "Missing field/result... skipping.\n",
      "Missing field/result... skipping.\n",
      "Missing field/result... skipping.\n",
      "Missing field/result... skipping.\n",
      "Missing field/result... skipping.\n",
      "Missing field/result... skipping.\n",
      "Missing field/result... skipping.\n",
      "Missing field/result... skipping.\n",
      "Missing field/result... skipping.\n",
      "Missing field/result... skipping.\n",
      "Missing field/result... skipping.\n",
      "Missing field/result... skipping.\n",
      "Missing field/result... skipping.\n",
      "Missing field/result... skipping.\n",
      "Missing field/result... skipping.\n",
      "Missing field/result... skipping.\n",
      "Missing field/result... skipping.\n",
      "Missing field/result... skipping.\n",
      "Missing field/result... skipping.\n",
      "Missing field/result... skipping.\n",
      "Missing field/result... skipping.\n",
      "Missing field/result... skipping.\n",
      "Missing field/result... skipping.\n",
      "Missing field/result... skipping.\n",
      "Missing field/result... skipping.\n",
      "Missing field/result... skipping.\n",
      "Missing field/result... skipping.\n",
      "Missing field/result... skipping.\n",
      "Missing field/result... skipping.\n",
      "Missing field/result... skipping.\n",
      "Missing field/result... skipping.\n",
      "Missing field/result... skipping.\n",
      "Missing field/result... skipping.\n",
      "Missing field/result... skipping.\n",
      "Missing field/result... skipping.\n",
      "Missing field/result... skipping.\n",
      "Missing field/result... skipping.\n",
      "Missing field/result... skipping.\n",
      "Missing field/result... skipping.\n",
      "Missing field/result... skipping.\n",
      "Missing field/result... skipping.\n",
      "Missing field/result... skipping.\n",
      "Missing field/result... skipping.\n",
      "Missing field/result... skipping.\n",
      "Missing field/result... skipping.\n",
      "Missing field/result... skipping.\n",
      "Missing field/result... skipping.\n",
      "Missing field/result... skipping.\n",
      "Missing field/result... skipping.\n",
      "Missing field/result... skipping.\n",
      "Missing field/result... skipping.\n",
      "Missing field/result... skipping.\n",
      "Missing field/result... skipping.\n",
      "Missing field/result... skipping.\n",
      "Missing field/result... skipping.\n",
      "Missing field/result... skipping.\n",
      "Missing field/result... skipping.\n",
      "Missing field/result... skipping.\n",
      "Missing field/result... skipping.\n",
      "Missing field/result... skipping.\n",
      "Missing field/result... skipping.\n",
      "Missing field/result... skipping.\n",
      "Missing field/result... skipping.\n",
      "Missing field/result... skipping.\n",
      "Missing field/result... skipping.\n",
      "Missing field/result... skipping.\n",
      "Missing field/result... skipping.\n",
      "Missing field/result... skipping.\n",
      "Missing field/result... skipping.\n",
      "Missing field/result... skipping.\n",
      "Missing field/result... skipping.\n",
      "Missing field/result... skipping.\n",
      "Missing field/result... skipping.\n",
      "Missing field/result... skipping.\n",
      "Missing field/result... skipping.\n",
      "Missing field/result... skipping.\n",
      "Missing field/result... skipping.\n",
      "Missing field/result... skipping.\n",
      "Missing field/result... skipping.\n",
      "Missing field/result... skipping.\n",
      "Missing field/result... skipping.\n",
      "Missing field/result... skipping.\n",
      "Missing field/result... skipping.\n",
      "Missing field/result... skipping.\n",
      "Missing field/result... skipping.\n",
      "Missing field/result... skipping.\n",
      "Missing field/result... skipping.\n",
      "Missing field/result... skipping.\n",
      "Missing field/result... skipping.\n",
      "Missing field/result... skipping.\n",
      "Missing field/result... skipping.\n",
      "Missing field/result... skipping.\n",
      "Missing field/result... skipping.\n",
      "Missing field/result... skipping.\n",
      "Missing field/result... skipping.\n",
      "Missing field/result... skipping.\n",
      "Missing field/result... skipping.\n",
      "Missing field/result... skipping.\n",
      "Missing field/result... skipping.\n",
      "Missing field/result... skipping.\n",
      "Missing field/result... skipping.\n",
      "Missing field/result... skipping.\n",
      "Missing field/result... skipping.\n",
      "Missing field/result... skipping.\n",
      "Missing field/result... skipping.\n",
      "Missing field/result... skipping.\n",
      "Missing field/result... skipping.\n",
      "Missing field/result... skipping.\n",
      "Missing field/result... skipping.\n",
      "Missing field/result... skipping.\n",
      "Missing field/result... skipping.\n",
      "Missing field/result... skipping.\n"
     ]
    }
   ],
   "source": [
    " # create a params dict that will be updated with new city each iteration\n",
    "params = {\n",
    "    \"radius\": 80467.2,\n",
    "    \"types\": \"airport\",\n",
    "    \"key\": g_key\n",
    "}\n",
    "# Loop through the cities_pd and run a lat/long search for each city\n",
    "for index, row in ufo_df_date_sorted.iterrows():\n",
    "    # get lat, lng from df\n",
    "    lat = row[\"Lat\"]\n",
    "    lng = row[\"Lng\"]\n",
    "\n",
    "    # change location each iteration while leaving original params in place\n",
    "    params[\"location\"] = f\"{lat},{lng}\"\n",
    "\n",
    "    # Use the search term: \"International Airport\" and our lat/lng\n",
    "    base_url = \"https://maps.googleapis.com/maps/api/place/nearbysearch/json\"\n",
    "\n",
    "    # make request and print url\n",
    "    name_address = requests.get(base_url, params=params)\n",
    "    \n",
    "#     print the name_address url, avoid doing for public github repos in order to avoid exposing key\n",
    "#     print(name_address.url)\n",
    "\n",
    "    # convert to json\n",
    "    name_address = name_address.json()\n",
    "    # print(json.dumps(name_address, indent=4, sort_keys=True))\n",
    "\n",
    "    # Since some data may be missing we incorporate a try-except to skip any that are missing a data point.\n",
    "    try:\n",
    "        ufo_df_date_sorted.loc[index,'Closest Airport'] = name_address[\"results\"][0][\"name\"]\n",
    "        ufo_df_date_sorted.loc[index,'Closest Airport Address'] = name_address[\"results\"][0][\"vicinity\"]\n",
    "    #     cities_pd.loc[index, \"Airport Rating\"] = name_address[\"results\"][0][\"rating\"]\n",
    "    except (KeyError, IndexError):\n",
    "        print(f'{index}: Missing field/result... skipping.')\n",
    "    time.sleep(0.1)\n",
    "  "
   ]
  },
  {
   "cell_type": "code",
   "execution_count": 25,
   "metadata": {},
   "outputs": [],
   "source": [
    "ufo_df_final = ufo_df_date_sorted.copy()"
   ]
  },
  {
   "cell_type": "code",
   "execution_count": 26,
   "metadata": {},
   "outputs": [
    {
     "output_type": "execute_result",
     "data": {
      "text/plain": [
       "           Date         Shape    Location State Country      Lat      Lng  \\\n",
       "0    2016-01-01      Unknown     Ontario    CA     USA   34.0633 -117.651   \n",
       "1    2016-01-01      Diamond    Longmont    CO     USA   40.1672 -105.102   \n",
       "2    2016-01-01  Lights Only      Auburn    WA     USA   47.3073 -122.228   \n",
       "3    2016-01-01  Lights Only      Smyrna    GA     USA    33.884 -84.5144   \n",
       "4    2016-01-01       Circle    Richland    WA     USA   46.2804 -119.275   \n",
       "...         ...           ...         ...   ...     ...      ...      ...   \n",
       "2629 2016-07-22  Lights Only      Sedona    AZ     USA   34.8697 -111.761   \n",
       "2630 2016-07-22         Oval    Billings    MT     USA   45.7833 -108.501   \n",
       "2631 2016-07-22       Circle      Bangor    ME     USA   44.8016 -68.7712   \n",
       "2632 2016-07-22  Lights Only   Las Vegas    NV     USA   36.1699  -115.14   \n",
       "2633 2016-07-22  Lights Only      Renton    WA     USA   47.4797 -122.208   \n",
       "\n",
       "                                       Closest Airport  \\\n",
       "0                                                        \n",
       "1                        Boulder Municipal Airport-BDU   \n",
       "2                 Seattle-Tacoma International Airport   \n",
       "3     Hartsfield-Jackson Atlanta International Airport   \n",
       "4                                   Tri-Cities Airport   \n",
       "...                                                ...   \n",
       "2629                         Flagstaff Pulliam Airport   \n",
       "2630                                          Terminal   \n",
       "2631            Lucky Landing Marina and Seaplane Base   \n",
       "2632                              Big Land Desert City   \n",
       "2633              Seattle-Tacoma International Airport   \n",
       "\n",
       "                       Closest Airport Address  \n",
       "0                                               \n",
       "1                   3327 Airport Road, Boulder  \n",
       "2       17801 International Boulevard, Seattle  \n",
       "3         6000 North Terminal Parkway, Atlanta  \n",
       "4                3601 North 20th Avenue, Pasco  \n",
       "...                                        ...  \n",
       "2629       6200 South Pulliam Drive, Flagstaff  \n",
       "2630            1901 Terminal Circle, Billings  \n",
       "2631                                  Glenburn  \n",
       "2632  160 Las Vegas Boulevard North, Las Vegas  \n",
       "2633    17801 International Boulevard, Seattle  \n",
       "\n",
       "[2634 rows x 9 columns]"
      ],
      "text/html": "<div>\n<style scoped>\n    .dataframe tbody tr th:only-of-type {\n        vertical-align: middle;\n    }\n\n    .dataframe tbody tr th {\n        vertical-align: top;\n    }\n\n    .dataframe thead th {\n        text-align: right;\n    }\n</style>\n<table border=\"1\" class=\"dataframe\">\n  <thead>\n    <tr style=\"text-align: right;\">\n      <th></th>\n      <th>Date</th>\n      <th>Shape</th>\n      <th>Location</th>\n      <th>State</th>\n      <th>Country</th>\n      <th>Lat</th>\n      <th>Lng</th>\n      <th>Closest Airport</th>\n      <th>Closest Airport Address</th>\n    </tr>\n  </thead>\n  <tbody>\n    <tr>\n      <th>0</th>\n      <td>2016-01-01</td>\n      <td>Unknown</td>\n      <td>Ontario</td>\n      <td>CA</td>\n      <td>USA</td>\n      <td>34.0633</td>\n      <td>-117.651</td>\n      <td></td>\n      <td></td>\n    </tr>\n    <tr>\n      <th>1</th>\n      <td>2016-01-01</td>\n      <td>Diamond</td>\n      <td>Longmont</td>\n      <td>CO</td>\n      <td>USA</td>\n      <td>40.1672</td>\n      <td>-105.102</td>\n      <td>Boulder Municipal Airport-BDU</td>\n      <td>3327 Airport Road, Boulder</td>\n    </tr>\n    <tr>\n      <th>2</th>\n      <td>2016-01-01</td>\n      <td>Lights Only</td>\n      <td>Auburn</td>\n      <td>WA</td>\n      <td>USA</td>\n      <td>47.3073</td>\n      <td>-122.228</td>\n      <td>Seattle-Tacoma International Airport</td>\n      <td>17801 International Boulevard, Seattle</td>\n    </tr>\n    <tr>\n      <th>3</th>\n      <td>2016-01-01</td>\n      <td>Lights Only</td>\n      <td>Smyrna</td>\n      <td>GA</td>\n      <td>USA</td>\n      <td>33.884</td>\n      <td>-84.5144</td>\n      <td>Hartsfield-Jackson Atlanta International Airport</td>\n      <td>6000 North Terminal Parkway, Atlanta</td>\n    </tr>\n    <tr>\n      <th>4</th>\n      <td>2016-01-01</td>\n      <td>Circle</td>\n      <td>Richland</td>\n      <td>WA</td>\n      <td>USA</td>\n      <td>46.2804</td>\n      <td>-119.275</td>\n      <td>Tri-Cities Airport</td>\n      <td>3601 North 20th Avenue, Pasco</td>\n    </tr>\n    <tr>\n      <th>...</th>\n      <td>...</td>\n      <td>...</td>\n      <td>...</td>\n      <td>...</td>\n      <td>...</td>\n      <td>...</td>\n      <td>...</td>\n      <td>...</td>\n      <td>...</td>\n    </tr>\n    <tr>\n      <th>2629</th>\n      <td>2016-07-22</td>\n      <td>Lights Only</td>\n      <td>Sedona</td>\n      <td>AZ</td>\n      <td>USA</td>\n      <td>34.8697</td>\n      <td>-111.761</td>\n      <td>Flagstaff Pulliam Airport</td>\n      <td>6200 South Pulliam Drive, Flagstaff</td>\n    </tr>\n    <tr>\n      <th>2630</th>\n      <td>2016-07-22</td>\n      <td>Oval</td>\n      <td>Billings</td>\n      <td>MT</td>\n      <td>USA</td>\n      <td>45.7833</td>\n      <td>-108.501</td>\n      <td>Terminal</td>\n      <td>1901 Terminal Circle, Billings</td>\n    </tr>\n    <tr>\n      <th>2631</th>\n      <td>2016-07-22</td>\n      <td>Circle</td>\n      <td>Bangor</td>\n      <td>ME</td>\n      <td>USA</td>\n      <td>44.8016</td>\n      <td>-68.7712</td>\n      <td>Lucky Landing Marina and Seaplane Base</td>\n      <td>Glenburn</td>\n    </tr>\n    <tr>\n      <th>2632</th>\n      <td>2016-07-22</td>\n      <td>Lights Only</td>\n      <td>Las Vegas</td>\n      <td>NV</td>\n      <td>USA</td>\n      <td>36.1699</td>\n      <td>-115.14</td>\n      <td>Big Land Desert City</td>\n      <td>160 Las Vegas Boulevard North, Las Vegas</td>\n    </tr>\n    <tr>\n      <th>2633</th>\n      <td>2016-07-22</td>\n      <td>Lights Only</td>\n      <td>Renton</td>\n      <td>WA</td>\n      <td>USA</td>\n      <td>47.4797</td>\n      <td>-122.208</td>\n      <td>Seattle-Tacoma International Airport</td>\n      <td>17801 International Boulevard, Seattle</td>\n    </tr>\n  </tbody>\n</table>\n<p>2634 rows × 9 columns</p>\n</div>"
     },
     "metadata": {},
     "execution_count": 26
    }
   ],
   "source": [
    "ufo_df_final"
   ]
  },
  {
   "source": [
    "Add columns for closest airports and do nearby search for military installation within 50 miles."
   ],
   "cell_type": "markdown",
   "metadata": {}
  },
  {
   "cell_type": "code",
   "execution_count": 27,
   "metadata": {},
   "outputs": [
    {
     "output_type": "execute_result",
     "data": {
      "text/plain": [
       "        Date         Shape   Location State Country      Lat      Lng  \\\n",
       "0 2016-01-01      Unknown    Ontario    CA     USA   34.0633 -117.651   \n",
       "1 2016-01-01      Diamond   Longmont    CO     USA   40.1672 -105.102   \n",
       "2 2016-01-01  Lights Only     Auburn    WA     USA   47.3073 -122.228   \n",
       "3 2016-01-01  Lights Only     Smyrna    GA     USA    33.884 -84.5144   \n",
       "4 2016-01-01       Circle   Richland    WA     USA   46.2804 -119.275   \n",
       "\n",
       "                                    Closest Airport  \\\n",
       "0                                                     \n",
       "1                     Boulder Municipal Airport-BDU   \n",
       "2              Seattle-Tacoma International Airport   \n",
       "3  Hartsfield-Jackson Atlanta International Airport   \n",
       "4                                Tri-Cities Airport   \n",
       "\n",
       "                  Closest Airport Address Closest Military Base  \\\n",
       "0                                                                 \n",
       "1              3327 Airport Road, Boulder                         \n",
       "2  17801 International Boulevard, Seattle                         \n",
       "3    6000 North Terminal Parkway, Atlanta                         \n",
       "4           3601 North 20th Avenue, Pasco                         \n",
       "\n",
       "  Closest Military Base Address  \n",
       "0                                \n",
       "1                                \n",
       "2                                \n",
       "3                                \n",
       "4                                "
      ],
      "text/html": "<div>\n<style scoped>\n    .dataframe tbody tr th:only-of-type {\n        vertical-align: middle;\n    }\n\n    .dataframe tbody tr th {\n        vertical-align: top;\n    }\n\n    .dataframe thead th {\n        text-align: right;\n    }\n</style>\n<table border=\"1\" class=\"dataframe\">\n  <thead>\n    <tr style=\"text-align: right;\">\n      <th></th>\n      <th>Date</th>\n      <th>Shape</th>\n      <th>Location</th>\n      <th>State</th>\n      <th>Country</th>\n      <th>Lat</th>\n      <th>Lng</th>\n      <th>Closest Airport</th>\n      <th>Closest Airport Address</th>\n      <th>Closest Military Base</th>\n      <th>Closest Military Base Address</th>\n    </tr>\n  </thead>\n  <tbody>\n    <tr>\n      <th>0</th>\n      <td>2016-01-01</td>\n      <td>Unknown</td>\n      <td>Ontario</td>\n      <td>CA</td>\n      <td>USA</td>\n      <td>34.0633</td>\n      <td>-117.651</td>\n      <td></td>\n      <td></td>\n      <td></td>\n      <td></td>\n    </tr>\n    <tr>\n      <th>1</th>\n      <td>2016-01-01</td>\n      <td>Diamond</td>\n      <td>Longmont</td>\n      <td>CO</td>\n      <td>USA</td>\n      <td>40.1672</td>\n      <td>-105.102</td>\n      <td>Boulder Municipal Airport-BDU</td>\n      <td>3327 Airport Road, Boulder</td>\n      <td></td>\n      <td></td>\n    </tr>\n    <tr>\n      <th>2</th>\n      <td>2016-01-01</td>\n      <td>Lights Only</td>\n      <td>Auburn</td>\n      <td>WA</td>\n      <td>USA</td>\n      <td>47.3073</td>\n      <td>-122.228</td>\n      <td>Seattle-Tacoma International Airport</td>\n      <td>17801 International Boulevard, Seattle</td>\n      <td></td>\n      <td></td>\n    </tr>\n    <tr>\n      <th>3</th>\n      <td>2016-01-01</td>\n      <td>Lights Only</td>\n      <td>Smyrna</td>\n      <td>GA</td>\n      <td>USA</td>\n      <td>33.884</td>\n      <td>-84.5144</td>\n      <td>Hartsfield-Jackson Atlanta International Airport</td>\n      <td>6000 North Terminal Parkway, Atlanta</td>\n      <td></td>\n      <td></td>\n    </tr>\n    <tr>\n      <th>4</th>\n      <td>2016-01-01</td>\n      <td>Circle</td>\n      <td>Richland</td>\n      <td>WA</td>\n      <td>USA</td>\n      <td>46.2804</td>\n      <td>-119.275</td>\n      <td>Tri-Cities Airport</td>\n      <td>3601 North 20th Avenue, Pasco</td>\n      <td></td>\n      <td></td>\n    </tr>\n  </tbody>\n</table>\n</div>"
     },
     "metadata": {},
     "execution_count": 27
    }
   ],
   "source": [
    "ufo_df_final['Closest Military Base'] = \"\"\n",
    "ufo_df_final['Closest Military Base Address'] = \"\"\n",
    "ufo_df_final.head()"
   ]
  },
  {
   "cell_type": "code",
   "execution_count": 37,
   "metadata": {},
   "outputs": [
    {
     "output_type": "stream",
     "name": "stdout",
     "text": [
      "Missing field/result... skipping.\n"
     ]
    }
   ],
   "source": [
    " # create a params dict that will be updated with new city each iteration\n",
    "params = {\n",
    "    \"radius\": 80467.2,\n",
    "    \"types\": \"bases\",\n",
    "    \"keyword\": \"military\",\n",
    "    \"key\": g_key\n",
    "}\n",
    "# Loop through the cities_pd and run a lat/long search for each city\n",
    "for index, row in ufo_df_final.iterrows():\n",
    "    # get lat, lng from df\n",
    "    lat = row[\"Lat\"]\n",
    "    lng = row[\"Lng\"]\n",
    "\n",
    "    # change location each iteration while leaving original params in place\n",
    "    params[\"location\"] = f\"{lat},{lng}\"\n",
    "\n",
    "    # Use the search term: \"International Airport\" and our lat/lng\n",
    "    base_url = \"https://maps.googleapis.com/maps/api/place/nearbysearch/json\"\n",
    "\n",
    "    # make request and print url\n",
    "    name_address = requests.get(base_url, params=params)\n",
    "    \n",
    "#     print the name_address url, avoid doing for public github repos in order to avoid exposing key\n",
    "#     print(name_address.url)\n",
    "\n",
    "    # convert to json\n",
    "    name_address = name_address.json()\n",
    "    # print(json.dumps(name_address, indent=4, sort_keys=True))\n",
    "\n",
    "    # Since some data may be missing we incorporate a try-except to skip any that are missing a data point.\n",
    "    try:\n",
    "        ufo_df_final.loc[index,'Closest Military Base']= name_address[\"results\"][0][\"name\"]\n",
    "        ufo_df_final.loc[index,'Closest Military Base Address'] = name_address[\"results\"][0][\"vicinity\"]\n",
    "\n",
    "    except (KeyError, IndexError):\n",
    "        print(f\"{index}: Missing field/result... skipping.\")\n",
    "    time.sleep(0.1)"
   ]
  },
  {
   "cell_type": "code",
   "execution_count": 2,
   "metadata": {},
   "outputs": [
    {
     "output_type": "error",
     "ename": "NameError",
     "evalue": "name 'ufo_df_final' is not defined",
     "traceback": [
      "\u001b[0;31m---------------------------------------------------------------------------\u001b[0m",
      "\u001b[0;31mNameError\u001b[0m                                 Traceback (most recent call last)",
      "\u001b[0;32m<ipython-input-2-ab76af8f3e14>\u001b[0m in \u001b[0;36m<module>\u001b[0;34m\u001b[0m\n\u001b[0;32m----> 1\u001b[0;31m \u001b[0mufo_df_final\u001b[0m\u001b[0;34m\u001b[0m\u001b[0;34m\u001b[0m\u001b[0m\n\u001b[0m",
      "\u001b[0;31mNameError\u001b[0m: name 'ufo_df_final' is not defined"
     ]
    }
   ],
   "source": [
    "ufo_df_final"
   ]
  },
  {
   "cell_type": "code",
   "execution_count": 1,
   "metadata": {},
   "outputs": [
    {
     "output_type": "error",
     "ename": "NameError",
     "evalue": "name 'ufo_df_final' is not defined",
     "traceback": [
      "\u001b[0;31m---------------------------------------------------------------------------\u001b[0m",
      "\u001b[0;31mNameError\u001b[0m                                 Traceback (most recent call last)",
      "\u001b[0;32m<ipython-input-1-ddab292df352>\u001b[0m in \u001b[0;36m<module>\u001b[0;34m\u001b[0m\n\u001b[0;32m----> 1\u001b[0;31m \u001b[0mufo_df_final\u001b[0m\u001b[0;34m.\u001b[0m\u001b[0mto_csv\u001b[0m\u001b[0;34m(\u001b[0m\u001b[0;34m\"ufo_airports.csv\"\u001b[0m\u001b[0;34m)\u001b[0m\u001b[0;34m\u001b[0m\u001b[0;34m\u001b[0m\u001b[0m\n\u001b[0m",
      "\u001b[0;31mNameError\u001b[0m: name 'ufo_df_final' is not defined"
     ]
    }
   ],
   "source": [
    "ufo_df_final.to_csv(\"ufo_airports.csv\")"
   ]
  },
  {
   "cell_type": "code",
   "execution_count": null,
   "metadata": {},
   "outputs": [],
   "source": []
  }
 ]
}