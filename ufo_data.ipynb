{
 "metadata": {
  "language_info": {
   "codemirror_mode": {
    "name": "ipython",
    "version": 3
   },
   "file_extension": ".py",
   "mimetype": "text/x-python",
   "name": "python",
   "nbconvert_exporter": "python",
   "pygments_lexer": "ipython3",
   "version": "3.7.9"
  },
  "orig_nbformat": 2,
  "kernelspec": {
   "name": "python379jvsc74a57bd0e3896c66a75c41725fea970d0c2a2982cf91def990c8dcb709e7b9c0cc3a398d",
   "display_name": "Python 3.7.9 64-bit ('PythonData': conda)"
  }
 },
 "nbformat": 4,
 "nbformat_minor": 2,
 "cells": [
  {
   "cell_type": "code",
   "execution_count": 2,
   "metadata": {},
   "outputs": [],
   "source": [
    "import pandas as pd\n",
    "import numpy as np\n",
    "import requests\n",
    "import json\n"
   ]
  },
  {
   "cell_type": "code",
   "execution_count": 3,
   "metadata": {},
   "outputs": [],
   "source": [
    "# Import API key\n",
    "from api_keys import g_key\n",
    "if g_key == \"YOUR KEY HERE!\":\n",
    "    import sys\n",
    "    sys.path.append(r\"/Users/rosaicelaroman/Desktop/Data_BootCamp/APIs/config_keys/\")\n",
    "    from api_keys_v2 import g_key"
   ]
  },
  {
   "cell_type": "code",
   "execution_count": 4,
   "metadata": {},
   "outputs": [
    {
     "output_type": "execute_result",
     "data": {
      "text/plain": [
       "  Event.Date                Shape           Location State Country  Source  \\\n",
       "0  6/18/2016  Boomerang/V-Shaped   South Barrington    IL     USA   NUFORC   \n",
       "1  6/17/2016  Boomerang/V-Shaped               Kuna    ID     USA   NUFORC   \n",
       "2  5/30/2016  Boomerang/V-Shaped       Lake Stevens    WA     USA   NUFORC   \n",
       "3  5/27/2016  Boomerang/V-Shaped             Gerber    CA     USA   NUFORC   \n",
       "4  5/24/2016  Boomerang/V-Shaped          Camdenton    MO     USA   NUFORC   \n",
       "\n",
       "  USA  Unnamed: 7  \n",
       "0   1         NaN  \n",
       "1   1         NaN  \n",
       "2   1         NaN  \n",
       "3   1         NaN  \n",
       "4   1         NaN  "
      ],
      "text/html": "<div>\n<style scoped>\n    .dataframe tbody tr th:only-of-type {\n        vertical-align: middle;\n    }\n\n    .dataframe tbody tr th {\n        vertical-align: top;\n    }\n\n    .dataframe thead th {\n        text-align: right;\n    }\n</style>\n<table border=\"1\" class=\"dataframe\">\n  <thead>\n    <tr style=\"text-align: right;\">\n      <th></th>\n      <th>Event.Date</th>\n      <th>Shape</th>\n      <th>Location</th>\n      <th>State</th>\n      <th>Country</th>\n      <th>Source</th>\n      <th>USA</th>\n      <th>Unnamed: 7</th>\n    </tr>\n  </thead>\n  <tbody>\n    <tr>\n      <th>0</th>\n      <td>6/18/2016</td>\n      <td>Boomerang/V-Shaped</td>\n      <td>South Barrington</td>\n      <td>IL</td>\n      <td>USA</td>\n      <td>NUFORC</td>\n      <td>1</td>\n      <td>NaN</td>\n    </tr>\n    <tr>\n      <th>1</th>\n      <td>6/17/2016</td>\n      <td>Boomerang/V-Shaped</td>\n      <td>Kuna</td>\n      <td>ID</td>\n      <td>USA</td>\n      <td>NUFORC</td>\n      <td>1</td>\n      <td>NaN</td>\n    </tr>\n    <tr>\n      <th>2</th>\n      <td>5/30/2016</td>\n      <td>Boomerang/V-Shaped</td>\n      <td>Lake Stevens</td>\n      <td>WA</td>\n      <td>USA</td>\n      <td>NUFORC</td>\n      <td>1</td>\n      <td>NaN</td>\n    </tr>\n    <tr>\n      <th>3</th>\n      <td>5/27/2016</td>\n      <td>Boomerang/V-Shaped</td>\n      <td>Gerber</td>\n      <td>CA</td>\n      <td>USA</td>\n      <td>NUFORC</td>\n      <td>1</td>\n      <td>NaN</td>\n    </tr>\n    <tr>\n      <th>4</th>\n      <td>5/24/2016</td>\n      <td>Boomerang/V-Shaped</td>\n      <td>Camdenton</td>\n      <td>MO</td>\n      <td>USA</td>\n      <td>NUFORC</td>\n      <td>1</td>\n      <td>NaN</td>\n    </tr>\n  </tbody>\n</table>\n</div>"
     },
     "metadata": {},
     "execution_count": 4
    }
   ],
   "source": [
    "csv_path = \"Datasets/ufo_location_shape.csv\"\n",
    "ufo_df = pd.read_csv(csv_path)\n",
    "ufo_df.head()"
   ]
  },
  {
   "cell_type": "code",
   "execution_count": 5,
   "metadata": {},
   "outputs": [
    {
     "output_type": "execute_result",
     "data": {
      "text/plain": [
       "(3646, 8)"
      ]
     },
     "metadata": {},
     "execution_count": 5
    }
   ],
   "source": [
    "ufo_df.shape"
   ]
  },
  {
   "cell_type": "code",
   "execution_count": 6,
   "metadata": {},
   "outputs": [
    {
     "output_type": "stream",
     "name": "stdout",
     "text": [
      "['USA ' 'Canada ' 'India ' 'Norway ' 'PA ' 'Wales/UK ' 'China '\n 'England/UK ' nan 'Philippines ' 'Iran ' 'Unknown ' 'Mauritius '\n 'Australia ' 'Dominican Republic ' 'Gibralter ' 'New Zealand '\n 'South Africa ' 'Kenya ' 'Israel ' 'Japan ' 'Mexico ' 'Netherlands '\n 'Puerto Rico ' 'MO ' 'OH ' 'Lithuania ' 'Indonesia ' 'Portugal '\n 'Ireland ' 'Thailand ' 'Brazil ' 'Chile ' 'CO ' 'Cambodia ' 'Pakistan '\n 'The Bahamas (Bermuda triangle) ' 'Sweden ' 'NC ' 'NY ' 'OR ' 'Finland '\n 'Turkey ' 'Italy ' 'Croatia ' 'KS ' 'WI ' 'NV ' 'Argentina ' 'Spain '\n 'South Australia ' 'Germany ' 'Tonga ']\n"
     ]
    }
   ],
   "source": [
    "countries = ufo_df['Country'].unique()\n",
    "print(countries)"
   ]
  },
  {
   "source": [
    "ufo_df_country = ufo_df.loc[(ufo_df['Country']=='USA ')]\n",
    "ufo_df_country.head()"
   ],
   "cell_type": "code",
   "metadata": {},
   "execution_count": 7,
   "outputs": [
    {
     "output_type": "execute_result",
     "data": {
      "text/plain": [
       "  Event.Date                Shape           Location State Country  Source  \\\n",
       "0  6/18/2016  Boomerang/V-Shaped   South Barrington    IL     USA   NUFORC   \n",
       "1  6/17/2016  Boomerang/V-Shaped               Kuna    ID     USA   NUFORC   \n",
       "2  5/30/2016  Boomerang/V-Shaped       Lake Stevens    WA     USA   NUFORC   \n",
       "3  5/27/2016  Boomerang/V-Shaped             Gerber    CA     USA   NUFORC   \n",
       "4  5/24/2016  Boomerang/V-Shaped          Camdenton    MO     USA   NUFORC   \n",
       "\n",
       "  USA  Unnamed: 7  \n",
       "0   1         NaN  \n",
       "1   1         NaN  \n",
       "2   1         NaN  \n",
       "3   1         NaN  \n",
       "4   1         NaN  "
      ],
      "text/html": "<div>\n<style scoped>\n    .dataframe tbody tr th:only-of-type {\n        vertical-align: middle;\n    }\n\n    .dataframe tbody tr th {\n        vertical-align: top;\n    }\n\n    .dataframe thead th {\n        text-align: right;\n    }\n</style>\n<table border=\"1\" class=\"dataframe\">\n  <thead>\n    <tr style=\"text-align: right;\">\n      <th></th>\n      <th>Event.Date</th>\n      <th>Shape</th>\n      <th>Location</th>\n      <th>State</th>\n      <th>Country</th>\n      <th>Source</th>\n      <th>USA</th>\n      <th>Unnamed: 7</th>\n    </tr>\n  </thead>\n  <tbody>\n    <tr>\n      <th>0</th>\n      <td>6/18/2016</td>\n      <td>Boomerang/V-Shaped</td>\n      <td>South Barrington</td>\n      <td>IL</td>\n      <td>USA</td>\n      <td>NUFORC</td>\n      <td>1</td>\n      <td>NaN</td>\n    </tr>\n    <tr>\n      <th>1</th>\n      <td>6/17/2016</td>\n      <td>Boomerang/V-Shaped</td>\n      <td>Kuna</td>\n      <td>ID</td>\n      <td>USA</td>\n      <td>NUFORC</td>\n      <td>1</td>\n      <td>NaN</td>\n    </tr>\n    <tr>\n      <th>2</th>\n      <td>5/30/2016</td>\n      <td>Boomerang/V-Shaped</td>\n      <td>Lake Stevens</td>\n      <td>WA</td>\n      <td>USA</td>\n      <td>NUFORC</td>\n      <td>1</td>\n      <td>NaN</td>\n    </tr>\n    <tr>\n      <th>3</th>\n      <td>5/27/2016</td>\n      <td>Boomerang/V-Shaped</td>\n      <td>Gerber</td>\n      <td>CA</td>\n      <td>USA</td>\n      <td>NUFORC</td>\n      <td>1</td>\n      <td>NaN</td>\n    </tr>\n    <tr>\n      <th>4</th>\n      <td>5/24/2016</td>\n      <td>Boomerang/V-Shaped</td>\n      <td>Camdenton</td>\n      <td>MO</td>\n      <td>USA</td>\n      <td>NUFORC</td>\n      <td>1</td>\n      <td>NaN</td>\n    </tr>\n  </tbody>\n</table>\n</div>"
     },
     "metadata": {},
     "execution_count": 7
    }
   ]
  },
  {
   "cell_type": "code",
   "execution_count": 8,
   "metadata": {},
   "outputs": [
    {
     "output_type": "execute_result",
     "data": {
      "text/plain": [
       "(3427, 8)"
      ]
     },
     "metadata": {},
     "execution_count": 8
    }
   ],
   "source": [
    "ufo_df_country.shape"
   ]
  },
  {
   "cell_type": "code",
   "execution_count": 9,
   "metadata": {},
   "outputs": [],
   "source": [
    "ufo_df_dropped = ufo_df_country.drop(['Unnamed: 7', 'USA', 'Source'], axis = 1)\n",
    "ufo_df_dropped = ufo_df_dropped.rename(columns={'Event.Date': 'Date'})"
   ]
  },
  {
   "cell_type": "code",
   "execution_count": 10,
   "metadata": {},
   "outputs": [
    {
     "output_type": "execute_result",
     "data": {
      "text/plain": [
       "(3427, 5)"
      ]
     },
     "metadata": {},
     "execution_count": 10
    }
   ],
   "source": [
    "ufo_df_dropped.shape"
   ]
  },
  {
   "cell_type": "code",
   "execution_count": 11,
   "metadata": {},
   "outputs": [
    {
     "output_type": "execute_result",
     "data": {
      "text/plain": [
       "        Date                Shape           Location State Country\n",
       "0  6/18/2016  Boomerang/V-Shaped   South Barrington    IL     USA \n",
       "1  6/17/2016  Boomerang/V-Shaped               Kuna    ID     USA \n",
       "2  5/30/2016  Boomerang/V-Shaped       Lake Stevens    WA     USA \n",
       "3  5/27/2016  Boomerang/V-Shaped             Gerber    CA     USA \n",
       "4  5/24/2016  Boomerang/V-Shaped          Camdenton    MO     USA "
      ],
      "text/html": "<div>\n<style scoped>\n    .dataframe tbody tr th:only-of-type {\n        vertical-align: middle;\n    }\n\n    .dataframe tbody tr th {\n        vertical-align: top;\n    }\n\n    .dataframe thead th {\n        text-align: right;\n    }\n</style>\n<table border=\"1\" class=\"dataframe\">\n  <thead>\n    <tr style=\"text-align: right;\">\n      <th></th>\n      <th>Date</th>\n      <th>Shape</th>\n      <th>Location</th>\n      <th>State</th>\n      <th>Country</th>\n    </tr>\n  </thead>\n  <tbody>\n    <tr>\n      <th>0</th>\n      <td>6/18/2016</td>\n      <td>Boomerang/V-Shaped</td>\n      <td>South Barrington</td>\n      <td>IL</td>\n      <td>USA</td>\n    </tr>\n    <tr>\n      <th>1</th>\n      <td>6/17/2016</td>\n      <td>Boomerang/V-Shaped</td>\n      <td>Kuna</td>\n      <td>ID</td>\n      <td>USA</td>\n    </tr>\n    <tr>\n      <th>2</th>\n      <td>5/30/2016</td>\n      <td>Boomerang/V-Shaped</td>\n      <td>Lake Stevens</td>\n      <td>WA</td>\n      <td>USA</td>\n    </tr>\n    <tr>\n      <th>3</th>\n      <td>5/27/2016</td>\n      <td>Boomerang/V-Shaped</td>\n      <td>Gerber</td>\n      <td>CA</td>\n      <td>USA</td>\n    </tr>\n    <tr>\n      <th>4</th>\n      <td>5/24/2016</td>\n      <td>Boomerang/V-Shaped</td>\n      <td>Camdenton</td>\n      <td>MO</td>\n      <td>USA</td>\n    </tr>\n  </tbody>\n</table>\n</div>"
     },
     "metadata": {},
     "execution_count": 11
    }
   ],
   "source": [
    "ufo_df_cleaned = ufo_df_dropped.dropna()\n",
    "ufo_df_cleaned.head()\n"
   ]
  },
  {
   "cell_type": "code",
   "execution_count": 12,
   "metadata": {},
   "outputs": [
    {
     "output_type": "execute_result",
     "data": {
      "text/plain": [
       "(3414, 5)"
      ]
     },
     "metadata": {},
     "execution_count": 12
    }
   ],
   "source": [
    "ufo_df_cleaned.shape"
   ]
  },
  {
   "cell_type": "code",
   "execution_count": 13,
   "metadata": {},
   "outputs": [
    {
     "output_type": "execute_result",
     "data": {
      "text/plain": [
       "       Date         Shape       Location State Country\n",
       "0  1/1/2016   Orb/Sphere      Covington    WA     USA \n",
       "1  1/1/2016  Lights Only         Smyrna    GA     USA \n",
       "2  1/1/2016  Lights Only     Gillsville    GA     USA \n",
       "3  1/1/2016  Lights Only      Elk Grove    CA     USA \n",
       "4  1/1/2016  Lights Only   Crystal City    MO     USA "
      ],
      "text/html": "<div>\n<style scoped>\n    .dataframe tbody tr th:only-of-type {\n        vertical-align: middle;\n    }\n\n    .dataframe tbody tr th {\n        vertical-align: top;\n    }\n\n    .dataframe thead th {\n        text-align: right;\n    }\n</style>\n<table border=\"1\" class=\"dataframe\">\n  <thead>\n    <tr style=\"text-align: right;\">\n      <th></th>\n      <th>Date</th>\n      <th>Shape</th>\n      <th>Location</th>\n      <th>State</th>\n      <th>Country</th>\n    </tr>\n  </thead>\n  <tbody>\n    <tr>\n      <th>0</th>\n      <td>1/1/2016</td>\n      <td>Orb/Sphere</td>\n      <td>Covington</td>\n      <td>WA</td>\n      <td>USA</td>\n    </tr>\n    <tr>\n      <th>1</th>\n      <td>1/1/2016</td>\n      <td>Lights Only</td>\n      <td>Smyrna</td>\n      <td>GA</td>\n      <td>USA</td>\n    </tr>\n    <tr>\n      <th>2</th>\n      <td>1/1/2016</td>\n      <td>Lights Only</td>\n      <td>Gillsville</td>\n      <td>GA</td>\n      <td>USA</td>\n    </tr>\n    <tr>\n      <th>3</th>\n      <td>1/1/2016</td>\n      <td>Lights Only</td>\n      <td>Elk Grove</td>\n      <td>CA</td>\n      <td>USA</td>\n    </tr>\n    <tr>\n      <th>4</th>\n      <td>1/1/2016</td>\n      <td>Lights Only</td>\n      <td>Crystal City</td>\n      <td>MO</td>\n      <td>USA</td>\n    </tr>\n  </tbody>\n</table>\n</div>"
     },
     "metadata": {},
     "execution_count": 13
    }
   ],
   "source": [
    "initial_date = \"1/1/2016\"\n",
    "end_date = \"12/31/2016\"\n",
    "ufo_df_date = ufo_df_cleaned.loc[(ufo_df_cleaned['Date']>=initial_date) & (ufo_df_cleaned['Date']<= end_date)]\n",
    "ufo_df_date_sorted = ufo_df_date.sort_values(by=['Date'])\n",
    "ufo_df_date_sorted = ufo_df_date_sorted.reset_index(drop=True)\n",
    "ufo_df_date_sorted.head()"
   ]
  },
  {
   "cell_type": "code",
   "execution_count": 14,
   "metadata": {},
   "outputs": [
    {
     "output_type": "execute_result",
     "data": {
      "text/plain": [
       "(804, 5)"
      ]
     },
     "metadata": {},
     "execution_count": 14
    }
   ],
   "source": [
    "ufo_df_date_sorted.shape"
   ]
  },
  {
   "cell_type": "code",
   "execution_count": 15,
   "metadata": {},
   "outputs": [
    {
     "output_type": "execute_result",
     "data": {
      "text/plain": [
       "       Date         Shape       Location State Country Lat Lng\n",
       "0  1/1/2016   Orb/Sphere      Covington    WA     USA         \n",
       "1  1/1/2016  Lights Only         Smyrna    GA     USA         \n",
       "2  1/1/2016  Lights Only     Gillsville    GA     USA         \n",
       "3  1/1/2016  Lights Only      Elk Grove    CA     USA         \n",
       "4  1/1/2016  Lights Only   Crystal City    MO     USA         "
      ],
      "text/html": "<div>\n<style scoped>\n    .dataframe tbody tr th:only-of-type {\n        vertical-align: middle;\n    }\n\n    .dataframe tbody tr th {\n        vertical-align: top;\n    }\n\n    .dataframe thead th {\n        text-align: right;\n    }\n</style>\n<table border=\"1\" class=\"dataframe\">\n  <thead>\n    <tr style=\"text-align: right;\">\n      <th></th>\n      <th>Date</th>\n      <th>Shape</th>\n      <th>Location</th>\n      <th>State</th>\n      <th>Country</th>\n      <th>Lat</th>\n      <th>Lng</th>\n    </tr>\n  </thead>\n  <tbody>\n    <tr>\n      <th>0</th>\n      <td>1/1/2016</td>\n      <td>Orb/Sphere</td>\n      <td>Covington</td>\n      <td>WA</td>\n      <td>USA</td>\n      <td></td>\n      <td></td>\n    </tr>\n    <tr>\n      <th>1</th>\n      <td>1/1/2016</td>\n      <td>Lights Only</td>\n      <td>Smyrna</td>\n      <td>GA</td>\n      <td>USA</td>\n      <td></td>\n      <td></td>\n    </tr>\n    <tr>\n      <th>2</th>\n      <td>1/1/2016</td>\n      <td>Lights Only</td>\n      <td>Gillsville</td>\n      <td>GA</td>\n      <td>USA</td>\n      <td></td>\n      <td></td>\n    </tr>\n    <tr>\n      <th>3</th>\n      <td>1/1/2016</td>\n      <td>Lights Only</td>\n      <td>Elk Grove</td>\n      <td>CA</td>\n      <td>USA</td>\n      <td></td>\n      <td></td>\n    </tr>\n    <tr>\n      <th>4</th>\n      <td>1/1/2016</td>\n      <td>Lights Only</td>\n      <td>Crystal City</td>\n      <td>MO</td>\n      <td>USA</td>\n      <td></td>\n      <td></td>\n    </tr>\n  </tbody>\n</table>\n</div>"
     },
     "metadata": {},
     "execution_count": 15
    }
   ],
   "source": [
    "ufo_df_date_sorted['Lat']=\"\"\n",
    "ufo_df_date_sorted['Lng']=\"\"\n",
    "ufo_df_date_sorted.head()"
   ]
  },
  {
   "cell_type": "code",
   "execution_count": 16,
   "metadata": {},
   "outputs": [
    {
     "output_type": "execute_result",
     "data": {
      "text/plain": [
       "array(['Covington ', 'Smyrna ', 'Gillsville ', 'Elk Grove ',\n",
       "       'Crystal City ', 'Las Vegas ', 'Bayville ', 'Glendale ',\n",
       "       'Florence ', 'Anchorage ', 'Richland ', 'Joppatowne ', 'Medford ',\n",
       "       'Amelia Island ', 'Corinth ', 'Colville ', 'Salt Lake City ',\n",
       "       'Kennewick ', 'Chillicothe ', 'Malabar ', 'Phoenix ',\n",
       "       'Gloucester ', 'Auburn ', 'Arnold ', 'Matthews ', 'Thermopolis ',\n",
       "       'Sacramento ', 'Hereford Township ', 'Fort Pierce ', 'Boise ',\n",
       "       'Swisher ', 'Fenton ', 'Rancho Cucamonga ', 'Vernon ', 'Newburgh ',\n",
       "       'Sodaville ', 'Longmont ', 'Titusville ', 'Hollywood ', 'Chicago ',\n",
       "       'Sac City ', 'Kissimmee ', 'Fortuna ', 'Branchland ', 'Aptos ',\n",
       "       'Pinson ', 'Satellite Beach ', 'Portland ', 'Spokane Valley ',\n",
       "       'Irmo ', 'Ontario ', 'Yelm ', 'Tacoma ', 'Cary ', 'Bremerton ',\n",
       "       'Fuquay Varina ', 'French Creek ', 'Downey ', 'Snohomish ',\n",
       "       'Denver ', 'Four Oaks ', 'Ocala ', 'Cooperstown ',\n",
       "       'North Myrtle Beach ', 'Natchitoches ', 'Biloxi ', 'Fountain ',\n",
       "       'Snellville ', 'Raleigh ', 'Denton ', 'Nashville ', 'Rifton ',\n",
       "       'St. Louis ', 'Wrightsville ', 'Gilbert ', 'Dixmont ', 'Ivanhoe ',\n",
       "       'Kingsburg ', 'Lake Havasu City ', 'Lafayette ', 'Wichita ',\n",
       "       'Lafayette (14 mi. E of) ', 'Houston ', 'Joplin ', 'Columbia ',\n",
       "       'Elk Grove Village ', 'Knoxville ', 'Columbus ',\n",
       "       'Colorado Springs (east of) ', 'Camp Pendleton ',\n",
       "       'Black River Falls ', 'Albuquerque ', 'Maumelle ', 'Danville ',\n",
       "       'Metairie ', 'Seattle ', 'Conway ', 'Longview ', 'Cedar Falls ',\n",
       "       'Sutherlin ', 'Woodland Township ', 'Winter Park ', 'Peoria ',\n",
       "       'Mecca ', 'Sanger ', 'Dayton ', 'Antioch ', 'Hendersonville ',\n",
       "       'Mount Airy ', 'Marion ', 'Philadelphia ', 'North Hollywood ',\n",
       "       'Santa Clarita ', 'Bradenton ', 'Jerome ', 'Burbank ',\n",
       "       'I-495 North (driving on) ', 'Bakersfield ', 'Hawthorne ', 'Road ',\n",
       "       'Round Rock ', 'Carson City ', 'Scranton ', 'Austin ', 'Morganza ',\n",
       "       'Liverpool ', 'Warren ', 'Bend ', 'Manassas Park ', 'Roseburg ',\n",
       "       'Florham Park ', 'Neskowin ', 'Denvile ', 'Mill Spring ',\n",
       "       'Deerfield Beach ', 'Woodside ', 'Greensburg ',\n",
       "       'Amery/Star Prairie ', 'San Francisco ', 'Accord ',\n",
       "       'New York City (Manhattan) ', 'Angleton ', 'Ponte Vedra ',\n",
       "       'Mineola ', 'Joppatown ', 'Panama City Beach ', 'Laurel ',\n",
       "       'Coleman ', 'Hillsboro ', 'Effort ', 'Scottsdale ', 'Manheim ',\n",
       "       'Goodyear ', 'Heber City ', 'Clio ', 'Camby/Indianapolis ',\n",
       "       'Ivor ', 'Little Chute ', 'Foley ', 'Cedar Springs ', 'Millville ',\n",
       "       'Middleburg Heights ', 'Dickinson ', 'Billings ', 'Meadville ',\n",
       "       'Spring Hill ', 'Imperial Beach ', 'Meridian ', 'El Cajon ',\n",
       "       'Cape Coral ', 'Spurger ', 'Aurora ', 'Langhorne ',\n",
       "       'Oklahoma City ', 'Gallatin ', 'Norwich ', 'Lighthouse Point ',\n",
       "       'Ashland ', 'Annapolis ', 'Pound Ridge ', 'Black Canyon City ',\n",
       "       'Scarborough ', 'Whitmire ', 'Doraville ', 'Pittsburgh ', 'Salem ',\n",
       "       'St. Paul ', 'Cornelius ', 'Goose Creek ', 'Tempe ', 'Levittown ',\n",
       "       'Montpelier ', 'Barre Town ', 'Norwich/Thetford ', 'Sunnyside ',\n",
       "       'West Danville ', 'North Canton ', 'Clayton ', 'Asheville ',\n",
       "       'Santa Maria ', 'Maywood ', 'Skokie ', 'Durham ', 'Appleton ',\n",
       "       'Hoquiam ', 'Centreville ', 'Middle Village ', 'Antinito ',\n",
       "       'Council Grove ', 'Quartzsite ', 'Pasadena ', 'Honolulu ',\n",
       "       'Concord ', 'Franklin ', 'Orting ', 'Azusa ', 'Yuma ', 'Stafford ',\n",
       "       'Niles ', 'Huntington ', 'Santa Fe ', 'Spring ', 'Long Beach ',\n",
       "       'Lubbock ', 'Irving ', 'Virginia Beach ', 'Henderson ',\n",
       "       'Lakveville ', 'Damascus ', 'Bolton ', 'Sterling ', 'Loveland ',\n",
       "       'Montevallo ', 'Huntingdon ', 'Whitestone ', 'Reno ',\n",
       "       'Lake Elsinore ', 'Douglas ', 'Ridgecrest ',\n",
       "       'Washington, DC (west side) ', 'Buckeye ', 'Westport ',\n",
       "       'New Braunfels ', 'Ten Mile to Knox ', 'Manchester ', 'Seneca ',\n",
       "       'Boynton Beach ', 'San Diego ', 'Moncks Corner ',\n",
       "       'Route 66 West (Exit 50) ', 'Rohnert Park ', 'Queen Creek ',\n",
       "       'Odessa ', 'Hudsonville ', 'Camdenton ', 'Arden ', 'East Aurora ',\n",
       "       'Ocean & Monmouth Counties ', 'Falmouth ', 'Keaau ',\n",
       "       'Shippensburg ', 'Phoenix (Fort McDowell) ', 'Tome ', 'Amsterdam ',\n",
       "       'Rowlett ', 'Uniontown ', 'Tempe/Phoenix ', 'Forked River ',\n",
       "       'La Luz ', 'Waukesha ', 'Absecon (most reports) ', 'Ayer/Harvard ',\n",
       "       'Littleton ', 'Waukee ', 'Rochester Hills ', 'Umatilla ',\n",
       "       'New Orleans ', 'Trenton ', 'Orono ', 'Springfield ', 'Pontiac ',\n",
       "       'Baltimore (West Hampden) ', 'Fairbanks ', 'Murfreesboro ',\n",
       "       'Helenville ', 'Taos ', 'Barrington ', 'Indio ', 'Cerritos ',\n",
       "       'Jacksonville ', 'Childress ', 'Easton ', 'Forest Acres ',\n",
       "       'Taylors ', 'Delray Beach ', 'Wenonah ', 'Stroudsburg ',\n",
       "       'Woodbury ', 'Castalian Springs ', 'Southington ', 'Newtown ',\n",
       "       'MORRISTOWN ', 'Broomfield ', 'Santee ', 'Chula Vista ',\n",
       "       'Milford ', 'Hagerstown ', 'Ravenna ', 'Middleburg ', 'Naalehu ',\n",
       "       'Rockville ', 'Greenville ', 'Hopkins ', 'La Plata ', 'Pennsburg ',\n",
       "       'Parkersburg ', 'Hillsville ', 'Coopersburg ', 'Clark ', 'Rover ',\n",
       "       'Williamsburg ', 'West Suffield ', 'Port Charlotte ', 'Ten mile ',\n",
       "       'Baltimore ', 'Carmel ', 'Big Lake ', 'Stanton ', 'Allentown ',\n",
       "       'Hampton Bays ', 'Sandpoint ', 'North Shore ', 'Warrensburg ',\n",
       "       'Sarasota ', 'Twin Lake ', 'Orangevale ', 'Stanardsville ',\n",
       "       'New Blaine ', 'Roberts County ', 'Eureka ', 'Burien ',\n",
       "       'Des Moines ', 'Viking Mountain ', 'Suffolk ', 'Grand Terrace ',\n",
       "       'Ventura ', 'Citrus Heights ', 'Frederick ', 'Lake Wylie ',\n",
       "       'Oxford ', 'State College ', 'Blue Hill ', 'Eliot ',\n",
       "       'Maurice River TWP ', 'Jackson ', 'Seymour ', 'Chapin ',\n",
       "       'Windsor Heights ', 'Vassar ', 'Arlington/Marysville ',\n",
       "       'Carolina Beach ', 'Goliad ', 'North Riverside ', 'Bow ',\n",
       "       'Jenkins ', 'Putnam ', 'Phenix city ', 'Holden ', 'Oswego ',\n",
       "       'West Hartford ', 'Hubertus ', 'Waianae ', 'Livingston ',\n",
       "       'Clanton ', 'Brodheadsville ', 'New York City (Brooklyn) ',\n",
       "       'Unity ', 'Candler ', 'Susanville ', 'Surprise ', 'Birmingham ',\n",
       "       'Issaquah ', 'Royal Oak ', 'Corona del Mar ', 'Hampshire ',\n",
       "       'Hutchinson ', 'Pueblo ', 'Bainbridge Island ', 'New Washington ',\n",
       "       'Duluth ', 'Union ', 'Kettering ', 'Buffalo ', 'Pascagoula ',\n",
       "       'Big Sandy ', 'Beverly Shores ', 'Mettawa ', 'Howland ',\n",
       "       'Augusta ', 'Indianapolis ', 'Ashville ', 'Windsor ',\n",
       "       'Golden Valley ', 'Slidell ', 'Copperopolis ', 'Davidsonville ',\n",
       "       'Daly City ', 'Altus ', 'Dallas ', 'Varnville ', 'Lexington Park ',\n",
       "       'Mount Vernon ', 'Quaker City ', 'Prior Lake ', 'Spanaway ',\n",
       "       'Fridley ', 'Arizona?? ', 'Little Torch Key ', 'LaCrosse ',\n",
       "       'Cedar Lake (south of) ', 'Canadian ', 'New Kensington ',\n",
       "       'Poplar ', 'Exeter ', 'Anaheim ', 'Fort Wayne ', 'Ft. Sill ',\n",
       "       'Warwick ', 'Taylor ', 'Ogden ', 'Shiner ', 'Rochester ',\n",
       "       'rockford ', 'Tallahassee ', 'Washington ', 'Naugatuck ',\n",
       "       'Palmetto Bay ', 'Ft. Myers Beach ', 'Wolf Creek ', 'Middletown ',\n",
       "       'Sonoma ', 'Torrance ', 'Continental Divide ', 'Paris ',\n",
       "       'Paris-Winchester ', 'Brownstown ', 'Apple Valley ',\n",
       "       'East Irondequoit ', 'Scipio ', 'Camano Island ', 'Leesville ',\n",
       "       'Brookfield ', 'Bluff City ', 'Parker ', 'Rapid City ',\n",
       "       'Aliso Viejo ', 'Fogelsville ', 'Madison ', 'Elk City ',\n",
       "       'San Jose ', 'Milpitas (Morgan Hill?) ', 'Las Vegas in desert ',\n",
       "       'Bellingham ', 'Ewing ', 'Millsboro ', 'Larned ', 'Camden ',\n",
       "       'Otay Mesa ', 'Michigan City ', 'Chandler ', 'Bandera ',\n",
       "       'Cumming ', 'Lee ', 'Baton Rouge ', 'Milwaukie ', 'Port Isabel ',\n",
       "       'Victoria ', 'Arabi ', 'Pope ', 'Petaluma ', 'Friendship ',\n",
       "       'North Minneapolis ', 'Beaverton ', 'Kingsland ',\n",
       "       'Colorado Springs ', 'Belleville ', 'Elizabeth City ', 'Plymouth ',\n",
       "       'Derry ', 'Whitesburg ', 'Ponte Vedra Beach ', 'Orlando ',\n",
       "       'St. Petersburg ', 'McComb ', 'Sanford ', 'Gorham ', 'Bear ',\n",
       "       'Surrey ', 'Berwyn ', 'Schnecksville ', 'Middleboro ',\n",
       "       'Attelboro ', 'York Valley ', 'Angola ', 'Fairfield ', 'Troutman ',\n",
       "       'Costa Mesa ', 'Dunedin ', 'Lakewood ', 'Vacaville ', 'Elizabeth ',\n",
       "       'Desert Hot Springs ', 'Sky Valley ', 'Bullhead City ', 'Goleta ',\n",
       "       'Napa ', 'Boulder City ', 'Huntington Beach ', 'Palm Springs ',\n",
       "       'Menifee ', 'Moorpark ', 'Harlansburgh ', 'San Tan Valley ',\n",
       "       'Cedar City ', 'Sabine Pass ', 'Weymouth ', 'Richardson ',\n",
       "       'Palm Bay ', 'Modesto ', 'Toluca Lake ', 'St. Charles ',\n",
       "       'Grafton ', 'Mill Run ', 'Tucson ', 'Cranston ', 'Wind Lake ',\n",
       "       'Tomahawk ', 'Omaha ', 'Hastings on Hudson ', 'Shelbyville ',\n",
       "       'Weaverville ', 'Brush Prairie ', 'Cicero ', 'Avondale ',\n",
       "       'Draper ', 'Oceanside ', 'Richmond ', 'Revere ', 'Renton ',\n",
       "       'Mesquite ', 'Sligo ', 'Kalispell ', 'Plum ', 'Gainesville ',\n",
       "       'Los Angeles ', 'Glendora ', 'Norwalk ', 'Upton/Millbury ',\n",
       "       'Garden City ', 'Londonderry ', 'University Place ', 'Blaine ',\n",
       "       'Ellington ', 'Easley ', 'Palm Beach Gardens ', 'Greene ',\n",
       "       'Campobello ', 'DeLuz/Temecula ', 'Elmhurst ', 'Hinesville ',\n",
       "       'Hamden ', \"Benson/McGee's Crossroads \", 'Redmond ', 'Eagan ',\n",
       "       'Iowa City ', 'Gill ', 'Milpitas ', 'LAS VEGAS ',\n",
       "       'Glendale (La Crecenta) ', 'Owensboro ', 'Evansville ',\n",
       "       'Tehachapi ', 'Maryville ', 'Hilldale ', 'Walnut Creek ',\n",
       "       'Palmetto ', 'Cottonwood ', 'Brandon ', 'Cullman ', 'Woodinville ',\n",
       "       \"Lee's Summit \", 'Olympia ', 'Cle Elum ', 'Ocean Shores ',\n",
       "       'Orient ', 'Harpersville ',\n",
       "       'New Mexico border (driving west on I-40: 20 mi. pa ', 'Moline ',\n",
       "       'Miami ', 'Ypsilanti ', 'Plainfield ', 'Bellwood (South Titusvi) ',\n",
       "       'Arbutus ', 'Port Saint Lucie ', 'Saint George ', 'Sequim ',\n",
       "       'Whitewater ', 'Brookhaven ', 'Wilkes-Barre/Hazleton (between) ',\n",
       "       'Guyton ', 'Canaan ', 'Eugene ', 'Sandy ', 'Liberty ', 'Monmouth ',\n",
       "       'Missoula ', 'Gadsden ', 'Selma ', 'Bangor ', 'Post Falls ',\n",
       "       'Simpsonville ', 'Steamboat Springs ', 'San Ysidro ', 'Clovis ',\n",
       "       'Avon/Eagle ', 'Bessemer City ', 'Bay City '], dtype=object)"
      ]
     },
     "metadata": {},
     "execution_count": 16
    }
   ],
   "source": [
    "locations = ufo_df_date_sorted['Location'].unique()\n",
    "locations"
   ]
  },
  {
   "cell_type": "code",
   "execution_count": 17,
   "metadata": {},
   "outputs": [
    {
     "output_type": "execute_result",
     "data": {
      "text/plain": [
       "       Date         Shape       Location State Country Lat Lng\n",
       "0  1/1/2016   Orb/Sphere      Covington    WA     USA         \n",
       "1  1/1/2016  Lights Only         Smyrna    GA     USA         \n",
       "2  1/1/2016  Lights Only     Gillsville    GA     USA         \n",
       "3  1/1/2016  Lights Only      Elk Grove    CA     USA         \n",
       "4  1/1/2016  Lights Only   Crystal City    MO     USA         "
      ],
      "text/html": "<div>\n<style scoped>\n    .dataframe tbody tr th:only-of-type {\n        vertical-align: middle;\n    }\n\n    .dataframe tbody tr th {\n        vertical-align: top;\n    }\n\n    .dataframe thead th {\n        text-align: right;\n    }\n</style>\n<table border=\"1\" class=\"dataframe\">\n  <thead>\n    <tr style=\"text-align: right;\">\n      <th></th>\n      <th>Date</th>\n      <th>Shape</th>\n      <th>Location</th>\n      <th>State</th>\n      <th>Country</th>\n      <th>Lat</th>\n      <th>Lng</th>\n    </tr>\n  </thead>\n  <tbody>\n    <tr>\n      <th>0</th>\n      <td>1/1/2016</td>\n      <td>Orb/Sphere</td>\n      <td>Covington</td>\n      <td>WA</td>\n      <td>USA</td>\n      <td></td>\n      <td></td>\n    </tr>\n    <tr>\n      <th>1</th>\n      <td>1/1/2016</td>\n      <td>Lights Only</td>\n      <td>Smyrna</td>\n      <td>GA</td>\n      <td>USA</td>\n      <td></td>\n      <td></td>\n    </tr>\n    <tr>\n      <th>2</th>\n      <td>1/1/2016</td>\n      <td>Lights Only</td>\n      <td>Gillsville</td>\n      <td>GA</td>\n      <td>USA</td>\n      <td></td>\n      <td></td>\n    </tr>\n    <tr>\n      <th>3</th>\n      <td>1/1/2016</td>\n      <td>Lights Only</td>\n      <td>Elk Grove</td>\n      <td>CA</td>\n      <td>USA</td>\n      <td></td>\n      <td></td>\n    </tr>\n    <tr>\n      <th>4</th>\n      <td>1/1/2016</td>\n      <td>Lights Only</td>\n      <td>Crystal City</td>\n      <td>MO</td>\n      <td>USA</td>\n      <td></td>\n      <td></td>\n    </tr>\n  </tbody>\n</table>\n</div>"
     },
     "metadata": {},
     "execution_count": 17
    }
   ],
   "source": [
    "ufo_df_date_sorted['Location'] = ufo_df_date_sorted['Location'].str.replace(r\"\\(.*\\)\",\"\")\n",
    "ufo_df_date_sorted.head()"
   ]
  },
  {
   "cell_type": "code",
   "execution_count": 18,
   "metadata": {},
   "outputs": [
    {
     "output_type": "execute_result",
     "data": {
      "text/plain": [
       "array(['Covington ', 'Smyrna ', 'Gillsville ', 'Elk Grove ',\n",
       "       'Crystal City ', 'Las Vegas ', 'Bayville ', 'Glendale ',\n",
       "       'Florence ', 'Anchorage ', 'Richland ', 'Joppatowne ', 'Medford ',\n",
       "       'Amelia Island ', 'Corinth ', 'Colville ', 'Salt Lake City ',\n",
       "       'Kennewick ', 'Chillicothe ', 'Malabar ', 'Phoenix ',\n",
       "       'Gloucester ', 'Auburn ', 'Arnold ', 'Matthews ', 'Thermopolis ',\n",
       "       'Sacramento ', 'Hereford Township ', 'Fort Pierce ', 'Boise ',\n",
       "       'Swisher ', 'Fenton ', 'Rancho Cucamonga ', 'Vernon ', 'Newburgh ',\n",
       "       'Sodaville ', 'Longmont ', 'Titusville ', 'Hollywood ', 'Chicago ',\n",
       "       'Sac City ', 'Kissimmee ', 'Fortuna ', 'Branchland ', 'Aptos ',\n",
       "       'Pinson ', 'Satellite Beach ', 'Portland ', 'Spokane Valley ',\n",
       "       'Irmo ', 'Ontario ', 'Yelm ', 'Tacoma ', 'Cary ', 'Bremerton ',\n",
       "       'Fuquay Varina ', 'French Creek ', 'Downey ', 'Snohomish ',\n",
       "       'Denver ', 'Four Oaks ', 'Ocala ', 'Cooperstown ',\n",
       "       'North Myrtle Beach ', 'Natchitoches ', 'Biloxi ', 'Fountain ',\n",
       "       'Snellville ', 'Raleigh ', 'Denton ', 'Nashville ', 'Rifton ',\n",
       "       'St. Louis ', 'Wrightsville ', 'Gilbert ', 'Dixmont ', 'Ivanhoe ',\n",
       "       'Kingsburg ', 'Lake Havasu City ', 'Lafayette ', 'Wichita ',\n",
       "       'Lafayette  ', 'Houston ', 'Joplin ', 'Columbia ',\n",
       "       'Elk Grove Village ', 'Knoxville ', 'Columbus ',\n",
       "       'Colorado Springs  ', 'Camp Pendleton ', 'Black River Falls ',\n",
       "       'Albuquerque ', 'Maumelle ', 'Danville ', 'Metairie ', 'Seattle ',\n",
       "       'Conway ', 'Longview ', 'Cedar Falls ', 'Sutherlin ',\n",
       "       'Woodland Township ', 'Winter Park ', 'Peoria ', 'Mecca ',\n",
       "       'Sanger ', 'Dayton ', 'Antioch ', 'Hendersonville ', 'Mount Airy ',\n",
       "       'Marion ', 'Philadelphia ', 'North Hollywood ', 'Santa Clarita ',\n",
       "       'Bradenton ', 'Jerome ', 'Burbank ', 'I-495 North  ',\n",
       "       'Bakersfield ', 'Hawthorne ', 'Road ', 'Round Rock ',\n",
       "       'Carson City ', 'Scranton ', 'Austin ', 'Morganza ', 'Liverpool ',\n",
       "       'Warren ', 'Bend ', 'Manassas Park ', 'Roseburg ', 'Florham Park ',\n",
       "       'Neskowin ', 'Denvile ', 'Mill Spring ', 'Deerfield Beach ',\n",
       "       'Woodside ', 'Greensburg ', 'Amery/Star Prairie ',\n",
       "       'San Francisco ', 'Accord ', 'New York City  ', 'Angleton ',\n",
       "       'Ponte Vedra ', 'Mineola ', 'Joppatown ', 'Panama City Beach ',\n",
       "       'Laurel ', 'Coleman ', 'Hillsboro ', 'Effort ', 'Scottsdale ',\n",
       "       'Manheim ', 'Goodyear ', 'Heber City ', 'Clio ',\n",
       "       'Camby/Indianapolis ', 'Ivor ', 'Little Chute ', 'Foley ',\n",
       "       'Cedar Springs ', 'Millville ', 'Middleburg Heights ',\n",
       "       'Dickinson ', 'Billings ', 'Meadville ', 'Spring Hill ',\n",
       "       'Imperial Beach ', 'Meridian ', 'El Cajon ', 'Cape Coral ',\n",
       "       'Spurger ', 'Aurora ', 'Langhorne ', 'Oklahoma City ', 'Gallatin ',\n",
       "       'Norwich ', 'Lighthouse Point ', 'Ashland ', 'Annapolis ',\n",
       "       'Pound Ridge ', 'Black Canyon City ', 'Scarborough ', 'Whitmire ',\n",
       "       'Doraville ', 'Pittsburgh ', 'Salem ', 'St. Paul ', 'Cornelius ',\n",
       "       'Goose Creek ', 'Tempe ', 'Levittown ', 'Montpelier ',\n",
       "       'Barre Town ', 'Norwich/Thetford ', 'Sunnyside ', 'West Danville ',\n",
       "       'North Canton ', 'Clayton ', 'Asheville ', 'Santa Maria ',\n",
       "       'Maywood ', 'Skokie ', 'Durham ', 'Appleton ', 'Hoquiam ',\n",
       "       'Centreville ', 'Middle Village ', 'Antinito ', 'Council Grove ',\n",
       "       'Quartzsite ', 'Pasadena ', 'Honolulu ', 'Concord ', 'Franklin ',\n",
       "       'Orting ', 'Azusa ', 'Yuma ', 'Stafford ', 'Niles ', 'Huntington ',\n",
       "       'Santa Fe ', 'Spring ', 'Long Beach ', 'Lubbock ', 'Irving ',\n",
       "       'Virginia Beach ', 'Henderson ', 'Lakveville ', 'Damascus ',\n",
       "       'Bolton ', 'Sterling ', 'Loveland ', 'Montevallo ', 'Huntingdon ',\n",
       "       'Whitestone ', 'Reno ', 'Lake Elsinore ', 'Douglas ',\n",
       "       'Ridgecrest ', 'Washington, DC  ', 'Buckeye ', 'Westport ',\n",
       "       'New Braunfels ', 'Ten Mile to Knox ', 'Manchester ', 'Seneca ',\n",
       "       'Boynton Beach ', 'San Diego ', 'Moncks Corner ',\n",
       "       'Route 66 West  ', 'Rohnert Park ', 'Queen Creek ', 'Odessa ',\n",
       "       'Hudsonville ', 'Camdenton ', 'Arden ', 'East Aurora ',\n",
       "       'Ocean & Monmouth Counties ', 'Falmouth ', 'Keaau ',\n",
       "       'Shippensburg ', 'Phoenix  ', 'Tome ', 'Amsterdam ', 'Rowlett ',\n",
       "       'Uniontown ', 'Tempe/Phoenix ', 'Forked River ', 'La Luz ',\n",
       "       'Waukesha ', 'Absecon  ', 'Ayer/Harvard ', 'Littleton ', 'Waukee ',\n",
       "       'Rochester Hills ', 'Umatilla ', 'New Orleans ', 'Trenton ',\n",
       "       'Orono ', 'Springfield ', 'Pontiac ', 'Baltimore  ', 'Fairbanks ',\n",
       "       'Murfreesboro ', 'Helenville ', 'Taos ', 'Barrington ', 'Indio ',\n",
       "       'Cerritos ', 'Jacksonville ', 'Childress ', 'Easton ',\n",
       "       'Forest Acres ', 'Taylors ', 'Delray Beach ', 'Wenonah ',\n",
       "       'Stroudsburg ', 'Woodbury ', 'Castalian Springs ', 'Southington ',\n",
       "       'Newtown ', 'MORRISTOWN ', 'Broomfield ', 'Santee ',\n",
       "       'Chula Vista ', 'Milford ', 'Hagerstown ', 'Ravenna ',\n",
       "       'Middleburg ', 'Naalehu ', 'Rockville ', 'Greenville ', 'Hopkins ',\n",
       "       'La Plata ', 'Pennsburg ', 'Parkersburg ', 'Hillsville ',\n",
       "       'Coopersburg ', 'Clark ', 'Rover ', 'Williamsburg ',\n",
       "       'West Suffield ', 'Port Charlotte ', 'Ten mile ', 'Baltimore ',\n",
       "       'Carmel ', 'Big Lake ', 'Stanton ', 'Allentown ', 'Hampton Bays ',\n",
       "       'Sandpoint ', 'North Shore ', 'Warrensburg ', 'Sarasota ',\n",
       "       'Twin Lake ', 'Orangevale ', 'Stanardsville ', 'New Blaine ',\n",
       "       'Roberts County ', 'Eureka ', 'Burien ', 'Des Moines ',\n",
       "       'Viking Mountain ', 'Suffolk ', 'Grand Terrace ', 'Ventura ',\n",
       "       'Citrus Heights ', 'Frederick ', 'Lake Wylie ', 'Oxford ',\n",
       "       'State College ', 'Blue Hill ', 'Eliot ', 'Maurice River TWP ',\n",
       "       'Jackson ', 'Seymour ', 'Chapin ', 'Windsor Heights ', 'Vassar ',\n",
       "       'Arlington/Marysville ', 'Carolina Beach ', 'Goliad ',\n",
       "       'North Riverside ', 'Bow ', 'Jenkins ', 'Putnam ', 'Phenix city ',\n",
       "       'Holden ', 'Oswego ', 'West Hartford ', 'Hubertus ', 'Waianae ',\n",
       "       'Livingston ', 'Clanton ', 'Brodheadsville ', 'Unity ', 'Candler ',\n",
       "       'Susanville ', 'Surprise ', 'Birmingham ', 'Issaquah ',\n",
       "       'Royal Oak ', 'Corona del Mar ', 'Hampshire ', 'Hutchinson ',\n",
       "       'Pueblo ', 'Bainbridge Island ', 'New Washington ', 'Duluth ',\n",
       "       'Union ', 'Kettering ', 'Buffalo ', 'Pascagoula ', 'Big Sandy ',\n",
       "       'Beverly Shores ', 'Mettawa ', 'Howland ', 'Augusta ',\n",
       "       'Indianapolis ', 'Ashville ', 'Windsor ', 'Golden Valley ',\n",
       "       'Slidell ', 'Copperopolis ', 'Davidsonville ', 'Daly City ',\n",
       "       'Altus ', 'Dallas ', 'Varnville ', 'Lexington Park ',\n",
       "       'Mount Vernon ', 'Quaker City ', 'Prior Lake ', 'Spanaway ',\n",
       "       'Fridley ', 'Arizona?? ', 'Little Torch Key ', 'LaCrosse ',\n",
       "       'Cedar Lake  ', 'Canadian ', 'New Kensington ', 'Poplar ',\n",
       "       'Exeter ', 'Anaheim ', 'Fort Wayne ', 'Ft. Sill ', 'Warwick ',\n",
       "       'Taylor ', 'Ogden ', 'Shiner ', 'Rochester ', 'rockford ',\n",
       "       'Tallahassee ', 'Washington ', 'Naugatuck ', 'Palmetto Bay ',\n",
       "       'Ft. Myers Beach ', 'Wolf Creek ', 'Middletown ', 'Sonoma ',\n",
       "       'Torrance ', 'Continental Divide ', 'Paris ', 'Paris-Winchester ',\n",
       "       'Brownstown ', 'Apple Valley ', 'East Irondequoit ', 'Scipio ',\n",
       "       'Camano Island ', 'Leesville ', 'Brookfield ', 'Bluff City ',\n",
       "       'Parker ', 'Rapid City ', 'Aliso Viejo ', 'Fogelsville ',\n",
       "       'Madison ', 'Elk City ', 'San Jose ', 'Milpitas  ',\n",
       "       'Las Vegas in desert ', 'Bellingham ', 'Ewing ', 'Millsboro ',\n",
       "       'Larned ', 'Camden ', 'Otay Mesa ', 'Michigan City ', 'Chandler ',\n",
       "       'Bandera ', 'Cumming ', 'Lee ', 'Baton Rouge ', 'Milwaukie ',\n",
       "       'Port Isabel ', 'Victoria ', 'Arabi ', 'Pope ', 'Petaluma ',\n",
       "       'Friendship ', 'North Minneapolis ', 'Beaverton ', 'Kingsland ',\n",
       "       'Colorado Springs ', 'Belleville ', 'Elizabeth City ', 'Plymouth ',\n",
       "       'Derry ', 'Whitesburg ', 'Ponte Vedra Beach ', 'Orlando ',\n",
       "       'St. Petersburg ', 'McComb ', 'Sanford ', 'Gorham ', 'Bear ',\n",
       "       'Surrey ', 'Berwyn ', 'Schnecksville ', 'Middleboro ',\n",
       "       'Attelboro ', 'York Valley ', 'Angola ', 'Fairfield ', 'Troutman ',\n",
       "       'Costa Mesa ', 'Dunedin ', 'Lakewood ', 'Vacaville ', 'Elizabeth ',\n",
       "       'Desert Hot Springs ', 'Sky Valley ', 'Bullhead City ', 'Goleta ',\n",
       "       'Napa ', 'Boulder City ', 'Huntington Beach ', 'Palm Springs ',\n",
       "       'Menifee ', 'Moorpark ', 'Harlansburgh ', 'San Tan Valley ',\n",
       "       'Cedar City ', 'Sabine Pass ', 'Weymouth ', 'Richardson ',\n",
       "       'Palm Bay ', 'Modesto ', 'Toluca Lake ', 'St. Charles ',\n",
       "       'Grafton ', 'Mill Run ', 'Tucson ', 'Cranston ', 'Wind Lake ',\n",
       "       'Tomahawk ', 'Omaha ', 'Hastings on Hudson ', 'Shelbyville ',\n",
       "       'Weaverville ', 'Brush Prairie ', 'Cicero ', 'Avondale ',\n",
       "       'Draper ', 'Oceanside ', 'Richmond ', 'Revere ', 'Renton ',\n",
       "       'Mesquite ', 'Sligo ', 'Kalispell ', 'Plum ', 'Gainesville ',\n",
       "       'Los Angeles ', 'Glendora ', 'Norwalk ', 'Upton/Millbury ',\n",
       "       'Garden City ', 'Londonderry ', 'University Place ', 'Blaine ',\n",
       "       'Ellington ', 'Easley ', 'Palm Beach Gardens ', 'Greene ',\n",
       "       'Campobello ', 'DeLuz/Temecula ', 'Elmhurst ', 'Hinesville ',\n",
       "       'Hamden ', \"Benson/McGee's Crossroads \", 'Redmond ', 'Eagan ',\n",
       "       'Iowa City ', 'Gill ', 'Milpitas ', 'LAS VEGAS ', 'Glendale  ',\n",
       "       'Owensboro ', 'Evansville ', 'Tehachapi ', 'Maryville ',\n",
       "       'Hilldale ', 'Walnut Creek ', 'Palmetto ', 'Cottonwood ',\n",
       "       'Brandon ', 'Cullman ', 'Woodinville ', \"Lee's Summit \",\n",
       "       'Olympia ', 'Cle Elum ', 'Ocean Shores ', 'Orient ',\n",
       "       'Harpersville ',\n",
       "       'New Mexico border (driving west on I-40: 20 mi. pa ', 'Moline ',\n",
       "       'Miami ', 'Ypsilanti ', 'Plainfield ', 'Bellwood  ', 'Arbutus ',\n",
       "       'Port Saint Lucie ', 'Saint George ', 'Sequim ', 'Whitewater ',\n",
       "       'Brookhaven ', 'Wilkes-Barre/Hazleton  ', 'Guyton ', 'Canaan ',\n",
       "       'Eugene ', 'Sandy ', 'Liberty ', 'Monmouth ', 'Missoula ',\n",
       "       'Gadsden ', 'Selma ', 'Bangor ', 'Post Falls ', 'Simpsonville ',\n",
       "       'Steamboat Springs ', 'San Ysidro ', 'Clovis ', 'Avon/Eagle ',\n",
       "       'Bessemer City ', 'Bay City '], dtype=object)"
      ]
     },
     "metadata": {},
     "execution_count": 18
    }
   ],
   "source": [
    "locations = ufo_df_date_sorted['Location'].unique()\n",
    "locations"
   ]
  },
  {
   "cell_type": "code",
   "execution_count": 19,
   "metadata": {},
   "outputs": [],
   "source": [
    "ufo_df_date_sorted['Location'].replace('Ten Mile to Knox ','Knox', inplace=True)\n",
    "# ufo_df_date_sorted['Location'].replace('Ten Mile to Knox','Knox', inplace=True)"
   ]
  },
  {
   "cell_type": "code",
   "execution_count": null,
   "metadata": {},
   "outputs": [],
   "source": [
    "ufo_df_date_sorted['Location'].replace('Ten Mile to Knox ','Knox', inplace=True)"
   ]
  },
  {
   "cell_type": "code",
   "execution_count": 20,
   "metadata": {},
   "outputs": [
    {
     "output_type": "execute_result",
     "data": {
      "text/plain": [
       "array(['Covington ', 'Smyrna ', 'Gillsville ', 'Elk Grove ',\n",
       "       'Crystal City ', 'Las Vegas ', 'Bayville ', 'Glendale ',\n",
       "       'Florence ', 'Anchorage ', 'Richland ', 'Joppatowne ', 'Medford ',\n",
       "       'Amelia Island ', 'Corinth ', 'Colville ', 'Salt Lake City ',\n",
       "       'Kennewick ', 'Chillicothe ', 'Malabar ', 'Phoenix ',\n",
       "       'Gloucester ', 'Auburn ', 'Arnold ', 'Matthews ', 'Thermopolis ',\n",
       "       'Sacramento ', 'Hereford Township ', 'Fort Pierce ', 'Boise ',\n",
       "       'Swisher ', 'Fenton ', 'Rancho Cucamonga ', 'Vernon ', 'Newburgh ',\n",
       "       'Sodaville ', 'Longmont ', 'Titusville ', 'Hollywood ', 'Chicago ',\n",
       "       'Sac City ', 'Kissimmee ', 'Fortuna ', 'Branchland ', 'Aptos ',\n",
       "       'Pinson ', 'Satellite Beach ', 'Portland ', 'Spokane Valley ',\n",
       "       'Irmo ', 'Ontario ', 'Yelm ', 'Tacoma ', 'Cary ', 'Bremerton ',\n",
       "       'Fuquay Varina ', 'French Creek ', 'Downey ', 'Snohomish ',\n",
       "       'Denver ', 'Four Oaks ', 'Ocala ', 'Cooperstown ',\n",
       "       'North Myrtle Beach ', 'Natchitoches ', 'Biloxi ', 'Fountain ',\n",
       "       'Snellville ', 'Raleigh ', 'Denton ', 'Nashville ', 'Rifton ',\n",
       "       'St. Louis ', 'Wrightsville ', 'Gilbert ', 'Dixmont ', 'Ivanhoe ',\n",
       "       'Kingsburg ', 'Lake Havasu City ', 'Lafayette ', 'Wichita ',\n",
       "       'Lafayette  ', 'Houston ', 'Joplin ', 'Columbia ',\n",
       "       'Elk Grove Village ', 'Knoxville ', 'Columbus ',\n",
       "       'Colorado Springs  ', 'Camp Pendleton ', 'Black River Falls ',\n",
       "       'Albuquerque ', 'Maumelle ', 'Danville ', 'Metairie ', 'Seattle ',\n",
       "       'Conway ', 'Longview ', 'Cedar Falls ', 'Sutherlin ',\n",
       "       'Woodland Township ', 'Winter Park ', 'Peoria ', 'Mecca ',\n",
       "       'Sanger ', 'Dayton ', 'Antioch ', 'Hendersonville ', 'Mount Airy ',\n",
       "       'Marion ', 'Philadelphia ', 'North Hollywood ', 'Santa Clarita ',\n",
       "       'Bradenton ', 'Jerome ', 'Burbank ', 'I-495 North  ',\n",
       "       'Bakersfield ', 'Hawthorne ', 'Road ', 'Round Rock ',\n",
       "       'Carson City ', 'Scranton ', 'Austin ', 'Morganza ', 'Liverpool ',\n",
       "       'Warren ', 'Bend ', 'Manassas Park ', 'Roseburg ', 'Florham Park ',\n",
       "       'Neskowin ', 'Denvile ', 'Mill Spring ', 'Deerfield Beach ',\n",
       "       'Woodside ', 'Greensburg ', 'Amery/Star Prairie ',\n",
       "       'San Francisco ', 'Accord ', 'New York City  ', 'Angleton ',\n",
       "       'Ponte Vedra ', 'Mineola ', 'Joppatown ', 'Panama City Beach ',\n",
       "       'Laurel ', 'Coleman ', 'Hillsboro ', 'Effort ', 'Scottsdale ',\n",
       "       'Manheim ', 'Goodyear ', 'Heber City ', 'Clio ',\n",
       "       'Camby/Indianapolis ', 'Ivor ', 'Little Chute ', 'Foley ',\n",
       "       'Cedar Springs ', 'Millville ', 'Middleburg Heights ',\n",
       "       'Dickinson ', 'Billings ', 'Meadville ', 'Spring Hill ',\n",
       "       'Imperial Beach ', 'Meridian ', 'El Cajon ', 'Cape Coral ',\n",
       "       'Spurger ', 'Aurora ', 'Langhorne ', 'Oklahoma City ', 'Gallatin ',\n",
       "       'Norwich ', 'Lighthouse Point ', 'Ashland ', 'Annapolis ',\n",
       "       'Pound Ridge ', 'Black Canyon City ', 'Scarborough ', 'Whitmire ',\n",
       "       'Doraville ', 'Pittsburgh ', 'Salem ', 'St. Paul ', 'Cornelius ',\n",
       "       'Goose Creek ', 'Tempe ', 'Levittown ', 'Montpelier ',\n",
       "       'Barre Town ', 'Norwich/Thetford ', 'Sunnyside ', 'West Danville ',\n",
       "       'North Canton ', 'Clayton ', 'Asheville ', 'Santa Maria ',\n",
       "       'Maywood ', 'Skokie ', 'Durham ', 'Appleton ', 'Hoquiam ',\n",
       "       'Centreville ', 'Middle Village ', 'Antinito ', 'Council Grove ',\n",
       "       'Quartzsite ', 'Pasadena ', 'Honolulu ', 'Concord ', 'Franklin ',\n",
       "       'Orting ', 'Azusa ', 'Yuma ', 'Stafford ', 'Niles ', 'Huntington ',\n",
       "       'Santa Fe ', 'Spring ', 'Long Beach ', 'Lubbock ', 'Irving ',\n",
       "       'Virginia Beach ', 'Henderson ', 'Lakveville ', 'Damascus ',\n",
       "       'Bolton ', 'Sterling ', 'Loveland ', 'Montevallo ', 'Huntingdon ',\n",
       "       'Whitestone ', 'Reno ', 'Lake Elsinore ', 'Douglas ',\n",
       "       'Ridgecrest ', 'Washington, DC  ', 'Buckeye ', 'Westport ',\n",
       "       'New Braunfels ', 'Knox', 'Manchester ', 'Seneca ',\n",
       "       'Boynton Beach ', 'San Diego ', 'Moncks Corner ',\n",
       "       'Route 66 West  ', 'Rohnert Park ', 'Queen Creek ', 'Odessa ',\n",
       "       'Hudsonville ', 'Camdenton ', 'Arden ', 'East Aurora ',\n",
       "       'Ocean & Monmouth Counties ', 'Falmouth ', 'Keaau ',\n",
       "       'Shippensburg ', 'Phoenix  ', 'Tome ', 'Amsterdam ', 'Rowlett ',\n",
       "       'Uniontown ', 'Tempe/Phoenix ', 'Forked River ', 'La Luz ',\n",
       "       'Waukesha ', 'Absecon  ', 'Ayer/Harvard ', 'Littleton ', 'Waukee ',\n",
       "       'Rochester Hills ', 'Umatilla ', 'New Orleans ', 'Trenton ',\n",
       "       'Orono ', 'Springfield ', 'Pontiac ', 'Baltimore  ', 'Fairbanks ',\n",
       "       'Murfreesboro ', 'Helenville ', 'Taos ', 'Barrington ', 'Indio ',\n",
       "       'Cerritos ', 'Jacksonville ', 'Childress ', 'Easton ',\n",
       "       'Forest Acres ', 'Taylors ', 'Delray Beach ', 'Wenonah ',\n",
       "       'Stroudsburg ', 'Woodbury ', 'Castalian Springs ', 'Southington ',\n",
       "       'Newtown ', 'MORRISTOWN ', 'Broomfield ', 'Santee ',\n",
       "       'Chula Vista ', 'Milford ', 'Hagerstown ', 'Ravenna ',\n",
       "       'Middleburg ', 'Naalehu ', 'Rockville ', 'Greenville ', 'Hopkins ',\n",
       "       'La Plata ', 'Pennsburg ', 'Parkersburg ', 'Hillsville ',\n",
       "       'Coopersburg ', 'Clark ', 'Rover ', 'Williamsburg ',\n",
       "       'West Suffield ', 'Port Charlotte ', 'Ten mile ', 'Baltimore ',\n",
       "       'Carmel ', 'Big Lake ', 'Stanton ', 'Allentown ', 'Hampton Bays ',\n",
       "       'Sandpoint ', 'North Shore ', 'Warrensburg ', 'Sarasota ',\n",
       "       'Twin Lake ', 'Orangevale ', 'Stanardsville ', 'New Blaine ',\n",
       "       'Roberts County ', 'Eureka ', 'Burien ', 'Des Moines ',\n",
       "       'Viking Mountain ', 'Suffolk ', 'Grand Terrace ', 'Ventura ',\n",
       "       'Citrus Heights ', 'Frederick ', 'Lake Wylie ', 'Oxford ',\n",
       "       'State College ', 'Blue Hill ', 'Eliot ', 'Maurice River TWP ',\n",
       "       'Jackson ', 'Seymour ', 'Chapin ', 'Windsor Heights ', 'Vassar ',\n",
       "       'Arlington/Marysville ', 'Carolina Beach ', 'Goliad ',\n",
       "       'North Riverside ', 'Bow ', 'Jenkins ', 'Putnam ', 'Phenix city ',\n",
       "       'Holden ', 'Oswego ', 'West Hartford ', 'Hubertus ', 'Waianae ',\n",
       "       'Livingston ', 'Clanton ', 'Brodheadsville ', 'Unity ', 'Candler ',\n",
       "       'Susanville ', 'Surprise ', 'Birmingham ', 'Issaquah ',\n",
       "       'Royal Oak ', 'Corona del Mar ', 'Hampshire ', 'Hutchinson ',\n",
       "       'Pueblo ', 'Bainbridge Island ', 'New Washington ', 'Duluth ',\n",
       "       'Union ', 'Kettering ', 'Buffalo ', 'Pascagoula ', 'Big Sandy ',\n",
       "       'Beverly Shores ', 'Mettawa ', 'Howland ', 'Augusta ',\n",
       "       'Indianapolis ', 'Ashville ', 'Windsor ', 'Golden Valley ',\n",
       "       'Slidell ', 'Copperopolis ', 'Davidsonville ', 'Daly City ',\n",
       "       'Altus ', 'Dallas ', 'Varnville ', 'Lexington Park ',\n",
       "       'Mount Vernon ', 'Quaker City ', 'Prior Lake ', 'Spanaway ',\n",
       "       'Fridley ', 'Arizona?? ', 'Little Torch Key ', 'LaCrosse ',\n",
       "       'Cedar Lake  ', 'Canadian ', 'New Kensington ', 'Poplar ',\n",
       "       'Exeter ', 'Anaheim ', 'Fort Wayne ', 'Ft. Sill ', 'Warwick ',\n",
       "       'Taylor ', 'Ogden ', 'Shiner ', 'Rochester ', 'rockford ',\n",
       "       'Tallahassee ', 'Washington ', 'Naugatuck ', 'Palmetto Bay ',\n",
       "       'Ft. Myers Beach ', 'Wolf Creek ', 'Middletown ', 'Sonoma ',\n",
       "       'Torrance ', 'Continental Divide ', 'Paris ', 'Paris-Winchester ',\n",
       "       'Brownstown ', 'Apple Valley ', 'East Irondequoit ', 'Scipio ',\n",
       "       'Camano Island ', 'Leesville ', 'Brookfield ', 'Bluff City ',\n",
       "       'Parker ', 'Rapid City ', 'Aliso Viejo ', 'Fogelsville ',\n",
       "       'Madison ', 'Elk City ', 'San Jose ', 'Milpitas  ',\n",
       "       'Las Vegas in desert ', 'Bellingham ', 'Ewing ', 'Millsboro ',\n",
       "       'Larned ', 'Camden ', 'Otay Mesa ', 'Michigan City ', 'Chandler ',\n",
       "       'Bandera ', 'Cumming ', 'Lee ', 'Baton Rouge ', 'Milwaukie ',\n",
       "       'Port Isabel ', 'Victoria ', 'Arabi ', 'Pope ', 'Petaluma ',\n",
       "       'Friendship ', 'North Minneapolis ', 'Beaverton ', 'Kingsland ',\n",
       "       'Colorado Springs ', 'Belleville ', 'Elizabeth City ', 'Plymouth ',\n",
       "       'Derry ', 'Whitesburg ', 'Ponte Vedra Beach ', 'Orlando ',\n",
       "       'St. Petersburg ', 'McComb ', 'Sanford ', 'Gorham ', 'Bear ',\n",
       "       'Surrey ', 'Berwyn ', 'Schnecksville ', 'Middleboro ',\n",
       "       'Attelboro ', 'York Valley ', 'Angola ', 'Fairfield ', 'Troutman ',\n",
       "       'Costa Mesa ', 'Dunedin ', 'Lakewood ', 'Vacaville ', 'Elizabeth ',\n",
       "       'Desert Hot Springs ', 'Sky Valley ', 'Bullhead City ', 'Goleta ',\n",
       "       'Napa ', 'Boulder City ', 'Huntington Beach ', 'Palm Springs ',\n",
       "       'Menifee ', 'Moorpark ', 'Harlansburgh ', 'San Tan Valley ',\n",
       "       'Cedar City ', 'Sabine Pass ', 'Weymouth ', 'Richardson ',\n",
       "       'Palm Bay ', 'Modesto ', 'Toluca Lake ', 'St. Charles ',\n",
       "       'Grafton ', 'Mill Run ', 'Tucson ', 'Cranston ', 'Wind Lake ',\n",
       "       'Tomahawk ', 'Omaha ', 'Hastings on Hudson ', 'Shelbyville ',\n",
       "       'Weaverville ', 'Brush Prairie ', 'Cicero ', 'Avondale ',\n",
       "       'Draper ', 'Oceanside ', 'Richmond ', 'Revere ', 'Renton ',\n",
       "       'Mesquite ', 'Sligo ', 'Kalispell ', 'Plum ', 'Gainesville ',\n",
       "       'Los Angeles ', 'Glendora ', 'Norwalk ', 'Upton/Millbury ',\n",
       "       'Garden City ', 'Londonderry ', 'University Place ', 'Blaine ',\n",
       "       'Ellington ', 'Easley ', 'Palm Beach Gardens ', 'Greene ',\n",
       "       'Campobello ', 'DeLuz/Temecula ', 'Elmhurst ', 'Hinesville ',\n",
       "       'Hamden ', \"Benson/McGee's Crossroads \", 'Redmond ', 'Eagan ',\n",
       "       'Iowa City ', 'Gill ', 'Milpitas ', 'LAS VEGAS ', 'Glendale  ',\n",
       "       'Owensboro ', 'Evansville ', 'Tehachapi ', 'Maryville ',\n",
       "       'Hilldale ', 'Walnut Creek ', 'Palmetto ', 'Cottonwood ',\n",
       "       'Brandon ', 'Cullman ', 'Woodinville ', \"Lee's Summit \",\n",
       "       'Olympia ', 'Cle Elum ', 'Ocean Shores ', 'Orient ',\n",
       "       'Harpersville ',\n",
       "       'New Mexico border (driving west on I-40: 20 mi. pa ', 'Moline ',\n",
       "       'Miami ', 'Ypsilanti ', 'Plainfield ', 'Bellwood  ', 'Arbutus ',\n",
       "       'Port Saint Lucie ', 'Saint George ', 'Sequim ', 'Whitewater ',\n",
       "       'Brookhaven ', 'Wilkes-Barre/Hazleton  ', 'Guyton ', 'Canaan ',\n",
       "       'Eugene ', 'Sandy ', 'Liberty ', 'Monmouth ', 'Missoula ',\n",
       "       'Gadsden ', 'Selma ', 'Bangor ', 'Post Falls ', 'Simpsonville ',\n",
       "       'Steamboat Springs ', 'San Ysidro ', 'Clovis ', 'Avon/Eagle ',\n",
       "       'Bessemer City ', 'Bay City '], dtype=object)"
      ]
     },
     "metadata": {},
     "execution_count": 20
    }
   ],
   "source": [
    "locations = ufo_df_date_sorted['Location'].unique()\n",
    "locations"
   ]
  },
  {
   "cell_type": "code",
   "execution_count": 45,
   "metadata": {
    "tags": []
   },
   "outputs": [
    {
     "output_type": "stream",
     "name": "stdout",
     "text": [
      "Process finished!\n"
     ]
    },
    {
     "output_type": "execute_result",
     "data": {
      "text/plain": [
       "       Date         Shape       Location State Country      Lat      Lng\n",
       "0  1/1/2016   Orb/Sphere      Covington    WA     USA   47.3596 -122.118\n",
       "1  1/1/2016  Lights Only         Smyrna    GA     USA    33.884 -84.5144\n",
       "2  1/1/2016  Lights Only     Gillsville    GA     USA   34.3079 -83.6335\n",
       "3  1/1/2016  Lights Only      Elk Grove    CA     USA   38.4088 -121.372\n",
       "4  1/1/2016  Lights Only   Crystal City    MO     USA   38.2191 -90.3852"
      ],
      "text/html": "<div>\n<style scoped>\n    .dataframe tbody tr th:only-of-type {\n        vertical-align: middle;\n    }\n\n    .dataframe tbody tr th {\n        vertical-align: top;\n    }\n\n    .dataframe thead th {\n        text-align: right;\n    }\n</style>\n<table border=\"1\" class=\"dataframe\">\n  <thead>\n    <tr style=\"text-align: right;\">\n      <th></th>\n      <th>Date</th>\n      <th>Shape</th>\n      <th>Location</th>\n      <th>State</th>\n      <th>Country</th>\n      <th>Lat</th>\n      <th>Lng</th>\n    </tr>\n  </thead>\n  <tbody>\n    <tr>\n      <th>0</th>\n      <td>1/1/2016</td>\n      <td>Orb/Sphere</td>\n      <td>Covington</td>\n      <td>WA</td>\n      <td>USA</td>\n      <td>47.3596</td>\n      <td>-122.118</td>\n    </tr>\n    <tr>\n      <th>1</th>\n      <td>1/1/2016</td>\n      <td>Lights Only</td>\n      <td>Smyrna</td>\n      <td>GA</td>\n      <td>USA</td>\n      <td>33.884</td>\n      <td>-84.5144</td>\n    </tr>\n    <tr>\n      <th>2</th>\n      <td>1/1/2016</td>\n      <td>Lights Only</td>\n      <td>Gillsville</td>\n      <td>GA</td>\n      <td>USA</td>\n      <td>34.3079</td>\n      <td>-83.6335</td>\n    </tr>\n    <tr>\n      <th>3</th>\n      <td>1/1/2016</td>\n      <td>Lights Only</td>\n      <td>Elk Grove</td>\n      <td>CA</td>\n      <td>USA</td>\n      <td>38.4088</td>\n      <td>-121.372</td>\n    </tr>\n    <tr>\n      <th>4</th>\n      <td>1/1/2016</td>\n      <td>Lights Only</td>\n      <td>Crystal City</td>\n      <td>MO</td>\n      <td>USA</td>\n      <td>38.2191</td>\n      <td>-90.3852</td>\n    </tr>\n  </tbody>\n</table>\n</div>"
     },
     "metadata": {},
     "execution_count": 45
    }
   ],
   "source": [
    " # create a params dict that will be updated with new city each iteration\n",
    "params = {\"key\": g_key}\n",
    "\n",
    "# Loop through the cities_pd and run a lat/long search for each city\n",
    "for index, row in ufo_df_date_sorted.iterrows():\n",
    "    try:\n",
    "        base_url = \"https://maps.googleapis.com/maps/api/geocode/json\"\n",
    "\n",
    "        city = row['Location']\n",
    "        state = row['State']\n",
    "\n",
    "        # update address key value\n",
    "        params['address'] = f\"{city},{state}\"\n",
    "\n",
    "        # make request\n",
    "        cities_lat_lng = requests.get(base_url, params=params)\n",
    "        \n",
    "        # convert to json\n",
    "        cities_lat_lng = cities_lat_lng.json()\n",
    "\n",
    "        ufo_df_date_sorted.loc[index, \"Lat\"] = cities_lat_lng[\"results\"][0][\"geometry\"][\"location\"][\"lat\"]\n",
    "        ufo_df_date_sorted.loc[index, \"Lng\"] = cities_lat_lng[\"results\"][0][\"geometry\"][\"location\"][\"lng\"]\n",
    "\n",
    "    except:\n",
    "        print(f'City not found. Skipping...')\n",
    "    \n",
    "    \n",
    "print(\"Process finished!\")\n",
    "# # Visualize to confirm lat lng appear\n",
    "ufo_df_date_sorted.head()"
   ]
  },
  {
   "cell_type": "code",
   "execution_count": 47,
   "metadata": {},
   "outputs": [
    {
     "output_type": "execute_result",
     "data": {
      "text/plain": [
       "           Date         Shape       Location State Country      Lat      Lng\n",
       "0      1/1/2016   Orb/Sphere      Covington    WA     USA   47.3596 -122.118\n",
       "1      1/1/2016  Lights Only         Smyrna    GA     USA    33.884 -84.5144\n",
       "2      1/1/2016  Lights Only     Gillsville    GA     USA   34.3079 -83.6335\n",
       "3      1/1/2016  Lights Only      Elk Grove    CA     USA   38.4088 -121.372\n",
       "4      1/1/2016  Lights Only   Crystal City    MO     USA   38.2191 -90.3852\n",
       "..          ...           ...            ...   ...     ...      ...      ...\n",
       "799  12/31/2015  Lights Only     Titusville    FL     USA   28.6122 -80.8076\n",
       "800  12/31/2015  Lights Only      Las Vegas    NV     USA   36.1699  -115.14\n",
       "801  12/31/2015  Lights Only     Scottsdale    AZ     USA   33.4942 -111.926\n",
       "802  12/31/2015       Circle       Bay City    TX     USA   28.9828 -95.9694\n",
       "803  12/31/2015  Lights Only     Bellingham    WA     USA   48.7519 -122.479\n",
       "\n",
       "[804 rows x 7 columns]"
      ],
      "text/html": "<div>\n<style scoped>\n    .dataframe tbody tr th:only-of-type {\n        vertical-align: middle;\n    }\n\n    .dataframe tbody tr th {\n        vertical-align: top;\n    }\n\n    .dataframe thead th {\n        text-align: right;\n    }\n</style>\n<table border=\"1\" class=\"dataframe\">\n  <thead>\n    <tr style=\"text-align: right;\">\n      <th></th>\n      <th>Date</th>\n      <th>Shape</th>\n      <th>Location</th>\n      <th>State</th>\n      <th>Country</th>\n      <th>Lat</th>\n      <th>Lng</th>\n    </tr>\n  </thead>\n  <tbody>\n    <tr>\n      <th>0</th>\n      <td>1/1/2016</td>\n      <td>Orb/Sphere</td>\n      <td>Covington</td>\n      <td>WA</td>\n      <td>USA</td>\n      <td>47.3596</td>\n      <td>-122.118</td>\n    </tr>\n    <tr>\n      <th>1</th>\n      <td>1/1/2016</td>\n      <td>Lights Only</td>\n      <td>Smyrna</td>\n      <td>GA</td>\n      <td>USA</td>\n      <td>33.884</td>\n      <td>-84.5144</td>\n    </tr>\n    <tr>\n      <th>2</th>\n      <td>1/1/2016</td>\n      <td>Lights Only</td>\n      <td>Gillsville</td>\n      <td>GA</td>\n      <td>USA</td>\n      <td>34.3079</td>\n      <td>-83.6335</td>\n    </tr>\n    <tr>\n      <th>3</th>\n      <td>1/1/2016</td>\n      <td>Lights Only</td>\n      <td>Elk Grove</td>\n      <td>CA</td>\n      <td>USA</td>\n      <td>38.4088</td>\n      <td>-121.372</td>\n    </tr>\n    <tr>\n      <th>4</th>\n      <td>1/1/2016</td>\n      <td>Lights Only</td>\n      <td>Crystal City</td>\n      <td>MO</td>\n      <td>USA</td>\n      <td>38.2191</td>\n      <td>-90.3852</td>\n    </tr>\n    <tr>\n      <th>...</th>\n      <td>...</td>\n      <td>...</td>\n      <td>...</td>\n      <td>...</td>\n      <td>...</td>\n      <td>...</td>\n      <td>...</td>\n    </tr>\n    <tr>\n      <th>799</th>\n      <td>12/31/2015</td>\n      <td>Lights Only</td>\n      <td>Titusville</td>\n      <td>FL</td>\n      <td>USA</td>\n      <td>28.6122</td>\n      <td>-80.8076</td>\n    </tr>\n    <tr>\n      <th>800</th>\n      <td>12/31/2015</td>\n      <td>Lights Only</td>\n      <td>Las Vegas</td>\n      <td>NV</td>\n      <td>USA</td>\n      <td>36.1699</td>\n      <td>-115.14</td>\n    </tr>\n    <tr>\n      <th>801</th>\n      <td>12/31/2015</td>\n      <td>Lights Only</td>\n      <td>Scottsdale</td>\n      <td>AZ</td>\n      <td>USA</td>\n      <td>33.4942</td>\n      <td>-111.926</td>\n    </tr>\n    <tr>\n      <th>802</th>\n      <td>12/31/2015</td>\n      <td>Circle</td>\n      <td>Bay City</td>\n      <td>TX</td>\n      <td>USA</td>\n      <td>28.9828</td>\n      <td>-95.9694</td>\n    </tr>\n    <tr>\n      <th>803</th>\n      <td>12/31/2015</td>\n      <td>Lights Only</td>\n      <td>Bellingham</td>\n      <td>WA</td>\n      <td>USA</td>\n      <td>48.7519</td>\n      <td>-122.479</td>\n    </tr>\n  </tbody>\n</table>\n<p>804 rows × 7 columns</p>\n</div>"
     },
     "metadata": {},
     "execution_count": 47
    }
   ],
   "source": [
    "ufo_df_date_sorted"
   ]
  },
  {
   "cell_type": "code",
   "execution_count": 48,
   "metadata": {},
   "outputs": [
    {
     "output_type": "execute_result",
     "data": {
      "text/plain": [
       "       Date         Shape       Location State Country      Lat      Lng  \\\n",
       "0  1/1/2016   Orb/Sphere      Covington    WA     USA   47.3596 -122.118   \n",
       "1  1/1/2016  Lights Only         Smyrna    GA     USA    33.884 -84.5144   \n",
       "2  1/1/2016  Lights Only     Gillsville    GA     USA   34.3079 -83.6335   \n",
       "3  1/1/2016  Lights Only      Elk Grove    CA     USA   38.4088 -121.372   \n",
       "4  1/1/2016  Lights Only   Crystal City    MO     USA   38.2191 -90.3852   \n",
       "\n",
       "  Closest Airport Closest Airport Address  \n",
       "0                                          \n",
       "1                                          \n",
       "2                                          \n",
       "3                                          \n",
       "4                                          "
      ],
      "text/html": "<div>\n<style scoped>\n    .dataframe tbody tr th:only-of-type {\n        vertical-align: middle;\n    }\n\n    .dataframe tbody tr th {\n        vertical-align: top;\n    }\n\n    .dataframe thead th {\n        text-align: right;\n    }\n</style>\n<table border=\"1\" class=\"dataframe\">\n  <thead>\n    <tr style=\"text-align: right;\">\n      <th></th>\n      <th>Date</th>\n      <th>Shape</th>\n      <th>Location</th>\n      <th>State</th>\n      <th>Country</th>\n      <th>Lat</th>\n      <th>Lng</th>\n      <th>Closest Airport</th>\n      <th>Closest Airport Address</th>\n    </tr>\n  </thead>\n  <tbody>\n    <tr>\n      <th>0</th>\n      <td>1/1/2016</td>\n      <td>Orb/Sphere</td>\n      <td>Covington</td>\n      <td>WA</td>\n      <td>USA</td>\n      <td>47.3596</td>\n      <td>-122.118</td>\n      <td></td>\n      <td></td>\n    </tr>\n    <tr>\n      <th>1</th>\n      <td>1/1/2016</td>\n      <td>Lights Only</td>\n      <td>Smyrna</td>\n      <td>GA</td>\n      <td>USA</td>\n      <td>33.884</td>\n      <td>-84.5144</td>\n      <td></td>\n      <td></td>\n    </tr>\n    <tr>\n      <th>2</th>\n      <td>1/1/2016</td>\n      <td>Lights Only</td>\n      <td>Gillsville</td>\n      <td>GA</td>\n      <td>USA</td>\n      <td>34.3079</td>\n      <td>-83.6335</td>\n      <td></td>\n      <td></td>\n    </tr>\n    <tr>\n      <th>3</th>\n      <td>1/1/2016</td>\n      <td>Lights Only</td>\n      <td>Elk Grove</td>\n      <td>CA</td>\n      <td>USA</td>\n      <td>38.4088</td>\n      <td>-121.372</td>\n      <td></td>\n      <td></td>\n    </tr>\n    <tr>\n      <th>4</th>\n      <td>1/1/2016</td>\n      <td>Lights Only</td>\n      <td>Crystal City</td>\n      <td>MO</td>\n      <td>USA</td>\n      <td>38.2191</td>\n      <td>-90.3852</td>\n      <td></td>\n      <td></td>\n    </tr>\n  </tbody>\n</table>\n</div>"
     },
     "metadata": {},
     "execution_count": 48
    }
   ],
   "source": [
    "ufo_df_date_sorted['Closest Airport'] = \"\"\n",
    "ufo_df_date_sorted['Closest Airport Address'] = \"\"\n",
    "ufo_df_date_sorted.head()"
   ]
  },
  {
   "cell_type": "code",
   "execution_count": 50,
   "metadata": {},
   "outputs": [
    {
     "output_type": "stream",
     "name": "stdout",
     "text": [
      "Missing field/result... skipping.\n",
      "Missing field/result... skipping.\n",
      "Missing field/result... skipping.\n",
      "Missing field/result... skipping.\n",
      "Missing field/result... skipping.\n",
      "Missing field/result... skipping.\n",
      "Missing field/result... skipping.\n",
      "Missing field/result... skipping.\n",
      "Missing field/result... skipping.\n",
      "Missing field/result... skipping.\n",
      "Missing field/result... skipping.\n",
      "Missing field/result... skipping.\n",
      "Missing field/result... skipping.\n",
      "Missing field/result... skipping.\n",
      "Missing field/result... skipping.\n",
      "Missing field/result... skipping.\n",
      "Missing field/result... skipping.\n",
      "Missing field/result... skipping.\n"
     ]
    },
    {
     "output_type": "error",
     "ename": "ConnectionError",
     "evalue": "('Connection aborted.', RemoteDisconnected('Remote end closed connection without response'))",
     "traceback": [
      "\u001b[0;31m---------------------------------------------------------------------------\u001b[0m",
      "\u001b[0;31mRemoteDisconnected\u001b[0m                        Traceback (most recent call last)",
      "\u001b[0;32m~/opt/anaconda3/envs/PythonData/lib/python3.7/site-packages/urllib3/connectionpool.py\u001b[0m in \u001b[0;36murlopen\u001b[0;34m(self, method, url, body, headers, retries, redirect, assert_same_host, timeout, pool_timeout, release_conn, chunked, body_pos, **response_kw)\u001b[0m\n\u001b[1;32m    676\u001b[0m                 \u001b[0mheaders\u001b[0m\u001b[0;34m=\u001b[0m\u001b[0mheaders\u001b[0m\u001b[0;34m,\u001b[0m\u001b[0;34m\u001b[0m\u001b[0;34m\u001b[0m\u001b[0m\n\u001b[0;32m--> 677\u001b[0;31m                 \u001b[0mchunked\u001b[0m\u001b[0;34m=\u001b[0m\u001b[0mchunked\u001b[0m\u001b[0;34m,\u001b[0m\u001b[0;34m\u001b[0m\u001b[0;34m\u001b[0m\u001b[0m\n\u001b[0m\u001b[1;32m    678\u001b[0m             )\n",
      "\u001b[0;32m~/opt/anaconda3/envs/PythonData/lib/python3.7/site-packages/urllib3/connectionpool.py\u001b[0m in \u001b[0;36m_make_request\u001b[0;34m(self, conn, method, url, timeout, chunked, **httplib_request_kw)\u001b[0m\n\u001b[1;32m    425\u001b[0m                     \u001b[0;31m# Otherwise it looks like a bug in the code.\u001b[0m\u001b[0;34m\u001b[0m\u001b[0;34m\u001b[0m\u001b[0;34m\u001b[0m\u001b[0m\n\u001b[0;32m--> 426\u001b[0;31m                     \u001b[0msix\u001b[0m\u001b[0;34m.\u001b[0m\u001b[0mraise_from\u001b[0m\u001b[0;34m(\u001b[0m\u001b[0me\u001b[0m\u001b[0;34m,\u001b[0m \u001b[0;32mNone\u001b[0m\u001b[0;34m)\u001b[0m\u001b[0;34m\u001b[0m\u001b[0;34m\u001b[0m\u001b[0m\n\u001b[0m\u001b[1;32m    427\u001b[0m         \u001b[0;32mexcept\u001b[0m \u001b[0;34m(\u001b[0m\u001b[0mSocketTimeout\u001b[0m\u001b[0;34m,\u001b[0m \u001b[0mBaseSSLError\u001b[0m\u001b[0;34m,\u001b[0m \u001b[0mSocketError\u001b[0m\u001b[0;34m)\u001b[0m \u001b[0;32mas\u001b[0m \u001b[0me\u001b[0m\u001b[0;34m:\u001b[0m\u001b[0;34m\u001b[0m\u001b[0;34m\u001b[0m\u001b[0m\n",
      "\u001b[0;32m~/opt/anaconda3/envs/PythonData/lib/python3.7/site-packages/urllib3/packages/six.py\u001b[0m in \u001b[0;36mraise_from\u001b[0;34m(value, from_value)\u001b[0m\n",
      "\u001b[0;32m~/opt/anaconda3/envs/PythonData/lib/python3.7/site-packages/urllib3/connectionpool.py\u001b[0m in \u001b[0;36m_make_request\u001b[0;34m(self, conn, method, url, timeout, chunked, **httplib_request_kw)\u001b[0m\n\u001b[1;32m    420\u001b[0m                 \u001b[0;32mtry\u001b[0m\u001b[0;34m:\u001b[0m\u001b[0;34m\u001b[0m\u001b[0;34m\u001b[0m\u001b[0m\n\u001b[0;32m--> 421\u001b[0;31m                     \u001b[0mhttplib_response\u001b[0m \u001b[0;34m=\u001b[0m \u001b[0mconn\u001b[0m\u001b[0;34m.\u001b[0m\u001b[0mgetresponse\u001b[0m\u001b[0;34m(\u001b[0m\u001b[0;34m)\u001b[0m\u001b[0;34m\u001b[0m\u001b[0;34m\u001b[0m\u001b[0m\n\u001b[0m\u001b[1;32m    422\u001b[0m                 \u001b[0;32mexcept\u001b[0m \u001b[0mBaseException\u001b[0m \u001b[0;32mas\u001b[0m \u001b[0me\u001b[0m\u001b[0;34m:\u001b[0m\u001b[0;34m\u001b[0m\u001b[0;34m\u001b[0m\u001b[0m\n",
      "\u001b[0;32m~/opt/anaconda3/envs/PythonData/lib/python3.7/http/client.py\u001b[0m in \u001b[0;36mgetresponse\u001b[0;34m(self)\u001b[0m\n\u001b[1;32m   1368\u001b[0m             \u001b[0;32mtry\u001b[0m\u001b[0;34m:\u001b[0m\u001b[0;34m\u001b[0m\u001b[0;34m\u001b[0m\u001b[0m\n\u001b[0;32m-> 1369\u001b[0;31m                 \u001b[0mresponse\u001b[0m\u001b[0;34m.\u001b[0m\u001b[0mbegin\u001b[0m\u001b[0;34m(\u001b[0m\u001b[0;34m)\u001b[0m\u001b[0;34m\u001b[0m\u001b[0;34m\u001b[0m\u001b[0m\n\u001b[0m\u001b[1;32m   1370\u001b[0m             \u001b[0;32mexcept\u001b[0m \u001b[0mConnectionError\u001b[0m\u001b[0;34m:\u001b[0m\u001b[0;34m\u001b[0m\u001b[0;34m\u001b[0m\u001b[0m\n",
      "\u001b[0;32m~/opt/anaconda3/envs/PythonData/lib/python3.7/http/client.py\u001b[0m in \u001b[0;36mbegin\u001b[0;34m(self)\u001b[0m\n\u001b[1;32m    309\u001b[0m         \u001b[0;32mwhile\u001b[0m \u001b[0;32mTrue\u001b[0m\u001b[0;34m:\u001b[0m\u001b[0;34m\u001b[0m\u001b[0;34m\u001b[0m\u001b[0m\n\u001b[0;32m--> 310\u001b[0;31m             \u001b[0mversion\u001b[0m\u001b[0;34m,\u001b[0m \u001b[0mstatus\u001b[0m\u001b[0;34m,\u001b[0m \u001b[0mreason\u001b[0m \u001b[0;34m=\u001b[0m \u001b[0mself\u001b[0m\u001b[0;34m.\u001b[0m\u001b[0m_read_status\u001b[0m\u001b[0;34m(\u001b[0m\u001b[0;34m)\u001b[0m\u001b[0;34m\u001b[0m\u001b[0;34m\u001b[0m\u001b[0m\n\u001b[0m\u001b[1;32m    311\u001b[0m             \u001b[0;32mif\u001b[0m \u001b[0mstatus\u001b[0m \u001b[0;34m!=\u001b[0m \u001b[0mCONTINUE\u001b[0m\u001b[0;34m:\u001b[0m\u001b[0;34m\u001b[0m\u001b[0;34m\u001b[0m\u001b[0m\n",
      "\u001b[0;32m~/opt/anaconda3/envs/PythonData/lib/python3.7/http/client.py\u001b[0m in \u001b[0;36m_read_status\u001b[0;34m(self)\u001b[0m\n\u001b[1;32m    278\u001b[0m             \u001b[0;31m# sending a valid response.\u001b[0m\u001b[0;34m\u001b[0m\u001b[0;34m\u001b[0m\u001b[0;34m\u001b[0m\u001b[0m\n\u001b[0;32m--> 279\u001b[0;31m             raise RemoteDisconnected(\"Remote end closed connection without\"\n\u001b[0m\u001b[1;32m    280\u001b[0m                                      \" response\")\n",
      "\u001b[0;31mRemoteDisconnected\u001b[0m: Remote end closed connection without response",
      "\nDuring handling of the above exception, another exception occurred:\n",
      "\u001b[0;31mProtocolError\u001b[0m                             Traceback (most recent call last)",
      "\u001b[0;32m~/opt/anaconda3/envs/PythonData/lib/python3.7/site-packages/requests/adapters.py\u001b[0m in \u001b[0;36msend\u001b[0;34m(self, request, stream, timeout, verify, cert, proxies)\u001b[0m\n\u001b[1;32m    448\u001b[0m                     \u001b[0mretries\u001b[0m\u001b[0;34m=\u001b[0m\u001b[0mself\u001b[0m\u001b[0;34m.\u001b[0m\u001b[0mmax_retries\u001b[0m\u001b[0;34m,\u001b[0m\u001b[0;34m\u001b[0m\u001b[0;34m\u001b[0m\u001b[0m\n\u001b[0;32m--> 449\u001b[0;31m                     \u001b[0mtimeout\u001b[0m\u001b[0;34m=\u001b[0m\u001b[0mtimeout\u001b[0m\u001b[0;34m\u001b[0m\u001b[0;34m\u001b[0m\u001b[0m\n\u001b[0m\u001b[1;32m    450\u001b[0m                 )\n",
      "\u001b[0;32m~/opt/anaconda3/envs/PythonData/lib/python3.7/site-packages/urllib3/connectionpool.py\u001b[0m in \u001b[0;36murlopen\u001b[0;34m(self, method, url, body, headers, retries, redirect, assert_same_host, timeout, pool_timeout, release_conn, chunked, body_pos, **response_kw)\u001b[0m\n\u001b[1;32m    726\u001b[0m             retries = retries.increment(\n\u001b[0;32m--> 727\u001b[0;31m                 \u001b[0mmethod\u001b[0m\u001b[0;34m,\u001b[0m \u001b[0murl\u001b[0m\u001b[0;34m,\u001b[0m \u001b[0merror\u001b[0m\u001b[0;34m=\u001b[0m\u001b[0me\u001b[0m\u001b[0;34m,\u001b[0m \u001b[0m_pool\u001b[0m\u001b[0;34m=\u001b[0m\u001b[0mself\u001b[0m\u001b[0;34m,\u001b[0m \u001b[0m_stacktrace\u001b[0m\u001b[0;34m=\u001b[0m\u001b[0msys\u001b[0m\u001b[0;34m.\u001b[0m\u001b[0mexc_info\u001b[0m\u001b[0;34m(\u001b[0m\u001b[0;34m)\u001b[0m\u001b[0;34m[\u001b[0m\u001b[0;36m2\u001b[0m\u001b[0;34m]\u001b[0m\u001b[0;34m\u001b[0m\u001b[0;34m\u001b[0m\u001b[0m\n\u001b[0m\u001b[1;32m    728\u001b[0m             )\n",
      "\u001b[0;32m~/opt/anaconda3/envs/PythonData/lib/python3.7/site-packages/urllib3/util/retry.py\u001b[0m in \u001b[0;36mincrement\u001b[0;34m(self, method, url, response, error, _pool, _stacktrace)\u001b[0m\n\u001b[1;32m    409\u001b[0m             \u001b[0;32mif\u001b[0m \u001b[0mread\u001b[0m \u001b[0;32mis\u001b[0m \u001b[0;32mFalse\u001b[0m \u001b[0;32mor\u001b[0m \u001b[0;32mnot\u001b[0m \u001b[0mself\u001b[0m\u001b[0;34m.\u001b[0m\u001b[0m_is_method_retryable\u001b[0m\u001b[0;34m(\u001b[0m\u001b[0mmethod\u001b[0m\u001b[0;34m)\u001b[0m\u001b[0;34m:\u001b[0m\u001b[0;34m\u001b[0m\u001b[0;34m\u001b[0m\u001b[0m\n\u001b[0;32m--> 410\u001b[0;31m                 \u001b[0;32mraise\u001b[0m \u001b[0msix\u001b[0m\u001b[0;34m.\u001b[0m\u001b[0mreraise\u001b[0m\u001b[0;34m(\u001b[0m\u001b[0mtype\u001b[0m\u001b[0;34m(\u001b[0m\u001b[0merror\u001b[0m\u001b[0;34m)\u001b[0m\u001b[0;34m,\u001b[0m \u001b[0merror\u001b[0m\u001b[0;34m,\u001b[0m \u001b[0m_stacktrace\u001b[0m\u001b[0;34m)\u001b[0m\u001b[0;34m\u001b[0m\u001b[0;34m\u001b[0m\u001b[0m\n\u001b[0m\u001b[1;32m    411\u001b[0m             \u001b[0;32melif\u001b[0m \u001b[0mread\u001b[0m \u001b[0;32mis\u001b[0m \u001b[0;32mnot\u001b[0m \u001b[0;32mNone\u001b[0m\u001b[0;34m:\u001b[0m\u001b[0;34m\u001b[0m\u001b[0;34m\u001b[0m\u001b[0m\n",
      "\u001b[0;32m~/opt/anaconda3/envs/PythonData/lib/python3.7/site-packages/urllib3/packages/six.py\u001b[0m in \u001b[0;36mreraise\u001b[0;34m(tp, value, tb)\u001b[0m\n\u001b[1;32m    733\u001b[0m             \u001b[0;32mif\u001b[0m \u001b[0mvalue\u001b[0m\u001b[0;34m.\u001b[0m\u001b[0m__traceback__\u001b[0m \u001b[0;32mis\u001b[0m \u001b[0;32mnot\u001b[0m \u001b[0mtb\u001b[0m\u001b[0;34m:\u001b[0m\u001b[0;34m\u001b[0m\u001b[0;34m\u001b[0m\u001b[0m\n\u001b[0;32m--> 734\u001b[0;31m                 \u001b[0;32mraise\u001b[0m \u001b[0mvalue\u001b[0m\u001b[0;34m.\u001b[0m\u001b[0mwith_traceback\u001b[0m\u001b[0;34m(\u001b[0m\u001b[0mtb\u001b[0m\u001b[0;34m)\u001b[0m\u001b[0;34m\u001b[0m\u001b[0;34m\u001b[0m\u001b[0m\n\u001b[0m\u001b[1;32m    735\u001b[0m             \u001b[0;32mraise\u001b[0m \u001b[0mvalue\u001b[0m\u001b[0;34m\u001b[0m\u001b[0;34m\u001b[0m\u001b[0m\n",
      "\u001b[0;32m~/opt/anaconda3/envs/PythonData/lib/python3.7/site-packages/urllib3/connectionpool.py\u001b[0m in \u001b[0;36murlopen\u001b[0;34m(self, method, url, body, headers, retries, redirect, assert_same_host, timeout, pool_timeout, release_conn, chunked, body_pos, **response_kw)\u001b[0m\n\u001b[1;32m    676\u001b[0m                 \u001b[0mheaders\u001b[0m\u001b[0;34m=\u001b[0m\u001b[0mheaders\u001b[0m\u001b[0;34m,\u001b[0m\u001b[0;34m\u001b[0m\u001b[0;34m\u001b[0m\u001b[0m\n\u001b[0;32m--> 677\u001b[0;31m                 \u001b[0mchunked\u001b[0m\u001b[0;34m=\u001b[0m\u001b[0mchunked\u001b[0m\u001b[0;34m,\u001b[0m\u001b[0;34m\u001b[0m\u001b[0;34m\u001b[0m\u001b[0m\n\u001b[0m\u001b[1;32m    678\u001b[0m             )\n",
      "\u001b[0;32m~/opt/anaconda3/envs/PythonData/lib/python3.7/site-packages/urllib3/connectionpool.py\u001b[0m in \u001b[0;36m_make_request\u001b[0;34m(self, conn, method, url, timeout, chunked, **httplib_request_kw)\u001b[0m\n\u001b[1;32m    425\u001b[0m                     \u001b[0;31m# Otherwise it looks like a bug in the code.\u001b[0m\u001b[0;34m\u001b[0m\u001b[0;34m\u001b[0m\u001b[0;34m\u001b[0m\u001b[0m\n\u001b[0;32m--> 426\u001b[0;31m                     \u001b[0msix\u001b[0m\u001b[0;34m.\u001b[0m\u001b[0mraise_from\u001b[0m\u001b[0;34m(\u001b[0m\u001b[0me\u001b[0m\u001b[0;34m,\u001b[0m \u001b[0;32mNone\u001b[0m\u001b[0;34m)\u001b[0m\u001b[0;34m\u001b[0m\u001b[0;34m\u001b[0m\u001b[0m\n\u001b[0m\u001b[1;32m    427\u001b[0m         \u001b[0;32mexcept\u001b[0m \u001b[0;34m(\u001b[0m\u001b[0mSocketTimeout\u001b[0m\u001b[0;34m,\u001b[0m \u001b[0mBaseSSLError\u001b[0m\u001b[0;34m,\u001b[0m \u001b[0mSocketError\u001b[0m\u001b[0;34m)\u001b[0m \u001b[0;32mas\u001b[0m \u001b[0me\u001b[0m\u001b[0;34m:\u001b[0m\u001b[0;34m\u001b[0m\u001b[0;34m\u001b[0m\u001b[0m\n",
      "\u001b[0;32m~/opt/anaconda3/envs/PythonData/lib/python3.7/site-packages/urllib3/packages/six.py\u001b[0m in \u001b[0;36mraise_from\u001b[0;34m(value, from_value)\u001b[0m\n",
      "\u001b[0;32m~/opt/anaconda3/envs/PythonData/lib/python3.7/site-packages/urllib3/connectionpool.py\u001b[0m in \u001b[0;36m_make_request\u001b[0;34m(self, conn, method, url, timeout, chunked, **httplib_request_kw)\u001b[0m\n\u001b[1;32m    420\u001b[0m                 \u001b[0;32mtry\u001b[0m\u001b[0;34m:\u001b[0m\u001b[0;34m\u001b[0m\u001b[0;34m\u001b[0m\u001b[0m\n\u001b[0;32m--> 421\u001b[0;31m                     \u001b[0mhttplib_response\u001b[0m \u001b[0;34m=\u001b[0m \u001b[0mconn\u001b[0m\u001b[0;34m.\u001b[0m\u001b[0mgetresponse\u001b[0m\u001b[0;34m(\u001b[0m\u001b[0;34m)\u001b[0m\u001b[0;34m\u001b[0m\u001b[0;34m\u001b[0m\u001b[0m\n\u001b[0m\u001b[1;32m    422\u001b[0m                 \u001b[0;32mexcept\u001b[0m \u001b[0mBaseException\u001b[0m \u001b[0;32mas\u001b[0m \u001b[0me\u001b[0m\u001b[0;34m:\u001b[0m\u001b[0;34m\u001b[0m\u001b[0;34m\u001b[0m\u001b[0m\n",
      "\u001b[0;32m~/opt/anaconda3/envs/PythonData/lib/python3.7/http/client.py\u001b[0m in \u001b[0;36mgetresponse\u001b[0;34m(self)\u001b[0m\n\u001b[1;32m   1368\u001b[0m             \u001b[0;32mtry\u001b[0m\u001b[0;34m:\u001b[0m\u001b[0;34m\u001b[0m\u001b[0;34m\u001b[0m\u001b[0m\n\u001b[0;32m-> 1369\u001b[0;31m                 \u001b[0mresponse\u001b[0m\u001b[0;34m.\u001b[0m\u001b[0mbegin\u001b[0m\u001b[0;34m(\u001b[0m\u001b[0;34m)\u001b[0m\u001b[0;34m\u001b[0m\u001b[0;34m\u001b[0m\u001b[0m\n\u001b[0m\u001b[1;32m   1370\u001b[0m             \u001b[0;32mexcept\u001b[0m \u001b[0mConnectionError\u001b[0m\u001b[0;34m:\u001b[0m\u001b[0;34m\u001b[0m\u001b[0;34m\u001b[0m\u001b[0m\n",
      "\u001b[0;32m~/opt/anaconda3/envs/PythonData/lib/python3.7/http/client.py\u001b[0m in \u001b[0;36mbegin\u001b[0;34m(self)\u001b[0m\n\u001b[1;32m    309\u001b[0m         \u001b[0;32mwhile\u001b[0m \u001b[0;32mTrue\u001b[0m\u001b[0;34m:\u001b[0m\u001b[0;34m\u001b[0m\u001b[0;34m\u001b[0m\u001b[0m\n\u001b[0;32m--> 310\u001b[0;31m             \u001b[0mversion\u001b[0m\u001b[0;34m,\u001b[0m \u001b[0mstatus\u001b[0m\u001b[0;34m,\u001b[0m \u001b[0mreason\u001b[0m \u001b[0;34m=\u001b[0m \u001b[0mself\u001b[0m\u001b[0;34m.\u001b[0m\u001b[0m_read_status\u001b[0m\u001b[0;34m(\u001b[0m\u001b[0;34m)\u001b[0m\u001b[0;34m\u001b[0m\u001b[0;34m\u001b[0m\u001b[0m\n\u001b[0m\u001b[1;32m    311\u001b[0m             \u001b[0;32mif\u001b[0m \u001b[0mstatus\u001b[0m \u001b[0;34m!=\u001b[0m \u001b[0mCONTINUE\u001b[0m\u001b[0;34m:\u001b[0m\u001b[0;34m\u001b[0m\u001b[0;34m\u001b[0m\u001b[0m\n",
      "\u001b[0;32m~/opt/anaconda3/envs/PythonData/lib/python3.7/http/client.py\u001b[0m in \u001b[0;36m_read_status\u001b[0;34m(self)\u001b[0m\n\u001b[1;32m    278\u001b[0m             \u001b[0;31m# sending a valid response.\u001b[0m\u001b[0;34m\u001b[0m\u001b[0;34m\u001b[0m\u001b[0;34m\u001b[0m\u001b[0m\n\u001b[0;32m--> 279\u001b[0;31m             raise RemoteDisconnected(\"Remote end closed connection without\"\n\u001b[0m\u001b[1;32m    280\u001b[0m                                      \" response\")\n",
      "\u001b[0;31mProtocolError\u001b[0m: ('Connection aborted.', RemoteDisconnected('Remote end closed connection without response'))",
      "\nDuring handling of the above exception, another exception occurred:\n",
      "\u001b[0;31mConnectionError\u001b[0m                           Traceback (most recent call last)",
      "\u001b[0;32m<ipython-input-50-7731e54ca2fe>\u001b[0m in \u001b[0;36m<module>\u001b[0;34m\u001b[0m\n\u001b[1;32m     18\u001b[0m \u001b[0;34m\u001b[0m\u001b[0m\n\u001b[1;32m     19\u001b[0m    \u001b[0;31m# make request and print url\u001b[0m\u001b[0;34m\u001b[0m\u001b[0;34m\u001b[0m\u001b[0;34m\u001b[0m\u001b[0m\n\u001b[0;32m---> 20\u001b[0;31m    \u001b[0mname_address\u001b[0m \u001b[0;34m=\u001b[0m \u001b[0mrequests\u001b[0m\u001b[0;34m.\u001b[0m\u001b[0mget\u001b[0m\u001b[0;34m(\u001b[0m\u001b[0mbase_url\u001b[0m\u001b[0;34m,\u001b[0m \u001b[0mparams\u001b[0m\u001b[0;34m=\u001b[0m\u001b[0mparams\u001b[0m\u001b[0;34m)\u001b[0m\u001b[0;34m\u001b[0m\u001b[0;34m\u001b[0m\u001b[0m\n\u001b[0m\u001b[1;32m     21\u001b[0m \u001b[0;34m\u001b[0m\u001b[0m\n\u001b[1;32m     22\u001b[0m \u001b[0;31m#     print the name_address url, avoid doing for public github repos in order to avoid exposing key\u001b[0m\u001b[0;34m\u001b[0m\u001b[0;34m\u001b[0m\u001b[0;34m\u001b[0m\u001b[0m\n",
      "\u001b[0;32m~/opt/anaconda3/envs/PythonData/lib/python3.7/site-packages/requests/api.py\u001b[0m in \u001b[0;36mget\u001b[0;34m(url, params, **kwargs)\u001b[0m\n\u001b[1;32m     74\u001b[0m \u001b[0;34m\u001b[0m\u001b[0m\n\u001b[1;32m     75\u001b[0m     \u001b[0mkwargs\u001b[0m\u001b[0;34m.\u001b[0m\u001b[0msetdefault\u001b[0m\u001b[0;34m(\u001b[0m\u001b[0;34m'allow_redirects'\u001b[0m\u001b[0;34m,\u001b[0m \u001b[0;32mTrue\u001b[0m\u001b[0;34m)\u001b[0m\u001b[0;34m\u001b[0m\u001b[0;34m\u001b[0m\u001b[0m\n\u001b[0;32m---> 76\u001b[0;31m     \u001b[0;32mreturn\u001b[0m \u001b[0mrequest\u001b[0m\u001b[0;34m(\u001b[0m\u001b[0;34m'get'\u001b[0m\u001b[0;34m,\u001b[0m \u001b[0murl\u001b[0m\u001b[0;34m,\u001b[0m \u001b[0mparams\u001b[0m\u001b[0;34m=\u001b[0m\u001b[0mparams\u001b[0m\u001b[0;34m,\u001b[0m \u001b[0;34m**\u001b[0m\u001b[0mkwargs\u001b[0m\u001b[0;34m)\u001b[0m\u001b[0;34m\u001b[0m\u001b[0;34m\u001b[0m\u001b[0m\n\u001b[0m\u001b[1;32m     77\u001b[0m \u001b[0;34m\u001b[0m\u001b[0m\n\u001b[1;32m     78\u001b[0m \u001b[0;34m\u001b[0m\u001b[0m\n",
      "\u001b[0;32m~/opt/anaconda3/envs/PythonData/lib/python3.7/site-packages/requests/api.py\u001b[0m in \u001b[0;36mrequest\u001b[0;34m(method, url, **kwargs)\u001b[0m\n\u001b[1;32m     59\u001b[0m     \u001b[0;31m# cases, and look like a memory leak in others.\u001b[0m\u001b[0;34m\u001b[0m\u001b[0;34m\u001b[0m\u001b[0;34m\u001b[0m\u001b[0m\n\u001b[1;32m     60\u001b[0m     \u001b[0;32mwith\u001b[0m \u001b[0msessions\u001b[0m\u001b[0;34m.\u001b[0m\u001b[0mSession\u001b[0m\u001b[0;34m(\u001b[0m\u001b[0;34m)\u001b[0m \u001b[0;32mas\u001b[0m \u001b[0msession\u001b[0m\u001b[0;34m:\u001b[0m\u001b[0;34m\u001b[0m\u001b[0;34m\u001b[0m\u001b[0m\n\u001b[0;32m---> 61\u001b[0;31m         \u001b[0;32mreturn\u001b[0m \u001b[0msession\u001b[0m\u001b[0;34m.\u001b[0m\u001b[0mrequest\u001b[0m\u001b[0;34m(\u001b[0m\u001b[0mmethod\u001b[0m\u001b[0;34m=\u001b[0m\u001b[0mmethod\u001b[0m\u001b[0;34m,\u001b[0m \u001b[0murl\u001b[0m\u001b[0;34m=\u001b[0m\u001b[0murl\u001b[0m\u001b[0;34m,\u001b[0m \u001b[0;34m**\u001b[0m\u001b[0mkwargs\u001b[0m\u001b[0;34m)\u001b[0m\u001b[0;34m\u001b[0m\u001b[0;34m\u001b[0m\u001b[0m\n\u001b[0m\u001b[1;32m     62\u001b[0m \u001b[0;34m\u001b[0m\u001b[0m\n\u001b[1;32m     63\u001b[0m \u001b[0;34m\u001b[0m\u001b[0m\n",
      "\u001b[0;32m~/opt/anaconda3/envs/PythonData/lib/python3.7/site-packages/requests/sessions.py\u001b[0m in \u001b[0;36mrequest\u001b[0;34m(self, method, url, params, data, headers, cookies, files, auth, timeout, allow_redirects, proxies, hooks, stream, verify, cert, json)\u001b[0m\n\u001b[1;32m    528\u001b[0m         }\n\u001b[1;32m    529\u001b[0m         \u001b[0msend_kwargs\u001b[0m\u001b[0;34m.\u001b[0m\u001b[0mupdate\u001b[0m\u001b[0;34m(\u001b[0m\u001b[0msettings\u001b[0m\u001b[0;34m)\u001b[0m\u001b[0;34m\u001b[0m\u001b[0;34m\u001b[0m\u001b[0m\n\u001b[0;32m--> 530\u001b[0;31m         \u001b[0mresp\u001b[0m \u001b[0;34m=\u001b[0m \u001b[0mself\u001b[0m\u001b[0;34m.\u001b[0m\u001b[0msend\u001b[0m\u001b[0;34m(\u001b[0m\u001b[0mprep\u001b[0m\u001b[0;34m,\u001b[0m \u001b[0;34m**\u001b[0m\u001b[0msend_kwargs\u001b[0m\u001b[0;34m)\u001b[0m\u001b[0;34m\u001b[0m\u001b[0;34m\u001b[0m\u001b[0m\n\u001b[0m\u001b[1;32m    531\u001b[0m \u001b[0;34m\u001b[0m\u001b[0m\n\u001b[1;32m    532\u001b[0m         \u001b[0;32mreturn\u001b[0m \u001b[0mresp\u001b[0m\u001b[0;34m\u001b[0m\u001b[0;34m\u001b[0m\u001b[0m\n",
      "\u001b[0;32m~/opt/anaconda3/envs/PythonData/lib/python3.7/site-packages/requests/sessions.py\u001b[0m in \u001b[0;36msend\u001b[0;34m(self, request, **kwargs)\u001b[0m\n\u001b[1;32m    641\u001b[0m \u001b[0;34m\u001b[0m\u001b[0m\n\u001b[1;32m    642\u001b[0m         \u001b[0;31m# Send the request\u001b[0m\u001b[0;34m\u001b[0m\u001b[0;34m\u001b[0m\u001b[0;34m\u001b[0m\u001b[0m\n\u001b[0;32m--> 643\u001b[0;31m         \u001b[0mr\u001b[0m \u001b[0;34m=\u001b[0m \u001b[0madapter\u001b[0m\u001b[0;34m.\u001b[0m\u001b[0msend\u001b[0m\u001b[0;34m(\u001b[0m\u001b[0mrequest\u001b[0m\u001b[0;34m,\u001b[0m \u001b[0;34m**\u001b[0m\u001b[0mkwargs\u001b[0m\u001b[0;34m)\u001b[0m\u001b[0;34m\u001b[0m\u001b[0;34m\u001b[0m\u001b[0m\n\u001b[0m\u001b[1;32m    644\u001b[0m \u001b[0;34m\u001b[0m\u001b[0m\n\u001b[1;32m    645\u001b[0m         \u001b[0;31m# Total elapsed time of the request (approximately)\u001b[0m\u001b[0;34m\u001b[0m\u001b[0;34m\u001b[0m\u001b[0;34m\u001b[0m\u001b[0m\n",
      "\u001b[0;32m~/opt/anaconda3/envs/PythonData/lib/python3.7/site-packages/requests/adapters.py\u001b[0m in \u001b[0;36msend\u001b[0;34m(self, request, stream, timeout, verify, cert, proxies)\u001b[0m\n\u001b[1;32m    496\u001b[0m \u001b[0;34m\u001b[0m\u001b[0m\n\u001b[1;32m    497\u001b[0m         \u001b[0;32mexcept\u001b[0m \u001b[0;34m(\u001b[0m\u001b[0mProtocolError\u001b[0m\u001b[0;34m,\u001b[0m \u001b[0msocket\u001b[0m\u001b[0;34m.\u001b[0m\u001b[0merror\u001b[0m\u001b[0;34m)\u001b[0m \u001b[0;32mas\u001b[0m \u001b[0merr\u001b[0m\u001b[0;34m:\u001b[0m\u001b[0;34m\u001b[0m\u001b[0;34m\u001b[0m\u001b[0m\n\u001b[0;32m--> 498\u001b[0;31m             \u001b[0;32mraise\u001b[0m \u001b[0mConnectionError\u001b[0m\u001b[0;34m(\u001b[0m\u001b[0merr\u001b[0m\u001b[0;34m,\u001b[0m \u001b[0mrequest\u001b[0m\u001b[0;34m=\u001b[0m\u001b[0mrequest\u001b[0m\u001b[0;34m)\u001b[0m\u001b[0;34m\u001b[0m\u001b[0;34m\u001b[0m\u001b[0m\n\u001b[0m\u001b[1;32m    499\u001b[0m \u001b[0;34m\u001b[0m\u001b[0m\n\u001b[1;32m    500\u001b[0m         \u001b[0;32mexcept\u001b[0m \u001b[0mMaxRetryError\u001b[0m \u001b[0;32mas\u001b[0m \u001b[0me\u001b[0m\u001b[0;34m:\u001b[0m\u001b[0;34m\u001b[0m\u001b[0;34m\u001b[0m\u001b[0m\n",
      "\u001b[0;31mConnectionError\u001b[0m: ('Connection aborted.', RemoteDisconnected('Remote end closed connection without response'))"
     ]
    }
   ],
   "source": [
    " # create a params dict that will be updated with new city each iteration\n",
    "params = {\n",
    "    \"radius\": 50000,\n",
    "    \"types\": \"airport\",\n",
    "    \"key\": g_key\n",
    "}\n",
    "# Loop through the cities_pd and run a lat/long search for each city\n",
    "for index, row in ufo_df_date_sorted.iterrows():\n",
    "    # get lat, lng from df\n",
    "    lat = row[\"Lat\"]\n",
    "    lng = row[\"Lng\"]\n",
    "\n",
    "    # change location each iteration while leaving original params in place\n",
    "    params[\"location\"] = f\"{lat},{lng}\"\n",
    "\n",
    "    # Use the search term: \"International Airport\" and our lat/lng\n",
    "    base_url = \"https://maps.googleapis.com/maps/api/place/nearbysearch/json\"\n",
    "\n",
    "    # make request and print url\n",
    "    name_address = requests.get(base_url, params=params)\n",
    "    \n",
    "#     print the name_address url, avoid doing for public github repos in order to avoid exposing key\n",
    "#     print(name_address.url)\n",
    "\n",
    "    # convert to json\n",
    "    name_address = name_address.json()\n",
    "    # print(json.dumps(name_address, indent=4, sort_keys=True))\n",
    "\n",
    "    # Since some data may be missing we incorporate a try-except to skip any that are missing a data point.\n",
    "    try:\n",
    "        ufo_df_date_sorted['Closest Airport'] = name_address[\"results\"][0][\"name\"]\n",
    "        ufo_df_date_sorted['Closest Airport Address'] = name_address[\"results\"][0][\"vicinity\"]\n",
    "    #     cities_pd.loc[index, \"Airport Rating\"] = name_address[\"results\"][0][\"rating\"]\n",
    "    except (KeyError, IndexError):\n",
    "        print(\"Missing field/result... skipping.\")"
   ]
  },
  {
   "cell_type": "code",
   "execution_count": null,
   "metadata": {},
   "outputs": [],
   "source": []
  }
 ]
}