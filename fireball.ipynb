{
 "metadata": {
  "language_info": {
   "codemirror_mode": {
    "name": "ipython",
    "version": 3
   },
   "file_extension": ".py",
   "mimetype": "text/x-python",
   "name": "python",
   "nbconvert_exporter": "python",
   "pygments_lexer": "ipython3",
   "version": "3.8.5"
  },
  "orig_nbformat": 2,
  "kernelspec": {
   "name": "python385jvsc74a57bd0b75be9ad71603c40476c6c8216298ace4da278de65ecdbf5da31753ceef4d599",
   "display_name": "Python 3.8.5 64-bit ('base': conda)"
  }
 },
 "nbformat": 4,
 "nbformat_minor": 2,
 "cells": [
  {
   "cell_type": "code",
   "execution_count": 315,
   "metadata": {},
   "outputs": [],
   "source": [
    "#import dependencies\n",
    "import pandas as pd\n",
    "import csv\n",
    "import datetime"
   ]
  },
  {
   "cell_type": "code",
   "execution_count": 316,
   "metadata": {},
   "outputs": [],
   "source": [
    "#create filepath\n",
    "fireball_csv = \"Datasets/cneos_fireball_data.csv\"\n",
    "fireball_df = pd.read_csv(fireball_csv)"
   ]
  },
  {
   "cell_type": "code",
   "execution_count": 317,
   "metadata": {},
   "outputs": [],
   "source": [
    "#inital print\n",
    "fireball_df['Peak Brightness Date/Time (UT)'] = pd.to_datetime(fireball_df['Peak Brightness Date/Time (UT)'], format=\"%Y/%m/%d\")\n",
    "#get rid of the time stamp\n",
    "fireball_df['Peak Brightness Date/Time (UT)'] = fireball_df['Peak Brightness Date/Time (UT)'].dt.date\n",
    "#fireball_df"
   ]
  },
  {
   "cell_type": "code",
   "execution_count": 318,
   "metadata": {},
   "outputs": [
    {
     "output_type": "execute_result",
     "data": {
      "text/plain": [
       "    Peak Brightness Date/Time (UT) Latitude (deg.) Longitude (deg.)  \\\n",
       "0                       2017-07-31           24.7N           118.5W   \n",
       "1                       2017-07-23            6.6S            69.7W   \n",
       "2                       2017-07-13           23.1N            60.7E   \n",
       "3                       2017-06-30           34.3S           134.5E   \n",
       "4                       2017-06-23           57.0N           143.7E   \n",
       "..                             ...             ...              ...   \n",
       "714                     1993-11-29           26.5N            78.3E   \n",
       "715                     1993-10-31           51.3N           100.9W   \n",
       "716                     1991-10-04           78.7N             6.3E   \n",
       "717                     1990-10-01            7.5N           142.8E   \n",
       "718                     1988-04-15            4.1S           124.3E   \n",
       "\n",
       "     Altitude (km)  Velocity (km/s)    vx    vy    vz  \\\n",
       "0              NaN              NaN   NaN   NaN   NaN   \n",
       "1             38.0             17.2  -0.4   8.7 -14.8   \n",
       "2             35.0             13.7 -10.0  -6.5  -6.8   \n",
       "3             20.0             15.2  10.9  -9.7   4.2   \n",
       "4             35.1             24.3  17.7  13.1 -10.3   \n",
       "..             ...              ...   ...   ...   ...   \n",
       "714            NaN              NaN   NaN   NaN   NaN   \n",
       "715            NaN              NaN   NaN   NaN   NaN   \n",
       "716            NaN              NaN   NaN   NaN   NaN   \n",
       "717            NaN              NaN   NaN   NaN   NaN   \n",
       "718            NaN              NaN   NaN   NaN   NaN   \n",
       "\n",
       "     Total Radiated Energy (J)  Calculated Total Impact Energy (kt)  \n",
       "0                 5.800000e+10                                0.190  \n",
       "1                 3.500000e+10                                0.120  \n",
       "2                 7.300000e+10                                0.230  \n",
       "3                 9.400000e+10                                0.290  \n",
       "4                 1.840000e+11                                0.520  \n",
       "..                         ...                                  ...  \n",
       "714               2.600000e+10                                0.092  \n",
       "715               4.000000e+10                                0.130  \n",
       "716               5.500000e+11                                1.400  \n",
       "717               2.500000e+12                                5.200  \n",
       "718               7.580000e+12                               14.000  \n",
       "\n",
       "[719 rows x 10 columns]"
      ],
      "text/html": "<div>\n<style scoped>\n    .dataframe tbody tr th:only-of-type {\n        vertical-align: middle;\n    }\n\n    .dataframe tbody tr th {\n        vertical-align: top;\n    }\n\n    .dataframe thead th {\n        text-align: right;\n    }\n</style>\n<table border=\"1\" class=\"dataframe\">\n  <thead>\n    <tr style=\"text-align: right;\">\n      <th></th>\n      <th>Peak Brightness Date/Time (UT)</th>\n      <th>Latitude (deg.)</th>\n      <th>Longitude (deg.)</th>\n      <th>Altitude (km)</th>\n      <th>Velocity (km/s)</th>\n      <th>vx</th>\n      <th>vy</th>\n      <th>vz</th>\n      <th>Total Radiated Energy (J)</th>\n      <th>Calculated Total Impact Energy (kt)</th>\n    </tr>\n  </thead>\n  <tbody>\n    <tr>\n      <th>0</th>\n      <td>2017-07-31</td>\n      <td>24.7N</td>\n      <td>118.5W</td>\n      <td>NaN</td>\n      <td>NaN</td>\n      <td>NaN</td>\n      <td>NaN</td>\n      <td>NaN</td>\n      <td>5.800000e+10</td>\n      <td>0.190</td>\n    </tr>\n    <tr>\n      <th>1</th>\n      <td>2017-07-23</td>\n      <td>6.6S</td>\n      <td>69.7W</td>\n      <td>38.0</td>\n      <td>17.2</td>\n      <td>-0.4</td>\n      <td>8.7</td>\n      <td>-14.8</td>\n      <td>3.500000e+10</td>\n      <td>0.120</td>\n    </tr>\n    <tr>\n      <th>2</th>\n      <td>2017-07-13</td>\n      <td>23.1N</td>\n      <td>60.7E</td>\n      <td>35.0</td>\n      <td>13.7</td>\n      <td>-10.0</td>\n      <td>-6.5</td>\n      <td>-6.8</td>\n      <td>7.300000e+10</td>\n      <td>0.230</td>\n    </tr>\n    <tr>\n      <th>3</th>\n      <td>2017-06-30</td>\n      <td>34.3S</td>\n      <td>134.5E</td>\n      <td>20.0</td>\n      <td>15.2</td>\n      <td>10.9</td>\n      <td>-9.7</td>\n      <td>4.2</td>\n      <td>9.400000e+10</td>\n      <td>0.290</td>\n    </tr>\n    <tr>\n      <th>4</th>\n      <td>2017-06-23</td>\n      <td>57.0N</td>\n      <td>143.7E</td>\n      <td>35.1</td>\n      <td>24.3</td>\n      <td>17.7</td>\n      <td>13.1</td>\n      <td>-10.3</td>\n      <td>1.840000e+11</td>\n      <td>0.520</td>\n    </tr>\n    <tr>\n      <th>...</th>\n      <td>...</td>\n      <td>...</td>\n      <td>...</td>\n      <td>...</td>\n      <td>...</td>\n      <td>...</td>\n      <td>...</td>\n      <td>...</td>\n      <td>...</td>\n      <td>...</td>\n    </tr>\n    <tr>\n      <th>714</th>\n      <td>1993-11-29</td>\n      <td>26.5N</td>\n      <td>78.3E</td>\n      <td>NaN</td>\n      <td>NaN</td>\n      <td>NaN</td>\n      <td>NaN</td>\n      <td>NaN</td>\n      <td>2.600000e+10</td>\n      <td>0.092</td>\n    </tr>\n    <tr>\n      <th>715</th>\n      <td>1993-10-31</td>\n      <td>51.3N</td>\n      <td>100.9W</td>\n      <td>NaN</td>\n      <td>NaN</td>\n      <td>NaN</td>\n      <td>NaN</td>\n      <td>NaN</td>\n      <td>4.000000e+10</td>\n      <td>0.130</td>\n    </tr>\n    <tr>\n      <th>716</th>\n      <td>1991-10-04</td>\n      <td>78.7N</td>\n      <td>6.3E</td>\n      <td>NaN</td>\n      <td>NaN</td>\n      <td>NaN</td>\n      <td>NaN</td>\n      <td>NaN</td>\n      <td>5.500000e+11</td>\n      <td>1.400</td>\n    </tr>\n    <tr>\n      <th>717</th>\n      <td>1990-10-01</td>\n      <td>7.5N</td>\n      <td>142.8E</td>\n      <td>NaN</td>\n      <td>NaN</td>\n      <td>NaN</td>\n      <td>NaN</td>\n      <td>NaN</td>\n      <td>2.500000e+12</td>\n      <td>5.200</td>\n    </tr>\n    <tr>\n      <th>718</th>\n      <td>1988-04-15</td>\n      <td>4.1S</td>\n      <td>124.3E</td>\n      <td>NaN</td>\n      <td>NaN</td>\n      <td>NaN</td>\n      <td>NaN</td>\n      <td>NaN</td>\n      <td>7.580000e+12</td>\n      <td>14.000</td>\n    </tr>\n  </tbody>\n</table>\n<p>719 rows × 10 columns</p>\n</div>"
     },
     "metadata": {},
     "execution_count": 318
    }
   ],
   "source": [
    "fireball_df['Peak Brightness Date/Time (UT)'] = pd.to_datetime(fireball_df['Peak Brightness Date/Time (UT)'], format=\"%Y/%m/%d\")\n",
    "fireball_df"
   ]
  },
  {
   "cell_type": "code",
   "execution_count": 319,
   "metadata": {},
   "outputs": [
    {
     "output_type": "execute_result",
     "data": {
      "text/plain": [
       "Peak Brightness Date/Time (UT)         datetime64[ns]\n",
       "Latitude (deg.)                                object\n",
       "Longitude (deg.)                               object\n",
       "Altitude (km)                                 float64\n",
       "Velocity (km/s)                               float64\n",
       "vx                                            float64\n",
       "vy                                            float64\n",
       "vz                                            float64\n",
       "Total Radiated Energy (J)                     float64\n",
       "Calculated Total Impact Energy (kt)           float64\n",
       "dtype: object"
      ]
     },
     "metadata": {},
     "execution_count": 319
    }
   ],
   "source": [
    "fireball_df.dtypes"
   ]
  },
  {
   "cell_type": "code",
   "execution_count": 320,
   "metadata": {},
   "outputs": [
    {
     "output_type": "execute_result",
     "data": {
      "text/plain": [
       "  Peak Brightness Date/Time (UT) Latitude (deg.) Longitude (deg.)  \\\n",
       "0                     2016-01-21           10.8S             0.7E   \n",
       "1                     2016-01-27           45.8S            53.6E   \n",
       "2                     2016-02-06           30.4S            25.5W   \n",
       "3                     2016-02-19            0.7N            11.6W   \n",
       "4                     2016-02-21           36.5N            37.2W   \n",
       "\n",
       "   Altitude (km)  Velocity (km/s)    vx    vy   vz  Total Radiated Energy (J)  \\\n",
       "0           42.5             18.1  -3.8 -17.7 -1.2               4.600000e+10   \n",
       "1           37.0             11.5 -10.0  -4.4  3.6               5.000000e+10   \n",
       "2           31.0             15.6   2.7  14.5  5.0               6.853000e+12   \n",
       "3           39.4             15.5 -14.9  -0.5  4.1               2.020000e+11   \n",
       "4           32.0              NaN   NaN   NaN  NaN               3.690000e+11   \n",
       "\n",
       "   Calculated Total Impact Energy (kt)  \n",
       "0                                 0.15  \n",
       "1                                 0.16  \n",
       "2                                13.00  \n",
       "3                                 0.56  \n",
       "4                                 0.96  "
      ],
      "text/html": "<div>\n<style scoped>\n    .dataframe tbody tr th:only-of-type {\n        vertical-align: middle;\n    }\n\n    .dataframe tbody tr th {\n        vertical-align: top;\n    }\n\n    .dataframe thead th {\n        text-align: right;\n    }\n</style>\n<table border=\"1\" class=\"dataframe\">\n  <thead>\n    <tr style=\"text-align: right;\">\n      <th></th>\n      <th>Peak Brightness Date/Time (UT)</th>\n      <th>Latitude (deg.)</th>\n      <th>Longitude (deg.)</th>\n      <th>Altitude (km)</th>\n      <th>Velocity (km/s)</th>\n      <th>vx</th>\n      <th>vy</th>\n      <th>vz</th>\n      <th>Total Radiated Energy (J)</th>\n      <th>Calculated Total Impact Energy (kt)</th>\n    </tr>\n  </thead>\n  <tbody>\n    <tr>\n      <th>0</th>\n      <td>2016-01-21</td>\n      <td>10.8S</td>\n      <td>0.7E</td>\n      <td>42.5</td>\n      <td>18.1</td>\n      <td>-3.8</td>\n      <td>-17.7</td>\n      <td>-1.2</td>\n      <td>4.600000e+10</td>\n      <td>0.15</td>\n    </tr>\n    <tr>\n      <th>1</th>\n      <td>2016-01-27</td>\n      <td>45.8S</td>\n      <td>53.6E</td>\n      <td>37.0</td>\n      <td>11.5</td>\n      <td>-10.0</td>\n      <td>-4.4</td>\n      <td>3.6</td>\n      <td>5.000000e+10</td>\n      <td>0.16</td>\n    </tr>\n    <tr>\n      <th>2</th>\n      <td>2016-02-06</td>\n      <td>30.4S</td>\n      <td>25.5W</td>\n      <td>31.0</td>\n      <td>15.6</td>\n      <td>2.7</td>\n      <td>14.5</td>\n      <td>5.0</td>\n      <td>6.853000e+12</td>\n      <td>13.00</td>\n    </tr>\n    <tr>\n      <th>3</th>\n      <td>2016-02-19</td>\n      <td>0.7N</td>\n      <td>11.6W</td>\n      <td>39.4</td>\n      <td>15.5</td>\n      <td>-14.9</td>\n      <td>-0.5</td>\n      <td>4.1</td>\n      <td>2.020000e+11</td>\n      <td>0.56</td>\n    </tr>\n    <tr>\n      <th>4</th>\n      <td>2016-02-21</td>\n      <td>36.5N</td>\n      <td>37.2W</td>\n      <td>32.0</td>\n      <td>NaN</td>\n      <td>NaN</td>\n      <td>NaN</td>\n      <td>NaN</td>\n      <td>3.690000e+11</td>\n      <td>0.96</td>\n    </tr>\n  </tbody>\n</table>\n</div>"
     },
     "metadata": {},
     "execution_count": 320
    }
   ],
   "source": [
    "#drop dates that aren't within our 2016 range\n",
    "#this is code that Rosa created within \"ufo_data.ipynb\"\n",
    "\n",
    "initial_date = \"2016-01-01\"\n",
    "end_date = \"2016-12-31\"\n",
    "\n",
    "fireball_df = fireball_df.loc[(fireball_df['Peak Brightness Date/Time (UT)']>=initial_date) & (fireball_df['Peak Brightness Date/Time (UT)']<= end_date)]\n",
    "fireball_df = fireball_df.sort_values(by=['Peak Brightness Date/Time (UT)'])\n",
    "fireball_df = fireball_df.reset_index(drop=True)\n",
    "fireball_df.head()"
   ]
  },
  {
   "cell_type": "code",
   "execution_count": 321,
   "metadata": {},
   "outputs": [],
   "source": [
    "#filter for columns we want to keep\n",
    "fireball_df = fireball_df[['Peak Brightness Date/Time (UT)', 'Latitude (deg.)', 'Longitude (deg.)']]"
   ]
  },
  {
   "cell_type": "code",
   "execution_count": 322,
   "metadata": {},
   "outputs": [
    {
     "output_type": "execute_result",
     "data": {
      "text/plain": [
       "   Peak Brightness Date/Time (UT) Latitude (deg.) Longitude (deg.)\n",
       "0                      2016-01-21           10.8S             0.7E\n",
       "1                      2016-01-27           45.8S            53.6E\n",
       "2                      2016-02-06           30.4S            25.5W\n",
       "3                      2016-02-19            0.7N            11.6W\n",
       "4                      2016-02-21           36.5N            37.2W\n",
       "5                      2016-02-23           32.3N            67.2E\n",
       "6                      2016-03-03           48.0S            51.0E\n",
       "7                      2016-03-16           49.2S             6.3W\n",
       "8                      2016-04-10           22.0N           149.0E\n",
       "9                      2016-04-12           38.3N           162.2E\n",
       "10                     2016-04-18           20.7N            14.5W\n",
       "11                     2016-04-24            9.8N            42.8W\n",
       "12                     2016-05-13           26.2N           122.3W\n",
       "13                     2016-05-16            3.2N             6.6E\n",
       "14                     2016-05-20           32.8S            15.1E\n",
       "15                     2016-05-29           10.2N            48.8W\n",
       "16                     2016-06-02           33.8N           110.9W\n",
       "17                     2016-06-05           17.4S           138.3E\n",
       "18                     2016-06-27           15.8N            11.9W\n",
       "19                     2016-07-05            1.0N            48.6E\n",
       "20                     2016-07-21            7.8N             1.6W\n",
       "21                     2016-08-05           46.4N           171.6E\n",
       "22                     2016-08-11           43.7S            53.8E\n",
       "23                     2016-08-27           56.9S           162.2E\n",
       "24                     2016-09-14            3.5S            44.6E\n",
       "25                     2016-09-22           51.8S           178.5E\n",
       "26                     2016-10-01           36.2N             6.7E\n",
       "27                     2016-11-03           39.6S            16.3W\n",
       "28                     2016-11-24           15.2S            80.3E\n",
       "29                     2016-11-29           30.6S            93.1W\n",
       "30                     2016-12-07           34.5S           126.6W\n",
       "31                     2016-12-23           21.3N            49.3E"
      ],
      "text/html": "<div>\n<style scoped>\n    .dataframe tbody tr th:only-of-type {\n        vertical-align: middle;\n    }\n\n    .dataframe tbody tr th {\n        vertical-align: top;\n    }\n\n    .dataframe thead th {\n        text-align: right;\n    }\n</style>\n<table border=\"1\" class=\"dataframe\">\n  <thead>\n    <tr style=\"text-align: right;\">\n      <th></th>\n      <th>Peak Brightness Date/Time (UT)</th>\n      <th>Latitude (deg.)</th>\n      <th>Longitude (deg.)</th>\n    </tr>\n  </thead>\n  <tbody>\n    <tr>\n      <th>0</th>\n      <td>2016-01-21</td>\n      <td>10.8S</td>\n      <td>0.7E</td>\n    </tr>\n    <tr>\n      <th>1</th>\n      <td>2016-01-27</td>\n      <td>45.8S</td>\n      <td>53.6E</td>\n    </tr>\n    <tr>\n      <th>2</th>\n      <td>2016-02-06</td>\n      <td>30.4S</td>\n      <td>25.5W</td>\n    </tr>\n    <tr>\n      <th>3</th>\n      <td>2016-02-19</td>\n      <td>0.7N</td>\n      <td>11.6W</td>\n    </tr>\n    <tr>\n      <th>4</th>\n      <td>2016-02-21</td>\n      <td>36.5N</td>\n      <td>37.2W</td>\n    </tr>\n    <tr>\n      <th>5</th>\n      <td>2016-02-23</td>\n      <td>32.3N</td>\n      <td>67.2E</td>\n    </tr>\n    <tr>\n      <th>6</th>\n      <td>2016-03-03</td>\n      <td>48.0S</td>\n      <td>51.0E</td>\n    </tr>\n    <tr>\n      <th>7</th>\n      <td>2016-03-16</td>\n      <td>49.2S</td>\n      <td>6.3W</td>\n    </tr>\n    <tr>\n      <th>8</th>\n      <td>2016-04-10</td>\n      <td>22.0N</td>\n      <td>149.0E</td>\n    </tr>\n    <tr>\n      <th>9</th>\n      <td>2016-04-12</td>\n      <td>38.3N</td>\n      <td>162.2E</td>\n    </tr>\n    <tr>\n      <th>10</th>\n      <td>2016-04-18</td>\n      <td>20.7N</td>\n      <td>14.5W</td>\n    </tr>\n    <tr>\n      <th>11</th>\n      <td>2016-04-24</td>\n      <td>9.8N</td>\n      <td>42.8W</td>\n    </tr>\n    <tr>\n      <th>12</th>\n      <td>2016-05-13</td>\n      <td>26.2N</td>\n      <td>122.3W</td>\n    </tr>\n    <tr>\n      <th>13</th>\n      <td>2016-05-16</td>\n      <td>3.2N</td>\n      <td>6.6E</td>\n    </tr>\n    <tr>\n      <th>14</th>\n      <td>2016-05-20</td>\n      <td>32.8S</td>\n      <td>15.1E</td>\n    </tr>\n    <tr>\n      <th>15</th>\n      <td>2016-05-29</td>\n      <td>10.2N</td>\n      <td>48.8W</td>\n    </tr>\n    <tr>\n      <th>16</th>\n      <td>2016-06-02</td>\n      <td>33.8N</td>\n      <td>110.9W</td>\n    </tr>\n    <tr>\n      <th>17</th>\n      <td>2016-06-05</td>\n      <td>17.4S</td>\n      <td>138.3E</td>\n    </tr>\n    <tr>\n      <th>18</th>\n      <td>2016-06-27</td>\n      <td>15.8N</td>\n      <td>11.9W</td>\n    </tr>\n    <tr>\n      <th>19</th>\n      <td>2016-07-05</td>\n      <td>1.0N</td>\n      <td>48.6E</td>\n    </tr>\n    <tr>\n      <th>20</th>\n      <td>2016-07-21</td>\n      <td>7.8N</td>\n      <td>1.6W</td>\n    </tr>\n    <tr>\n      <th>21</th>\n      <td>2016-08-05</td>\n      <td>46.4N</td>\n      <td>171.6E</td>\n    </tr>\n    <tr>\n      <th>22</th>\n      <td>2016-08-11</td>\n      <td>43.7S</td>\n      <td>53.8E</td>\n    </tr>\n    <tr>\n      <th>23</th>\n      <td>2016-08-27</td>\n      <td>56.9S</td>\n      <td>162.2E</td>\n    </tr>\n    <tr>\n      <th>24</th>\n      <td>2016-09-14</td>\n      <td>3.5S</td>\n      <td>44.6E</td>\n    </tr>\n    <tr>\n      <th>25</th>\n      <td>2016-09-22</td>\n      <td>51.8S</td>\n      <td>178.5E</td>\n    </tr>\n    <tr>\n      <th>26</th>\n      <td>2016-10-01</td>\n      <td>36.2N</td>\n      <td>6.7E</td>\n    </tr>\n    <tr>\n      <th>27</th>\n      <td>2016-11-03</td>\n      <td>39.6S</td>\n      <td>16.3W</td>\n    </tr>\n    <tr>\n      <th>28</th>\n      <td>2016-11-24</td>\n      <td>15.2S</td>\n      <td>80.3E</td>\n    </tr>\n    <tr>\n      <th>29</th>\n      <td>2016-11-29</td>\n      <td>30.6S</td>\n      <td>93.1W</td>\n    </tr>\n    <tr>\n      <th>30</th>\n      <td>2016-12-07</td>\n      <td>34.5S</td>\n      <td>126.6W</td>\n    </tr>\n    <tr>\n      <th>31</th>\n      <td>2016-12-23</td>\n      <td>21.3N</td>\n      <td>49.3E</td>\n    </tr>\n  </tbody>\n</table>\n</div>"
     },
     "metadata": {},
     "execution_count": 322
    }
   ],
   "source": [
    "#sanity check\n",
    "fireball_df"
   ]
  },
  {
   "cell_type": "code",
   "execution_count": 323,
   "metadata": {},
   "outputs": [
    {
     "output_type": "execute_result",
     "data": {
      "text/plain": [
       "Peak Brightness Date/Time (UT)    datetime64[ns]\n",
       "Latitude (deg.)                           object\n",
       "Longitude (deg.)                          object\n",
       "dtype: object"
      ]
     },
     "metadata": {},
     "execution_count": 323
    }
   ],
   "source": [
    "fireball_df.dtypes"
   ]
  },
  {
   "cell_type": "code",
   "execution_count": 324,
   "metadata": {},
   "outputs": [
    {
     "output_type": "execute_result",
     "data": {
      "text/plain": [
       "   Peak Brightness Date/Time (UT) Latitude (deg.) Longitude (deg.)\n",
       "0                      2016-01-21           10.8S             0.7E\n",
       "1                      2016-01-27           45.8S            53.6E\n",
       "2                      2016-02-06           30.4S            25.5W\n",
       "6                      2016-03-03           48.0S            51.0E\n",
       "7                      2016-03-16           49.2S             6.3W\n",
       "14                     2016-05-20           32.8S            15.1E\n",
       "17                     2016-06-05           17.4S           138.3E\n",
       "22                     2016-08-11           43.7S            53.8E\n",
       "23                     2016-08-27           56.9S           162.2E\n",
       "24                     2016-09-14            3.5S            44.6E\n",
       "25                     2016-09-22           51.8S           178.5E\n",
       "27                     2016-11-03           39.6S            16.3W\n",
       "28                     2016-11-24           15.2S            80.3E\n",
       "29                     2016-11-29           30.6S            93.1W\n",
       "30                     2016-12-07           34.5S           126.6W"
      ],
      "text/html": "<div>\n<style scoped>\n    .dataframe tbody tr th:only-of-type {\n        vertical-align: middle;\n    }\n\n    .dataframe tbody tr th {\n        vertical-align: top;\n    }\n\n    .dataframe thead th {\n        text-align: right;\n    }\n</style>\n<table border=\"1\" class=\"dataframe\">\n  <thead>\n    <tr style=\"text-align: right;\">\n      <th></th>\n      <th>Peak Brightness Date/Time (UT)</th>\n      <th>Latitude (deg.)</th>\n      <th>Longitude (deg.)</th>\n    </tr>\n  </thead>\n  <tbody>\n    <tr>\n      <th>0</th>\n      <td>2016-01-21</td>\n      <td>10.8S</td>\n      <td>0.7E</td>\n    </tr>\n    <tr>\n      <th>1</th>\n      <td>2016-01-27</td>\n      <td>45.8S</td>\n      <td>53.6E</td>\n    </tr>\n    <tr>\n      <th>2</th>\n      <td>2016-02-06</td>\n      <td>30.4S</td>\n      <td>25.5W</td>\n    </tr>\n    <tr>\n      <th>6</th>\n      <td>2016-03-03</td>\n      <td>48.0S</td>\n      <td>51.0E</td>\n    </tr>\n    <tr>\n      <th>7</th>\n      <td>2016-03-16</td>\n      <td>49.2S</td>\n      <td>6.3W</td>\n    </tr>\n    <tr>\n      <th>14</th>\n      <td>2016-05-20</td>\n      <td>32.8S</td>\n      <td>15.1E</td>\n    </tr>\n    <tr>\n      <th>17</th>\n      <td>2016-06-05</td>\n      <td>17.4S</td>\n      <td>138.3E</td>\n    </tr>\n    <tr>\n      <th>22</th>\n      <td>2016-08-11</td>\n      <td>43.7S</td>\n      <td>53.8E</td>\n    </tr>\n    <tr>\n      <th>23</th>\n      <td>2016-08-27</td>\n      <td>56.9S</td>\n      <td>162.2E</td>\n    </tr>\n    <tr>\n      <th>24</th>\n      <td>2016-09-14</td>\n      <td>3.5S</td>\n      <td>44.6E</td>\n    </tr>\n    <tr>\n      <th>25</th>\n      <td>2016-09-22</td>\n      <td>51.8S</td>\n      <td>178.5E</td>\n    </tr>\n    <tr>\n      <th>27</th>\n      <td>2016-11-03</td>\n      <td>39.6S</td>\n      <td>16.3W</td>\n    </tr>\n    <tr>\n      <th>28</th>\n      <td>2016-11-24</td>\n      <td>15.2S</td>\n      <td>80.3E</td>\n    </tr>\n    <tr>\n      <th>29</th>\n      <td>2016-11-29</td>\n      <td>30.6S</td>\n      <td>93.1W</td>\n    </tr>\n    <tr>\n      <th>30</th>\n      <td>2016-12-07</td>\n      <td>34.5S</td>\n      <td>126.6W</td>\n    </tr>\n  </tbody>\n</table>\n</div>"
     },
     "metadata": {},
     "execution_count": 324
    }
   ],
   "source": [
    "\n",
    "#southern_lat = fireball_df.loc[fireball_df['Latitude (deg.)'] == \"S\", :]\n",
    "\n",
    "fireball_df[fireball_df['Latitude (deg.)'].str.contains(\"S\", na=False)]"
   ]
  },
  {
   "cell_type": "code",
   "execution_count": 325,
   "metadata": {},
   "outputs": [
    {
     "output_type": "execute_result",
     "data": {
      "text/plain": [
       "Peak Brightness Date/Time (UT)    datetime64[ns]\n",
       "Latitude (deg.)                           object\n",
       "Longitude (deg.)                          object\n",
       "dtype: object"
      ]
     },
     "metadata": {},
     "execution_count": 325
    }
   ],
   "source": [
    "fireball_df.dtypes"
   ]
  },
  {
   "cell_type": "code",
   "execution_count": 326,
   "metadata": {},
   "outputs": [
    {
     "output_type": "execute_result",
     "data": {
      "text/plain": [
       "0     -10.8\n",
       "1     -45.8\n",
       "2     -30.4\n",
       "3      -0.7\n",
       "4     -36.5\n",
       "5     -32.3\n",
       "6     -48.0\n",
       "7     -49.2\n",
       "8     -22.0\n",
       "9     -38.3\n",
       "10    -20.7\n",
       "11     -9.8\n",
       "12    -26.2\n",
       "13     -3.2\n",
       "14    -32.8\n",
       "15    -10.2\n",
       "16    -33.8\n",
       "17    -17.4\n",
       "18    -15.8\n",
       "19     -1.0\n",
       "20     -7.8\n",
       "21    -46.4\n",
       "22    -43.7\n",
       "23    -56.9\n",
       "24     -3.5\n",
       "25    -51.8\n",
       "26    -36.2\n",
       "27    -39.6\n",
       "28    -15.2\n",
       "29    -30.6\n",
       "30    -34.5\n",
       "31    -21.3\n",
       "Name: Latitude (deg.), dtype: object"
      ]
     },
     "metadata": {},
     "execution_count": 326
    }
   ],
   "source": [
    "#convert the lat/long to the same format as the other files\n",
    "# Northern latitudes are positive N = +\n",
    "#Southern latitudes are negative S = -\n",
    "#Eastern longitudes are positive E = +\n",
    "#Western longitudes are negative W = -\n",
    "\n",
    "#drop the N,E,S,W and make the correct values negative\n",
    "concat_attempt = \"-\" + fireball_df['Latitude (deg.)'].str[: -1]\n",
    "concat_attempt"
   ]
  },
  {
   "cell_type": "code",
   "execution_count": 327,
   "metadata": {},
   "outputs": [
    {
     "output_type": "stream",
     "name": "stderr",
     "text": [
      "<ipython-input-327-ec2425bf1f0d>:3: SettingWithCopyWarning: \nA value is trying to be set on a copy of a slice from a DataFrame.\nTry using .loc[row_indexer,col_indexer] = value instead\n\nSee the caveats in the documentation: https://pandas.pydata.org/pandas-docs/stable/user_guide/indexing.html#returning-a-view-versus-a-copy\n  southern_lat_df['Latitude (deg.)'] = \"-\" + southern_lat_df['Latitude (deg.)'].str[: -1]\n"
     ]
    },
    {
     "output_type": "execute_result",
     "data": {
      "text/plain": [
       "   Peak Brightness Date/Time (UT) Latitude (deg.) Longitude (deg.)\n",
       "0                      2016-01-21           -10.8             0.7E\n",
       "1                      2016-01-27           -45.8            53.6E\n",
       "2                      2016-02-06           -30.4            25.5W\n",
       "6                      2016-03-03           -48.0            51.0E\n",
       "7                      2016-03-16           -49.2             6.3W\n",
       "14                     2016-05-20           -32.8            15.1E\n",
       "17                     2016-06-05           -17.4           138.3E\n",
       "22                     2016-08-11           -43.7            53.8E\n",
       "23                     2016-08-27           -56.9           162.2E\n",
       "24                     2016-09-14            -3.5            44.6E\n",
       "25                     2016-09-22           -51.8           178.5E\n",
       "27                     2016-11-03           -39.6            16.3W\n",
       "28                     2016-11-24           -15.2            80.3E\n",
       "29                     2016-11-29           -30.6            93.1W\n",
       "30                     2016-12-07           -34.5           126.6W"
      ],
      "text/html": "<div>\n<style scoped>\n    .dataframe tbody tr th:only-of-type {\n        vertical-align: middle;\n    }\n\n    .dataframe tbody tr th {\n        vertical-align: top;\n    }\n\n    .dataframe thead th {\n        text-align: right;\n    }\n</style>\n<table border=\"1\" class=\"dataframe\">\n  <thead>\n    <tr style=\"text-align: right;\">\n      <th></th>\n      <th>Peak Brightness Date/Time (UT)</th>\n      <th>Latitude (deg.)</th>\n      <th>Longitude (deg.)</th>\n    </tr>\n  </thead>\n  <tbody>\n    <tr>\n      <th>0</th>\n      <td>2016-01-21</td>\n      <td>-10.8</td>\n      <td>0.7E</td>\n    </tr>\n    <tr>\n      <th>1</th>\n      <td>2016-01-27</td>\n      <td>-45.8</td>\n      <td>53.6E</td>\n    </tr>\n    <tr>\n      <th>2</th>\n      <td>2016-02-06</td>\n      <td>-30.4</td>\n      <td>25.5W</td>\n    </tr>\n    <tr>\n      <th>6</th>\n      <td>2016-03-03</td>\n      <td>-48.0</td>\n      <td>51.0E</td>\n    </tr>\n    <tr>\n      <th>7</th>\n      <td>2016-03-16</td>\n      <td>-49.2</td>\n      <td>6.3W</td>\n    </tr>\n    <tr>\n      <th>14</th>\n      <td>2016-05-20</td>\n      <td>-32.8</td>\n      <td>15.1E</td>\n    </tr>\n    <tr>\n      <th>17</th>\n      <td>2016-06-05</td>\n      <td>-17.4</td>\n      <td>138.3E</td>\n    </tr>\n    <tr>\n      <th>22</th>\n      <td>2016-08-11</td>\n      <td>-43.7</td>\n      <td>53.8E</td>\n    </tr>\n    <tr>\n      <th>23</th>\n      <td>2016-08-27</td>\n      <td>-56.9</td>\n      <td>162.2E</td>\n    </tr>\n    <tr>\n      <th>24</th>\n      <td>2016-09-14</td>\n      <td>-3.5</td>\n      <td>44.6E</td>\n    </tr>\n    <tr>\n      <th>25</th>\n      <td>2016-09-22</td>\n      <td>-51.8</td>\n      <td>178.5E</td>\n    </tr>\n    <tr>\n      <th>27</th>\n      <td>2016-11-03</td>\n      <td>-39.6</td>\n      <td>16.3W</td>\n    </tr>\n    <tr>\n      <th>28</th>\n      <td>2016-11-24</td>\n      <td>-15.2</td>\n      <td>80.3E</td>\n    </tr>\n    <tr>\n      <th>29</th>\n      <td>2016-11-29</td>\n      <td>-30.6</td>\n      <td>93.1W</td>\n    </tr>\n    <tr>\n      <th>30</th>\n      <td>2016-12-07</td>\n      <td>-34.5</td>\n      <td>126.6W</td>\n    </tr>\n  </tbody>\n</table>\n</div>"
     },
     "metadata": {},
     "execution_count": 327
    }
   ],
   "source": [
    "#filter the southern lats\n",
    "southern_lat_df = fireball_df[fireball_df['Latitude (deg.)'].str.contains(\"S\", na=False)]\n",
    "southern_lat_df['Latitude (deg.)'] = \"-\" + southern_lat_df['Latitude (deg.)'].str[: -1]\n",
    "southern_lat_df"
   ]
  },
  {
   "cell_type": "code",
   "execution_count": 328,
   "metadata": {},
   "outputs": [
    {
     "output_type": "execute_result",
     "data": {
      "text/plain": [
       "   Peak Brightness Date/Time (UT) Latitude (deg.) Longitude (deg.)\n",
       "0                      2016-01-21           -10.8             0.7E\n",
       "1                      2016-01-27           -45.8            53.6E\n",
       "2                      2016-02-06           -30.4            25.5W\n",
       "3                      2016-02-19            0.7N            11.6W\n",
       "4                      2016-02-21           36.5N            37.2W\n",
       "5                      2016-02-23           32.3N            67.2E\n",
       "6                      2016-03-03           -48.0            51.0E\n",
       "7                      2016-03-16           -49.2             6.3W\n",
       "8                      2016-04-10           22.0N           149.0E\n",
       "9                      2016-04-12           38.3N           162.2E\n",
       "10                     2016-04-18           20.7N            14.5W\n",
       "11                     2016-04-24            9.8N            42.8W\n",
       "12                     2016-05-13           26.2N           122.3W\n",
       "13                     2016-05-16            3.2N             6.6E\n",
       "14                     2016-05-20           -32.8            15.1E\n",
       "15                     2016-05-29           10.2N            48.8W\n",
       "16                     2016-06-02           33.8N           110.9W\n",
       "17                     2016-06-05           -17.4           138.3E\n",
       "18                     2016-06-27           15.8N            11.9W\n",
       "19                     2016-07-05            1.0N            48.6E\n",
       "20                     2016-07-21            7.8N             1.6W\n",
       "21                     2016-08-05           46.4N           171.6E\n",
       "22                     2016-08-11           -43.7            53.8E\n",
       "23                     2016-08-27           -56.9           162.2E\n",
       "24                     2016-09-14            -3.5            44.6E\n",
       "25                     2016-09-22           -51.8           178.5E\n",
       "26                     2016-10-01           36.2N             6.7E\n",
       "27                     2016-11-03           -39.6            16.3W\n",
       "28                     2016-11-24           -15.2            80.3E\n",
       "29                     2016-11-29           -30.6            93.1W\n",
       "30                     2016-12-07           -34.5           126.6W\n",
       "31                     2016-12-23           21.3N            49.3E"
      ],
      "text/html": "<div>\n<style scoped>\n    .dataframe tbody tr th:only-of-type {\n        vertical-align: middle;\n    }\n\n    .dataframe tbody tr th {\n        vertical-align: top;\n    }\n\n    .dataframe thead th {\n        text-align: right;\n    }\n</style>\n<table border=\"1\" class=\"dataframe\">\n  <thead>\n    <tr style=\"text-align: right;\">\n      <th></th>\n      <th>Peak Brightness Date/Time (UT)</th>\n      <th>Latitude (deg.)</th>\n      <th>Longitude (deg.)</th>\n    </tr>\n  </thead>\n  <tbody>\n    <tr>\n      <th>0</th>\n      <td>2016-01-21</td>\n      <td>-10.8</td>\n      <td>0.7E</td>\n    </tr>\n    <tr>\n      <th>1</th>\n      <td>2016-01-27</td>\n      <td>-45.8</td>\n      <td>53.6E</td>\n    </tr>\n    <tr>\n      <th>2</th>\n      <td>2016-02-06</td>\n      <td>-30.4</td>\n      <td>25.5W</td>\n    </tr>\n    <tr>\n      <th>3</th>\n      <td>2016-02-19</td>\n      <td>0.7N</td>\n      <td>11.6W</td>\n    </tr>\n    <tr>\n      <th>4</th>\n      <td>2016-02-21</td>\n      <td>36.5N</td>\n      <td>37.2W</td>\n    </tr>\n    <tr>\n      <th>5</th>\n      <td>2016-02-23</td>\n      <td>32.3N</td>\n      <td>67.2E</td>\n    </tr>\n    <tr>\n      <th>6</th>\n      <td>2016-03-03</td>\n      <td>-48.0</td>\n      <td>51.0E</td>\n    </tr>\n    <tr>\n      <th>7</th>\n      <td>2016-03-16</td>\n      <td>-49.2</td>\n      <td>6.3W</td>\n    </tr>\n    <tr>\n      <th>8</th>\n      <td>2016-04-10</td>\n      <td>22.0N</td>\n      <td>149.0E</td>\n    </tr>\n    <tr>\n      <th>9</th>\n      <td>2016-04-12</td>\n      <td>38.3N</td>\n      <td>162.2E</td>\n    </tr>\n    <tr>\n      <th>10</th>\n      <td>2016-04-18</td>\n      <td>20.7N</td>\n      <td>14.5W</td>\n    </tr>\n    <tr>\n      <th>11</th>\n      <td>2016-04-24</td>\n      <td>9.8N</td>\n      <td>42.8W</td>\n    </tr>\n    <tr>\n      <th>12</th>\n      <td>2016-05-13</td>\n      <td>26.2N</td>\n      <td>122.3W</td>\n    </tr>\n    <tr>\n      <th>13</th>\n      <td>2016-05-16</td>\n      <td>3.2N</td>\n      <td>6.6E</td>\n    </tr>\n    <tr>\n      <th>14</th>\n      <td>2016-05-20</td>\n      <td>-32.8</td>\n      <td>15.1E</td>\n    </tr>\n    <tr>\n      <th>15</th>\n      <td>2016-05-29</td>\n      <td>10.2N</td>\n      <td>48.8W</td>\n    </tr>\n    <tr>\n      <th>16</th>\n      <td>2016-06-02</td>\n      <td>33.8N</td>\n      <td>110.9W</td>\n    </tr>\n    <tr>\n      <th>17</th>\n      <td>2016-06-05</td>\n      <td>-17.4</td>\n      <td>138.3E</td>\n    </tr>\n    <tr>\n      <th>18</th>\n      <td>2016-06-27</td>\n      <td>15.8N</td>\n      <td>11.9W</td>\n    </tr>\n    <tr>\n      <th>19</th>\n      <td>2016-07-05</td>\n      <td>1.0N</td>\n      <td>48.6E</td>\n    </tr>\n    <tr>\n      <th>20</th>\n      <td>2016-07-21</td>\n      <td>7.8N</td>\n      <td>1.6W</td>\n    </tr>\n    <tr>\n      <th>21</th>\n      <td>2016-08-05</td>\n      <td>46.4N</td>\n      <td>171.6E</td>\n    </tr>\n    <tr>\n      <th>22</th>\n      <td>2016-08-11</td>\n      <td>-43.7</td>\n      <td>53.8E</td>\n    </tr>\n    <tr>\n      <th>23</th>\n      <td>2016-08-27</td>\n      <td>-56.9</td>\n      <td>162.2E</td>\n    </tr>\n    <tr>\n      <th>24</th>\n      <td>2016-09-14</td>\n      <td>-3.5</td>\n      <td>44.6E</td>\n    </tr>\n    <tr>\n      <th>25</th>\n      <td>2016-09-22</td>\n      <td>-51.8</td>\n      <td>178.5E</td>\n    </tr>\n    <tr>\n      <th>26</th>\n      <td>2016-10-01</td>\n      <td>36.2N</td>\n      <td>6.7E</td>\n    </tr>\n    <tr>\n      <th>27</th>\n      <td>2016-11-03</td>\n      <td>-39.6</td>\n      <td>16.3W</td>\n    </tr>\n    <tr>\n      <th>28</th>\n      <td>2016-11-24</td>\n      <td>-15.2</td>\n      <td>80.3E</td>\n    </tr>\n    <tr>\n      <th>29</th>\n      <td>2016-11-29</td>\n      <td>-30.6</td>\n      <td>93.1W</td>\n    </tr>\n    <tr>\n      <th>30</th>\n      <td>2016-12-07</td>\n      <td>-34.5</td>\n      <td>126.6W</td>\n    </tr>\n    <tr>\n      <th>31</th>\n      <td>2016-12-23</td>\n      <td>21.3N</td>\n      <td>49.3E</td>\n    </tr>\n  </tbody>\n</table>\n</div>"
     },
     "metadata": {},
     "execution_count": 328
    }
   ],
   "source": [
    "#update the dataframe with updated lat values\n",
    "#code modified from:https://stackoverflow.com/questions/43316608/remove-timestamp-from-date-string-in-python/43316706\n",
    "#I continue to use this code but I'm going to cite this here\n",
    "\n",
    "fireball_df.set_index('Peak Brightness Date/Time (UT)', inplace=True)\n",
    "fireball_df.update(southern_lat_df.set_index('Peak Brightness Date/Time (UT)'))\n",
    "fireball_df.reset_index()"
   ]
  },
  {
   "cell_type": "code",
   "execution_count": 329,
   "metadata": {},
   "outputs": [
    {
     "output_type": "stream",
     "name": "stderr",
     "text": [
      "<ipython-input-329-6062add9dc00>:3: SettingWithCopyWarning: \nA value is trying to be set on a copy of a slice from a DataFrame.\nTry using .loc[row_indexer,col_indexer] = value instead\n\nSee the caveats in the documentation: https://pandas.pydata.org/pandas-docs/stable/user_guide/indexing.html#returning-a-view-versus-a-copy\n  longitude_df['Longitude (deg.)'] = \"-\" + longitude_df['Longitude (deg.)'].str[: -1]\n"
     ]
    },
    {
     "output_type": "execute_result",
     "data": {
      "text/plain": [
       "                               Latitude (deg.) Longitude (deg.)\n",
       "Peak Brightness Date/Time (UT)                                 \n",
       "2016-02-06                               -30.4            -25.5\n",
       "2016-02-19                                0.7N            -11.6\n",
       "2016-02-21                               36.5N            -37.2\n",
       "2016-03-16                               -49.2             -6.3\n",
       "2016-04-18                               20.7N            -14.5\n",
       "2016-04-24                                9.8N            -42.8\n",
       "2016-05-13                               26.2N           -122.3\n",
       "2016-05-29                               10.2N            -48.8\n",
       "2016-06-02                               33.8N           -110.9\n",
       "2016-06-27                               15.8N            -11.9\n",
       "2016-07-21                                7.8N             -1.6\n",
       "2016-11-03                               -39.6            -16.3\n",
       "2016-11-29                               -30.6            -93.1\n",
       "2016-12-07                               -34.5           -126.6"
      ],
      "text/html": "<div>\n<style scoped>\n    .dataframe tbody tr th:only-of-type {\n        vertical-align: middle;\n    }\n\n    .dataframe tbody tr th {\n        vertical-align: top;\n    }\n\n    .dataframe thead th {\n        text-align: right;\n    }\n</style>\n<table border=\"1\" class=\"dataframe\">\n  <thead>\n    <tr style=\"text-align: right;\">\n      <th></th>\n      <th>Latitude (deg.)</th>\n      <th>Longitude (deg.)</th>\n    </tr>\n    <tr>\n      <th>Peak Brightness Date/Time (UT)</th>\n      <th></th>\n      <th></th>\n    </tr>\n  </thead>\n  <tbody>\n    <tr>\n      <th>2016-02-06</th>\n      <td>-30.4</td>\n      <td>-25.5</td>\n    </tr>\n    <tr>\n      <th>2016-02-19</th>\n      <td>0.7N</td>\n      <td>-11.6</td>\n    </tr>\n    <tr>\n      <th>2016-02-21</th>\n      <td>36.5N</td>\n      <td>-37.2</td>\n    </tr>\n    <tr>\n      <th>2016-03-16</th>\n      <td>-49.2</td>\n      <td>-6.3</td>\n    </tr>\n    <tr>\n      <th>2016-04-18</th>\n      <td>20.7N</td>\n      <td>-14.5</td>\n    </tr>\n    <tr>\n      <th>2016-04-24</th>\n      <td>9.8N</td>\n      <td>-42.8</td>\n    </tr>\n    <tr>\n      <th>2016-05-13</th>\n      <td>26.2N</td>\n      <td>-122.3</td>\n    </tr>\n    <tr>\n      <th>2016-05-29</th>\n      <td>10.2N</td>\n      <td>-48.8</td>\n    </tr>\n    <tr>\n      <th>2016-06-02</th>\n      <td>33.8N</td>\n      <td>-110.9</td>\n    </tr>\n    <tr>\n      <th>2016-06-27</th>\n      <td>15.8N</td>\n      <td>-11.9</td>\n    </tr>\n    <tr>\n      <th>2016-07-21</th>\n      <td>7.8N</td>\n      <td>-1.6</td>\n    </tr>\n    <tr>\n      <th>2016-11-03</th>\n      <td>-39.6</td>\n      <td>-16.3</td>\n    </tr>\n    <tr>\n      <th>2016-11-29</th>\n      <td>-30.6</td>\n      <td>-93.1</td>\n    </tr>\n    <tr>\n      <th>2016-12-07</th>\n      <td>-34.5</td>\n      <td>-126.6</td>\n    </tr>\n  </tbody>\n</table>\n</div>"
     },
     "metadata": {},
     "execution_count": 329
    }
   ],
   "source": [
    "#filter the Western Longitudes\n",
    "longitude_df = fireball_df[fireball_df['Longitude (deg.)'].str.contains(\"W\", na=False)]\n",
    "longitude_df['Longitude (deg.)'] = \"-\" + longitude_df['Longitude (deg.)'].str[: -1]\n",
    "longitude_df"
   ]
  },
  {
   "cell_type": "code",
   "execution_count": 330,
   "metadata": {},
   "outputs": [
    {
     "output_type": "execute_result",
     "data": {
      "text/plain": [
       "                               Latitude (deg.) Longitude (deg.)\n",
       "Peak Brightness Date/Time (UT)                                 \n",
       "2016-01-21                               -10.8             0.7E\n",
       "2016-01-27                               -45.8            53.6E\n",
       "2016-02-06                               -30.4            -25.5\n",
       "2016-02-19                                0.7N            -11.6\n",
       "2016-02-21                               36.5N            -37.2\n",
       "2016-02-23                               32.3N            67.2E\n",
       "2016-03-03                               -48.0            51.0E\n",
       "2016-03-16                               -49.2             -6.3\n",
       "2016-04-10                               22.0N           149.0E\n",
       "2016-04-12                               38.3N           162.2E\n",
       "2016-04-18                               20.7N            -14.5\n",
       "2016-04-24                                9.8N            -42.8\n",
       "2016-05-13                               26.2N           -122.3\n",
       "2016-05-16                                3.2N             6.6E\n",
       "2016-05-20                               -32.8            15.1E\n",
       "2016-05-29                               10.2N            -48.8\n",
       "2016-06-02                               33.8N           -110.9\n",
       "2016-06-05                               -17.4           138.3E\n",
       "2016-06-27                               15.8N            -11.9\n",
       "2016-07-05                                1.0N            48.6E\n",
       "2016-07-21                                7.8N             -1.6\n",
       "2016-08-05                               46.4N           171.6E\n",
       "2016-08-11                               -43.7            53.8E\n",
       "2016-08-27                               -56.9           162.2E\n",
       "2016-09-14                                -3.5            44.6E\n",
       "2016-09-22                               -51.8           178.5E\n",
       "2016-10-01                               36.2N             6.7E\n",
       "2016-11-03                               -39.6            -16.3\n",
       "2016-11-24                               -15.2            80.3E\n",
       "2016-11-29                               -30.6            -93.1\n",
       "2016-12-07                               -34.5           -126.6\n",
       "2016-12-23                               21.3N            49.3E"
      ],
      "text/html": "<div>\n<style scoped>\n    .dataframe tbody tr th:only-of-type {\n        vertical-align: middle;\n    }\n\n    .dataframe tbody tr th {\n        vertical-align: top;\n    }\n\n    .dataframe thead th {\n        text-align: right;\n    }\n</style>\n<table border=\"1\" class=\"dataframe\">\n  <thead>\n    <tr style=\"text-align: right;\">\n      <th></th>\n      <th>Latitude (deg.)</th>\n      <th>Longitude (deg.)</th>\n    </tr>\n    <tr>\n      <th>Peak Brightness Date/Time (UT)</th>\n      <th></th>\n      <th></th>\n    </tr>\n  </thead>\n  <tbody>\n    <tr>\n      <th>2016-01-21</th>\n      <td>-10.8</td>\n      <td>0.7E</td>\n    </tr>\n    <tr>\n      <th>2016-01-27</th>\n      <td>-45.8</td>\n      <td>53.6E</td>\n    </tr>\n    <tr>\n      <th>2016-02-06</th>\n      <td>-30.4</td>\n      <td>-25.5</td>\n    </tr>\n    <tr>\n      <th>2016-02-19</th>\n      <td>0.7N</td>\n      <td>-11.6</td>\n    </tr>\n    <tr>\n      <th>2016-02-21</th>\n      <td>36.5N</td>\n      <td>-37.2</td>\n    </tr>\n    <tr>\n      <th>2016-02-23</th>\n      <td>32.3N</td>\n      <td>67.2E</td>\n    </tr>\n    <tr>\n      <th>2016-03-03</th>\n      <td>-48.0</td>\n      <td>51.0E</td>\n    </tr>\n    <tr>\n      <th>2016-03-16</th>\n      <td>-49.2</td>\n      <td>-6.3</td>\n    </tr>\n    <tr>\n      <th>2016-04-10</th>\n      <td>22.0N</td>\n      <td>149.0E</td>\n    </tr>\n    <tr>\n      <th>2016-04-12</th>\n      <td>38.3N</td>\n      <td>162.2E</td>\n    </tr>\n    <tr>\n      <th>2016-04-18</th>\n      <td>20.7N</td>\n      <td>-14.5</td>\n    </tr>\n    <tr>\n      <th>2016-04-24</th>\n      <td>9.8N</td>\n      <td>-42.8</td>\n    </tr>\n    <tr>\n      <th>2016-05-13</th>\n      <td>26.2N</td>\n      <td>-122.3</td>\n    </tr>\n    <tr>\n      <th>2016-05-16</th>\n      <td>3.2N</td>\n      <td>6.6E</td>\n    </tr>\n    <tr>\n      <th>2016-05-20</th>\n      <td>-32.8</td>\n      <td>15.1E</td>\n    </tr>\n    <tr>\n      <th>2016-05-29</th>\n      <td>10.2N</td>\n      <td>-48.8</td>\n    </tr>\n    <tr>\n      <th>2016-06-02</th>\n      <td>33.8N</td>\n      <td>-110.9</td>\n    </tr>\n    <tr>\n      <th>2016-06-05</th>\n      <td>-17.4</td>\n      <td>138.3E</td>\n    </tr>\n    <tr>\n      <th>2016-06-27</th>\n      <td>15.8N</td>\n      <td>-11.9</td>\n    </tr>\n    <tr>\n      <th>2016-07-05</th>\n      <td>1.0N</td>\n      <td>48.6E</td>\n    </tr>\n    <tr>\n      <th>2016-07-21</th>\n      <td>7.8N</td>\n      <td>-1.6</td>\n    </tr>\n    <tr>\n      <th>2016-08-05</th>\n      <td>46.4N</td>\n      <td>171.6E</td>\n    </tr>\n    <tr>\n      <th>2016-08-11</th>\n      <td>-43.7</td>\n      <td>53.8E</td>\n    </tr>\n    <tr>\n      <th>2016-08-27</th>\n      <td>-56.9</td>\n      <td>162.2E</td>\n    </tr>\n    <tr>\n      <th>2016-09-14</th>\n      <td>-3.5</td>\n      <td>44.6E</td>\n    </tr>\n    <tr>\n      <th>2016-09-22</th>\n      <td>-51.8</td>\n      <td>178.5E</td>\n    </tr>\n    <tr>\n      <th>2016-10-01</th>\n      <td>36.2N</td>\n      <td>6.7E</td>\n    </tr>\n    <tr>\n      <th>2016-11-03</th>\n      <td>-39.6</td>\n      <td>-16.3</td>\n    </tr>\n    <tr>\n      <th>2016-11-24</th>\n      <td>-15.2</td>\n      <td>80.3E</td>\n    </tr>\n    <tr>\n      <th>2016-11-29</th>\n      <td>-30.6</td>\n      <td>-93.1</td>\n    </tr>\n    <tr>\n      <th>2016-12-07</th>\n      <td>-34.5</td>\n      <td>-126.6</td>\n    </tr>\n    <tr>\n      <th>2016-12-23</th>\n      <td>21.3N</td>\n      <td>49.3E</td>\n    </tr>\n  </tbody>\n</table>\n</div>"
     },
     "metadata": {},
     "execution_count": 330
    }
   ],
   "source": [
    "#update with updated long values\n",
    "fireball_df.update(longitude_df['Longitude (deg.)'])\n",
    "fireball_df"
   ]
  },
  {
   "cell_type": "code",
   "execution_count": 331,
   "metadata": {},
   "outputs": [
    {
     "output_type": "stream",
     "name": "stderr",
     "text": [
      "<ipython-input-331-9b9f3087173c>:3: SettingWithCopyWarning: \nA value is trying to be set on a copy of a slice from a DataFrame.\nTry using .loc[row_indexer,col_indexer] = value instead\n\nSee the caveats in the documentation: https://pandas.pydata.org/pandas-docs/stable/user_guide/indexing.html#returning-a-view-versus-a-copy\n  northern_lat_df['Latitude (deg.)'] = northern_lat_df['Latitude (deg.)'].str[: -1]\n"
     ]
    },
    {
     "output_type": "execute_result",
     "data": {
      "text/plain": [
       "                               Latitude (deg.) Longitude (deg.)\n",
       "Peak Brightness Date/Time (UT)                                 \n",
       "2016-02-19                                 0.7            -11.6\n",
       "2016-02-21                                36.5            -37.2\n",
       "2016-02-23                                32.3            67.2E\n",
       "2016-04-10                                22.0           149.0E\n",
       "2016-04-12                                38.3           162.2E\n",
       "2016-04-18                                20.7            -14.5\n",
       "2016-04-24                                 9.8            -42.8\n",
       "2016-05-13                                26.2           -122.3\n",
       "2016-05-16                                 3.2             6.6E\n",
       "2016-05-29                                10.2            -48.8\n",
       "2016-06-02                                33.8           -110.9\n",
       "2016-06-27                                15.8            -11.9\n",
       "2016-07-05                                 1.0            48.6E\n",
       "2016-07-21                                 7.8             -1.6\n",
       "2016-08-05                                46.4           171.6E\n",
       "2016-10-01                                36.2             6.7E\n",
       "2016-12-23                                21.3            49.3E"
      ],
      "text/html": "<div>\n<style scoped>\n    .dataframe tbody tr th:only-of-type {\n        vertical-align: middle;\n    }\n\n    .dataframe tbody tr th {\n        vertical-align: top;\n    }\n\n    .dataframe thead th {\n        text-align: right;\n    }\n</style>\n<table border=\"1\" class=\"dataframe\">\n  <thead>\n    <tr style=\"text-align: right;\">\n      <th></th>\n      <th>Latitude (deg.)</th>\n      <th>Longitude (deg.)</th>\n    </tr>\n    <tr>\n      <th>Peak Brightness Date/Time (UT)</th>\n      <th></th>\n      <th></th>\n    </tr>\n  </thead>\n  <tbody>\n    <tr>\n      <th>2016-02-19</th>\n      <td>0.7</td>\n      <td>-11.6</td>\n    </tr>\n    <tr>\n      <th>2016-02-21</th>\n      <td>36.5</td>\n      <td>-37.2</td>\n    </tr>\n    <tr>\n      <th>2016-02-23</th>\n      <td>32.3</td>\n      <td>67.2E</td>\n    </tr>\n    <tr>\n      <th>2016-04-10</th>\n      <td>22.0</td>\n      <td>149.0E</td>\n    </tr>\n    <tr>\n      <th>2016-04-12</th>\n      <td>38.3</td>\n      <td>162.2E</td>\n    </tr>\n    <tr>\n      <th>2016-04-18</th>\n      <td>20.7</td>\n      <td>-14.5</td>\n    </tr>\n    <tr>\n      <th>2016-04-24</th>\n      <td>9.8</td>\n      <td>-42.8</td>\n    </tr>\n    <tr>\n      <th>2016-05-13</th>\n      <td>26.2</td>\n      <td>-122.3</td>\n    </tr>\n    <tr>\n      <th>2016-05-16</th>\n      <td>3.2</td>\n      <td>6.6E</td>\n    </tr>\n    <tr>\n      <th>2016-05-29</th>\n      <td>10.2</td>\n      <td>-48.8</td>\n    </tr>\n    <tr>\n      <th>2016-06-02</th>\n      <td>33.8</td>\n      <td>-110.9</td>\n    </tr>\n    <tr>\n      <th>2016-06-27</th>\n      <td>15.8</td>\n      <td>-11.9</td>\n    </tr>\n    <tr>\n      <th>2016-07-05</th>\n      <td>1.0</td>\n      <td>48.6E</td>\n    </tr>\n    <tr>\n      <th>2016-07-21</th>\n      <td>7.8</td>\n      <td>-1.6</td>\n    </tr>\n    <tr>\n      <th>2016-08-05</th>\n      <td>46.4</td>\n      <td>171.6E</td>\n    </tr>\n    <tr>\n      <th>2016-10-01</th>\n      <td>36.2</td>\n      <td>6.7E</td>\n    </tr>\n    <tr>\n      <th>2016-12-23</th>\n      <td>21.3</td>\n      <td>49.3E</td>\n    </tr>\n  </tbody>\n</table>\n</div>"
     },
     "metadata": {},
     "execution_count": 331
    }
   ],
   "source": [
    "#filter the northern lats to remove the north\n",
    "northern_lat_df = fireball_df[fireball_df['Latitude (deg.)'].str.contains(\"N\", na=False)]\n",
    "northern_lat_df['Latitude (deg.)'] = northern_lat_df['Latitude (deg.)'].str[: -1]\n",
    "northern_lat_df"
   ]
  },
  {
   "cell_type": "code",
   "execution_count": 332,
   "metadata": {},
   "outputs": [
    {
     "output_type": "execute_result",
     "data": {
      "text/plain": [
       "                               Latitude (deg.) Longitude (deg.)\n",
       "Peak Brightness Date/Time (UT)                                 \n",
       "2016-01-21                               -10.8             0.7E\n",
       "2016-01-27                               -45.8            53.6E\n",
       "2016-02-06                               -30.4            -25.5\n",
       "2016-02-19                                 0.7            -11.6\n",
       "2016-02-21                                36.5            -37.2\n",
       "2016-02-23                                32.3            67.2E\n",
       "2016-03-03                               -48.0            51.0E\n",
       "2016-03-16                               -49.2             -6.3\n",
       "2016-04-10                                22.0           149.0E\n",
       "2016-04-12                                38.3           162.2E\n",
       "2016-04-18                                20.7            -14.5\n",
       "2016-04-24                                 9.8            -42.8\n",
       "2016-05-13                                26.2           -122.3\n",
       "2016-05-16                                 3.2             6.6E\n",
       "2016-05-20                               -32.8            15.1E\n",
       "2016-05-29                                10.2            -48.8\n",
       "2016-06-02                                33.8           -110.9\n",
       "2016-06-05                               -17.4           138.3E\n",
       "2016-06-27                                15.8            -11.9\n",
       "2016-07-05                                 1.0            48.6E\n",
       "2016-07-21                                 7.8             -1.6\n",
       "2016-08-05                                46.4           171.6E\n",
       "2016-08-11                               -43.7            53.8E\n",
       "2016-08-27                               -56.9           162.2E\n",
       "2016-09-14                                -3.5            44.6E\n",
       "2016-09-22                               -51.8           178.5E\n",
       "2016-10-01                                36.2             6.7E\n",
       "2016-11-03                               -39.6            -16.3\n",
       "2016-11-24                               -15.2            80.3E\n",
       "2016-11-29                               -30.6            -93.1\n",
       "2016-12-07                               -34.5           -126.6\n",
       "2016-12-23                                21.3            49.3E"
      ],
      "text/html": "<div>\n<style scoped>\n    .dataframe tbody tr th:only-of-type {\n        vertical-align: middle;\n    }\n\n    .dataframe tbody tr th {\n        vertical-align: top;\n    }\n\n    .dataframe thead th {\n        text-align: right;\n    }\n</style>\n<table border=\"1\" class=\"dataframe\">\n  <thead>\n    <tr style=\"text-align: right;\">\n      <th></th>\n      <th>Latitude (deg.)</th>\n      <th>Longitude (deg.)</th>\n    </tr>\n    <tr>\n      <th>Peak Brightness Date/Time (UT)</th>\n      <th></th>\n      <th></th>\n    </tr>\n  </thead>\n  <tbody>\n    <tr>\n      <th>2016-01-21</th>\n      <td>-10.8</td>\n      <td>0.7E</td>\n    </tr>\n    <tr>\n      <th>2016-01-27</th>\n      <td>-45.8</td>\n      <td>53.6E</td>\n    </tr>\n    <tr>\n      <th>2016-02-06</th>\n      <td>-30.4</td>\n      <td>-25.5</td>\n    </tr>\n    <tr>\n      <th>2016-02-19</th>\n      <td>0.7</td>\n      <td>-11.6</td>\n    </tr>\n    <tr>\n      <th>2016-02-21</th>\n      <td>36.5</td>\n      <td>-37.2</td>\n    </tr>\n    <tr>\n      <th>2016-02-23</th>\n      <td>32.3</td>\n      <td>67.2E</td>\n    </tr>\n    <tr>\n      <th>2016-03-03</th>\n      <td>-48.0</td>\n      <td>51.0E</td>\n    </tr>\n    <tr>\n      <th>2016-03-16</th>\n      <td>-49.2</td>\n      <td>-6.3</td>\n    </tr>\n    <tr>\n      <th>2016-04-10</th>\n      <td>22.0</td>\n      <td>149.0E</td>\n    </tr>\n    <tr>\n      <th>2016-04-12</th>\n      <td>38.3</td>\n      <td>162.2E</td>\n    </tr>\n    <tr>\n      <th>2016-04-18</th>\n      <td>20.7</td>\n      <td>-14.5</td>\n    </tr>\n    <tr>\n      <th>2016-04-24</th>\n      <td>9.8</td>\n      <td>-42.8</td>\n    </tr>\n    <tr>\n      <th>2016-05-13</th>\n      <td>26.2</td>\n      <td>-122.3</td>\n    </tr>\n    <tr>\n      <th>2016-05-16</th>\n      <td>3.2</td>\n      <td>6.6E</td>\n    </tr>\n    <tr>\n      <th>2016-05-20</th>\n      <td>-32.8</td>\n      <td>15.1E</td>\n    </tr>\n    <tr>\n      <th>2016-05-29</th>\n      <td>10.2</td>\n      <td>-48.8</td>\n    </tr>\n    <tr>\n      <th>2016-06-02</th>\n      <td>33.8</td>\n      <td>-110.9</td>\n    </tr>\n    <tr>\n      <th>2016-06-05</th>\n      <td>-17.4</td>\n      <td>138.3E</td>\n    </tr>\n    <tr>\n      <th>2016-06-27</th>\n      <td>15.8</td>\n      <td>-11.9</td>\n    </tr>\n    <tr>\n      <th>2016-07-05</th>\n      <td>1.0</td>\n      <td>48.6E</td>\n    </tr>\n    <tr>\n      <th>2016-07-21</th>\n      <td>7.8</td>\n      <td>-1.6</td>\n    </tr>\n    <tr>\n      <th>2016-08-05</th>\n      <td>46.4</td>\n      <td>171.6E</td>\n    </tr>\n    <tr>\n      <th>2016-08-11</th>\n      <td>-43.7</td>\n      <td>53.8E</td>\n    </tr>\n    <tr>\n      <th>2016-08-27</th>\n      <td>-56.9</td>\n      <td>162.2E</td>\n    </tr>\n    <tr>\n      <th>2016-09-14</th>\n      <td>-3.5</td>\n      <td>44.6E</td>\n    </tr>\n    <tr>\n      <th>2016-09-22</th>\n      <td>-51.8</td>\n      <td>178.5E</td>\n    </tr>\n    <tr>\n      <th>2016-10-01</th>\n      <td>36.2</td>\n      <td>6.7E</td>\n    </tr>\n    <tr>\n      <th>2016-11-03</th>\n      <td>-39.6</td>\n      <td>-16.3</td>\n    </tr>\n    <tr>\n      <th>2016-11-24</th>\n      <td>-15.2</td>\n      <td>80.3E</td>\n    </tr>\n    <tr>\n      <th>2016-11-29</th>\n      <td>-30.6</td>\n      <td>-93.1</td>\n    </tr>\n    <tr>\n      <th>2016-12-07</th>\n      <td>-34.5</td>\n      <td>-126.6</td>\n    </tr>\n    <tr>\n      <th>2016-12-23</th>\n      <td>21.3</td>\n      <td>49.3E</td>\n    </tr>\n  </tbody>\n</table>\n</div>"
     },
     "metadata": {},
     "execution_count": 332
    }
   ],
   "source": [
    "#update fireball df with updated lat values\n",
    "fireball_df.update(northern_lat_df['Latitude (deg.)'])\n",
    "fireball_df"
   ]
  },
  {
   "cell_type": "code",
   "execution_count": 333,
   "metadata": {},
   "outputs": [
    {
     "output_type": "stream",
     "name": "stderr",
     "text": [
      "<ipython-input-333-ed1f437a96d8>:3: SettingWithCopyWarning: \nA value is trying to be set on a copy of a slice from a DataFrame.\nTry using .loc[row_indexer,col_indexer] = value instead\n\nSee the caveats in the documentation: https://pandas.pydata.org/pandas-docs/stable/user_guide/indexing.html#returning-a-view-versus-a-copy\n  eastern_longitude['Longitude (deg.)'] = eastern_longitude['Longitude (deg.)'].str[: -1]\n"
     ]
    },
    {
     "output_type": "execute_result",
     "data": {
      "text/plain": [
       "                               Latitude (deg.) Longitude (deg.)\n",
       "Peak Brightness Date/Time (UT)                                 \n",
       "2016-01-21                               -10.8              0.7\n",
       "2016-01-27                               -45.8             53.6\n",
       "2016-02-23                                32.3             67.2\n",
       "2016-03-03                               -48.0             51.0\n",
       "2016-04-10                                22.0            149.0\n",
       "2016-04-12                                38.3            162.2\n",
       "2016-05-16                                 3.2              6.6\n",
       "2016-05-20                               -32.8             15.1\n",
       "2016-06-05                               -17.4            138.3\n",
       "2016-07-05                                 1.0             48.6\n",
       "2016-08-05                                46.4            171.6\n",
       "2016-08-11                               -43.7             53.8\n",
       "2016-08-27                               -56.9            162.2\n",
       "2016-09-14                                -3.5             44.6\n",
       "2016-09-22                               -51.8            178.5\n",
       "2016-10-01                                36.2              6.7\n",
       "2016-11-24                               -15.2             80.3\n",
       "2016-12-23                                21.3             49.3"
      ],
      "text/html": "<div>\n<style scoped>\n    .dataframe tbody tr th:only-of-type {\n        vertical-align: middle;\n    }\n\n    .dataframe tbody tr th {\n        vertical-align: top;\n    }\n\n    .dataframe thead th {\n        text-align: right;\n    }\n</style>\n<table border=\"1\" class=\"dataframe\">\n  <thead>\n    <tr style=\"text-align: right;\">\n      <th></th>\n      <th>Latitude (deg.)</th>\n      <th>Longitude (deg.)</th>\n    </tr>\n    <tr>\n      <th>Peak Brightness Date/Time (UT)</th>\n      <th></th>\n      <th></th>\n    </tr>\n  </thead>\n  <tbody>\n    <tr>\n      <th>2016-01-21</th>\n      <td>-10.8</td>\n      <td>0.7</td>\n    </tr>\n    <tr>\n      <th>2016-01-27</th>\n      <td>-45.8</td>\n      <td>53.6</td>\n    </tr>\n    <tr>\n      <th>2016-02-23</th>\n      <td>32.3</td>\n      <td>67.2</td>\n    </tr>\n    <tr>\n      <th>2016-03-03</th>\n      <td>-48.0</td>\n      <td>51.0</td>\n    </tr>\n    <tr>\n      <th>2016-04-10</th>\n      <td>22.0</td>\n      <td>149.0</td>\n    </tr>\n    <tr>\n      <th>2016-04-12</th>\n      <td>38.3</td>\n      <td>162.2</td>\n    </tr>\n    <tr>\n      <th>2016-05-16</th>\n      <td>3.2</td>\n      <td>6.6</td>\n    </tr>\n    <tr>\n      <th>2016-05-20</th>\n      <td>-32.8</td>\n      <td>15.1</td>\n    </tr>\n    <tr>\n      <th>2016-06-05</th>\n      <td>-17.4</td>\n      <td>138.3</td>\n    </tr>\n    <tr>\n      <th>2016-07-05</th>\n      <td>1.0</td>\n      <td>48.6</td>\n    </tr>\n    <tr>\n      <th>2016-08-05</th>\n      <td>46.4</td>\n      <td>171.6</td>\n    </tr>\n    <tr>\n      <th>2016-08-11</th>\n      <td>-43.7</td>\n      <td>53.8</td>\n    </tr>\n    <tr>\n      <th>2016-08-27</th>\n      <td>-56.9</td>\n      <td>162.2</td>\n    </tr>\n    <tr>\n      <th>2016-09-14</th>\n      <td>-3.5</td>\n      <td>44.6</td>\n    </tr>\n    <tr>\n      <th>2016-09-22</th>\n      <td>-51.8</td>\n      <td>178.5</td>\n    </tr>\n    <tr>\n      <th>2016-10-01</th>\n      <td>36.2</td>\n      <td>6.7</td>\n    </tr>\n    <tr>\n      <th>2016-11-24</th>\n      <td>-15.2</td>\n      <td>80.3</td>\n    </tr>\n    <tr>\n      <th>2016-12-23</th>\n      <td>21.3</td>\n      <td>49.3</td>\n    </tr>\n  </tbody>\n</table>\n</div>"
     },
     "metadata": {},
     "execution_count": 333
    }
   ],
   "source": [
    "#filter the Eastern Longitudes\n",
    "eastern_longitude = fireball_df[fireball_df['Longitude (deg.)'].str.contains(\"E\", na=False)]\n",
    "eastern_longitude['Longitude (deg.)'] = eastern_longitude['Longitude (deg.)'].str[: -1]\n",
    "eastern_longitude"
   ]
  },
  {
   "cell_type": "code",
   "execution_count": 334,
   "metadata": {},
   "outputs": [
    {
     "output_type": "execute_result",
     "data": {
      "text/plain": [
       "                               Latitude (deg.) Longitude (deg.)\n",
       "Peak Brightness Date/Time (UT)                                 \n",
       "2016-01-21                               -10.8              0.7\n",
       "2016-01-27                               -45.8             53.6\n",
       "2016-02-06                               -30.4            -25.5\n",
       "2016-02-19                                 0.7            -11.6\n",
       "2016-02-21                                36.5            -37.2\n",
       "2016-02-23                                32.3             67.2\n",
       "2016-03-03                               -48.0             51.0\n",
       "2016-03-16                               -49.2             -6.3\n",
       "2016-04-10                                22.0            149.0\n",
       "2016-04-12                                38.3            162.2\n",
       "2016-04-18                                20.7            -14.5\n",
       "2016-04-24                                 9.8            -42.8\n",
       "2016-05-13                                26.2           -122.3\n",
       "2016-05-16                                 3.2              6.6\n",
       "2016-05-20                               -32.8             15.1\n",
       "2016-05-29                                10.2            -48.8\n",
       "2016-06-02                                33.8           -110.9\n",
       "2016-06-05                               -17.4            138.3\n",
       "2016-06-27                                15.8            -11.9\n",
       "2016-07-05                                 1.0             48.6\n",
       "2016-07-21                                 7.8             -1.6\n",
       "2016-08-05                                46.4            171.6\n",
       "2016-08-11                               -43.7             53.8\n",
       "2016-08-27                               -56.9            162.2\n",
       "2016-09-14                                -3.5             44.6\n",
       "2016-09-22                               -51.8            178.5\n",
       "2016-10-01                                36.2              6.7\n",
       "2016-11-03                               -39.6            -16.3\n",
       "2016-11-24                               -15.2             80.3\n",
       "2016-11-29                               -30.6            -93.1\n",
       "2016-12-07                               -34.5           -126.6\n",
       "2016-12-23                                21.3             49.3"
      ],
      "text/html": "<div>\n<style scoped>\n    .dataframe tbody tr th:only-of-type {\n        vertical-align: middle;\n    }\n\n    .dataframe tbody tr th {\n        vertical-align: top;\n    }\n\n    .dataframe thead th {\n        text-align: right;\n    }\n</style>\n<table border=\"1\" class=\"dataframe\">\n  <thead>\n    <tr style=\"text-align: right;\">\n      <th></th>\n      <th>Latitude (deg.)</th>\n      <th>Longitude (deg.)</th>\n    </tr>\n    <tr>\n      <th>Peak Brightness Date/Time (UT)</th>\n      <th></th>\n      <th></th>\n    </tr>\n  </thead>\n  <tbody>\n    <tr>\n      <th>2016-01-21</th>\n      <td>-10.8</td>\n      <td>0.7</td>\n    </tr>\n    <tr>\n      <th>2016-01-27</th>\n      <td>-45.8</td>\n      <td>53.6</td>\n    </tr>\n    <tr>\n      <th>2016-02-06</th>\n      <td>-30.4</td>\n      <td>-25.5</td>\n    </tr>\n    <tr>\n      <th>2016-02-19</th>\n      <td>0.7</td>\n      <td>-11.6</td>\n    </tr>\n    <tr>\n      <th>2016-02-21</th>\n      <td>36.5</td>\n      <td>-37.2</td>\n    </tr>\n    <tr>\n      <th>2016-02-23</th>\n      <td>32.3</td>\n      <td>67.2</td>\n    </tr>\n    <tr>\n      <th>2016-03-03</th>\n      <td>-48.0</td>\n      <td>51.0</td>\n    </tr>\n    <tr>\n      <th>2016-03-16</th>\n      <td>-49.2</td>\n      <td>-6.3</td>\n    </tr>\n    <tr>\n      <th>2016-04-10</th>\n      <td>22.0</td>\n      <td>149.0</td>\n    </tr>\n    <tr>\n      <th>2016-04-12</th>\n      <td>38.3</td>\n      <td>162.2</td>\n    </tr>\n    <tr>\n      <th>2016-04-18</th>\n      <td>20.7</td>\n      <td>-14.5</td>\n    </tr>\n    <tr>\n      <th>2016-04-24</th>\n      <td>9.8</td>\n      <td>-42.8</td>\n    </tr>\n    <tr>\n      <th>2016-05-13</th>\n      <td>26.2</td>\n      <td>-122.3</td>\n    </tr>\n    <tr>\n      <th>2016-05-16</th>\n      <td>3.2</td>\n      <td>6.6</td>\n    </tr>\n    <tr>\n      <th>2016-05-20</th>\n      <td>-32.8</td>\n      <td>15.1</td>\n    </tr>\n    <tr>\n      <th>2016-05-29</th>\n      <td>10.2</td>\n      <td>-48.8</td>\n    </tr>\n    <tr>\n      <th>2016-06-02</th>\n      <td>33.8</td>\n      <td>-110.9</td>\n    </tr>\n    <tr>\n      <th>2016-06-05</th>\n      <td>-17.4</td>\n      <td>138.3</td>\n    </tr>\n    <tr>\n      <th>2016-06-27</th>\n      <td>15.8</td>\n      <td>-11.9</td>\n    </tr>\n    <tr>\n      <th>2016-07-05</th>\n      <td>1.0</td>\n      <td>48.6</td>\n    </tr>\n    <tr>\n      <th>2016-07-21</th>\n      <td>7.8</td>\n      <td>-1.6</td>\n    </tr>\n    <tr>\n      <th>2016-08-05</th>\n      <td>46.4</td>\n      <td>171.6</td>\n    </tr>\n    <tr>\n      <th>2016-08-11</th>\n      <td>-43.7</td>\n      <td>53.8</td>\n    </tr>\n    <tr>\n      <th>2016-08-27</th>\n      <td>-56.9</td>\n      <td>162.2</td>\n    </tr>\n    <tr>\n      <th>2016-09-14</th>\n      <td>-3.5</td>\n      <td>44.6</td>\n    </tr>\n    <tr>\n      <th>2016-09-22</th>\n      <td>-51.8</td>\n      <td>178.5</td>\n    </tr>\n    <tr>\n      <th>2016-10-01</th>\n      <td>36.2</td>\n      <td>6.7</td>\n    </tr>\n    <tr>\n      <th>2016-11-03</th>\n      <td>-39.6</td>\n      <td>-16.3</td>\n    </tr>\n    <tr>\n      <th>2016-11-24</th>\n      <td>-15.2</td>\n      <td>80.3</td>\n    </tr>\n    <tr>\n      <th>2016-11-29</th>\n      <td>-30.6</td>\n      <td>-93.1</td>\n    </tr>\n    <tr>\n      <th>2016-12-07</th>\n      <td>-34.5</td>\n      <td>-126.6</td>\n    </tr>\n    <tr>\n      <th>2016-12-23</th>\n      <td>21.3</td>\n      <td>49.3</td>\n    </tr>\n  </tbody>\n</table>\n</div>"
     },
     "metadata": {},
     "execution_count": 334
    }
   ],
   "source": [
    "#update fireball df with updated long values\n",
    "fireball_df.update(eastern_longitude['Longitude (deg.)'])\n",
    "fireball_df"
   ]
  },
  {
   "cell_type": "code",
   "execution_count": 335,
   "metadata": {},
   "outputs": [],
   "source": [
    "#fireball_df_rename = fireball_df.rename(columns= {index: 'Date'})\n",
    "#fireball_df_rename"
   ]
  },
  {
   "cell_type": "code",
   "execution_count": 336,
   "metadata": {},
   "outputs": [
    {
     "output_type": "execute_result",
     "data": {
      "text/plain": [
       "                               Latitude (deg.) Longitude (deg.)       date\n",
       "Peak Brightness Date/Time (UT)                                            \n",
       "2016-01-21                               -10.8              0.7 2016-01-21\n",
       "2016-01-27                               -45.8             53.6 2016-01-27\n",
       "2016-02-06                               -30.4            -25.5 2016-02-06\n",
       "2016-02-19                                 0.7            -11.6 2016-02-19\n",
       "2016-02-21                                36.5            -37.2 2016-02-21\n",
       "2016-02-23                                32.3             67.2 2016-02-23\n",
       "2016-03-03                               -48.0             51.0 2016-03-03\n",
       "2016-03-16                               -49.2             -6.3 2016-03-16\n",
       "2016-04-10                                22.0            149.0 2016-04-10\n",
       "2016-04-12                                38.3            162.2 2016-04-12\n",
       "2016-04-18                                20.7            -14.5 2016-04-18\n",
       "2016-04-24                                 9.8            -42.8 2016-04-24\n",
       "2016-05-13                                26.2           -122.3 2016-05-13\n",
       "2016-05-16                                 3.2              6.6 2016-05-16\n",
       "2016-05-20                               -32.8             15.1 2016-05-20\n",
       "2016-05-29                                10.2            -48.8 2016-05-29\n",
       "2016-06-02                                33.8           -110.9 2016-06-02\n",
       "2016-06-05                               -17.4            138.3 2016-06-05\n",
       "2016-06-27                                15.8            -11.9 2016-06-27\n",
       "2016-07-05                                 1.0             48.6 2016-07-05\n",
       "2016-07-21                                 7.8             -1.6 2016-07-21\n",
       "2016-08-05                                46.4            171.6 2016-08-05\n",
       "2016-08-11                               -43.7             53.8 2016-08-11\n",
       "2016-08-27                               -56.9            162.2 2016-08-27\n",
       "2016-09-14                                -3.5             44.6 2016-09-14\n",
       "2016-09-22                               -51.8            178.5 2016-09-22\n",
       "2016-10-01                                36.2              6.7 2016-10-01\n",
       "2016-11-03                               -39.6            -16.3 2016-11-03\n",
       "2016-11-24                               -15.2             80.3 2016-11-24\n",
       "2016-11-29                               -30.6            -93.1 2016-11-29\n",
       "2016-12-07                               -34.5           -126.6 2016-12-07\n",
       "2016-12-23                                21.3             49.3 2016-12-23"
      ],
      "text/html": "<div>\n<style scoped>\n    .dataframe tbody tr th:only-of-type {\n        vertical-align: middle;\n    }\n\n    .dataframe tbody tr th {\n        vertical-align: top;\n    }\n\n    .dataframe thead th {\n        text-align: right;\n    }\n</style>\n<table border=\"1\" class=\"dataframe\">\n  <thead>\n    <tr style=\"text-align: right;\">\n      <th></th>\n      <th>Latitude (deg.)</th>\n      <th>Longitude (deg.)</th>\n      <th>date</th>\n    </tr>\n    <tr>\n      <th>Peak Brightness Date/Time (UT)</th>\n      <th></th>\n      <th></th>\n      <th></th>\n    </tr>\n  </thead>\n  <tbody>\n    <tr>\n      <th>2016-01-21</th>\n      <td>-10.8</td>\n      <td>0.7</td>\n      <td>2016-01-21</td>\n    </tr>\n    <tr>\n      <th>2016-01-27</th>\n      <td>-45.8</td>\n      <td>53.6</td>\n      <td>2016-01-27</td>\n    </tr>\n    <tr>\n      <th>2016-02-06</th>\n      <td>-30.4</td>\n      <td>-25.5</td>\n      <td>2016-02-06</td>\n    </tr>\n    <tr>\n      <th>2016-02-19</th>\n      <td>0.7</td>\n      <td>-11.6</td>\n      <td>2016-02-19</td>\n    </tr>\n    <tr>\n      <th>2016-02-21</th>\n      <td>36.5</td>\n      <td>-37.2</td>\n      <td>2016-02-21</td>\n    </tr>\n    <tr>\n      <th>2016-02-23</th>\n      <td>32.3</td>\n      <td>67.2</td>\n      <td>2016-02-23</td>\n    </tr>\n    <tr>\n      <th>2016-03-03</th>\n      <td>-48.0</td>\n      <td>51.0</td>\n      <td>2016-03-03</td>\n    </tr>\n    <tr>\n      <th>2016-03-16</th>\n      <td>-49.2</td>\n      <td>-6.3</td>\n      <td>2016-03-16</td>\n    </tr>\n    <tr>\n      <th>2016-04-10</th>\n      <td>22.0</td>\n      <td>149.0</td>\n      <td>2016-04-10</td>\n    </tr>\n    <tr>\n      <th>2016-04-12</th>\n      <td>38.3</td>\n      <td>162.2</td>\n      <td>2016-04-12</td>\n    </tr>\n    <tr>\n      <th>2016-04-18</th>\n      <td>20.7</td>\n      <td>-14.5</td>\n      <td>2016-04-18</td>\n    </tr>\n    <tr>\n      <th>2016-04-24</th>\n      <td>9.8</td>\n      <td>-42.8</td>\n      <td>2016-04-24</td>\n    </tr>\n    <tr>\n      <th>2016-05-13</th>\n      <td>26.2</td>\n      <td>-122.3</td>\n      <td>2016-05-13</td>\n    </tr>\n    <tr>\n      <th>2016-05-16</th>\n      <td>3.2</td>\n      <td>6.6</td>\n      <td>2016-05-16</td>\n    </tr>\n    <tr>\n      <th>2016-05-20</th>\n      <td>-32.8</td>\n      <td>15.1</td>\n      <td>2016-05-20</td>\n    </tr>\n    <tr>\n      <th>2016-05-29</th>\n      <td>10.2</td>\n      <td>-48.8</td>\n      <td>2016-05-29</td>\n    </tr>\n    <tr>\n      <th>2016-06-02</th>\n      <td>33.8</td>\n      <td>-110.9</td>\n      <td>2016-06-02</td>\n    </tr>\n    <tr>\n      <th>2016-06-05</th>\n      <td>-17.4</td>\n      <td>138.3</td>\n      <td>2016-06-05</td>\n    </tr>\n    <tr>\n      <th>2016-06-27</th>\n      <td>15.8</td>\n      <td>-11.9</td>\n      <td>2016-06-27</td>\n    </tr>\n    <tr>\n      <th>2016-07-05</th>\n      <td>1.0</td>\n      <td>48.6</td>\n      <td>2016-07-05</td>\n    </tr>\n    <tr>\n      <th>2016-07-21</th>\n      <td>7.8</td>\n      <td>-1.6</td>\n      <td>2016-07-21</td>\n    </tr>\n    <tr>\n      <th>2016-08-05</th>\n      <td>46.4</td>\n      <td>171.6</td>\n      <td>2016-08-05</td>\n    </tr>\n    <tr>\n      <th>2016-08-11</th>\n      <td>-43.7</td>\n      <td>53.8</td>\n      <td>2016-08-11</td>\n    </tr>\n    <tr>\n      <th>2016-08-27</th>\n      <td>-56.9</td>\n      <td>162.2</td>\n      <td>2016-08-27</td>\n    </tr>\n    <tr>\n      <th>2016-09-14</th>\n      <td>-3.5</td>\n      <td>44.6</td>\n      <td>2016-09-14</td>\n    </tr>\n    <tr>\n      <th>2016-09-22</th>\n      <td>-51.8</td>\n      <td>178.5</td>\n      <td>2016-09-22</td>\n    </tr>\n    <tr>\n      <th>2016-10-01</th>\n      <td>36.2</td>\n      <td>6.7</td>\n      <td>2016-10-01</td>\n    </tr>\n    <tr>\n      <th>2016-11-03</th>\n      <td>-39.6</td>\n      <td>-16.3</td>\n      <td>2016-11-03</td>\n    </tr>\n    <tr>\n      <th>2016-11-24</th>\n      <td>-15.2</td>\n      <td>80.3</td>\n      <td>2016-11-24</td>\n    </tr>\n    <tr>\n      <th>2016-11-29</th>\n      <td>-30.6</td>\n      <td>-93.1</td>\n      <td>2016-11-29</td>\n    </tr>\n    <tr>\n      <th>2016-12-07</th>\n      <td>-34.5</td>\n      <td>-126.6</td>\n      <td>2016-12-07</td>\n    </tr>\n    <tr>\n      <th>2016-12-23</th>\n      <td>21.3</td>\n      <td>49.3</td>\n      <td>2016-12-23</td>\n    </tr>\n  </tbody>\n</table>\n</div>"
     },
     "metadata": {},
     "execution_count": 336
    }
   ],
   "source": [
    "fireball_df['date'] = fireball_df.index\n",
    "fireball_df"
   ]
  },
  {
   "cell_type": "code",
   "execution_count": 337,
   "metadata": {},
   "outputs": [
    {
     "output_type": "execute_result",
     "data": {
      "text/plain": [
       "                               Latitude (deg.) Longitude (deg.)       date\n",
       "Peak Brightness Date/Time (UT)                                            \n",
       "2016-01-21                               -10.8              0.7 2016-01-21\n",
       "2016-01-27                               -45.8             53.6 2016-01-27\n",
       "2016-02-06                               -30.4            -25.5 2016-02-06\n",
       "2016-02-19                                 0.7            -11.6 2016-02-19\n",
       "2016-02-21                                36.5            -37.2 2016-02-21\n",
       "2016-02-23                                32.3             67.2 2016-02-23\n",
       "2016-03-03                               -48.0             51.0 2016-03-03\n",
       "2016-03-16                               -49.2             -6.3 2016-03-16\n",
       "2016-04-10                                22.0            149.0 2016-04-10\n",
       "2016-04-12                                38.3            162.2 2016-04-12\n",
       "2016-04-18                                20.7            -14.5 2016-04-18\n",
       "2016-04-24                                 9.8            -42.8 2016-04-24\n",
       "2016-05-13                                26.2           -122.3 2016-05-13\n",
       "2016-05-16                                 3.2              6.6 2016-05-16\n",
       "2016-05-20                               -32.8             15.1 2016-05-20\n",
       "2016-05-29                                10.2            -48.8 2016-05-29\n",
       "2016-06-02                                33.8           -110.9 2016-06-02\n",
       "2016-06-05                               -17.4            138.3 2016-06-05\n",
       "2016-06-27                                15.8            -11.9 2016-06-27\n",
       "2016-07-05                                 1.0             48.6 2016-07-05\n",
       "2016-07-21                                 7.8             -1.6 2016-07-21\n",
       "2016-08-05                                46.4            171.6 2016-08-05\n",
       "2016-08-11                               -43.7             53.8 2016-08-11\n",
       "2016-08-27                               -56.9            162.2 2016-08-27\n",
       "2016-09-14                                -3.5             44.6 2016-09-14\n",
       "2016-09-22                               -51.8            178.5 2016-09-22\n",
       "2016-10-01                                36.2              6.7 2016-10-01\n",
       "2016-11-03                               -39.6            -16.3 2016-11-03\n",
       "2016-11-24                               -15.2             80.3 2016-11-24\n",
       "2016-11-29                               -30.6            -93.1 2016-11-29\n",
       "2016-12-07                               -34.5           -126.6 2016-12-07\n",
       "2016-12-23                                21.3             49.3 2016-12-23"
      ],
      "text/html": "<div>\n<style scoped>\n    .dataframe tbody tr th:only-of-type {\n        vertical-align: middle;\n    }\n\n    .dataframe tbody tr th {\n        vertical-align: top;\n    }\n\n    .dataframe thead th {\n        text-align: right;\n    }\n</style>\n<table border=\"1\" class=\"dataframe\">\n  <thead>\n    <tr style=\"text-align: right;\">\n      <th></th>\n      <th>Latitude (deg.)</th>\n      <th>Longitude (deg.)</th>\n      <th>date</th>\n    </tr>\n    <tr>\n      <th>Peak Brightness Date/Time (UT)</th>\n      <th></th>\n      <th></th>\n      <th></th>\n    </tr>\n  </thead>\n  <tbody>\n    <tr>\n      <th>2016-01-21</th>\n      <td>-10.8</td>\n      <td>0.7</td>\n      <td>2016-01-21</td>\n    </tr>\n    <tr>\n      <th>2016-01-27</th>\n      <td>-45.8</td>\n      <td>53.6</td>\n      <td>2016-01-27</td>\n    </tr>\n    <tr>\n      <th>2016-02-06</th>\n      <td>-30.4</td>\n      <td>-25.5</td>\n      <td>2016-02-06</td>\n    </tr>\n    <tr>\n      <th>2016-02-19</th>\n      <td>0.7</td>\n      <td>-11.6</td>\n      <td>2016-02-19</td>\n    </tr>\n    <tr>\n      <th>2016-02-21</th>\n      <td>36.5</td>\n      <td>-37.2</td>\n      <td>2016-02-21</td>\n    </tr>\n    <tr>\n      <th>2016-02-23</th>\n      <td>32.3</td>\n      <td>67.2</td>\n      <td>2016-02-23</td>\n    </tr>\n    <tr>\n      <th>2016-03-03</th>\n      <td>-48.0</td>\n      <td>51.0</td>\n      <td>2016-03-03</td>\n    </tr>\n    <tr>\n      <th>2016-03-16</th>\n      <td>-49.2</td>\n      <td>-6.3</td>\n      <td>2016-03-16</td>\n    </tr>\n    <tr>\n      <th>2016-04-10</th>\n      <td>22.0</td>\n      <td>149.0</td>\n      <td>2016-04-10</td>\n    </tr>\n    <tr>\n      <th>2016-04-12</th>\n      <td>38.3</td>\n      <td>162.2</td>\n      <td>2016-04-12</td>\n    </tr>\n    <tr>\n      <th>2016-04-18</th>\n      <td>20.7</td>\n      <td>-14.5</td>\n      <td>2016-04-18</td>\n    </tr>\n    <tr>\n      <th>2016-04-24</th>\n      <td>9.8</td>\n      <td>-42.8</td>\n      <td>2016-04-24</td>\n    </tr>\n    <tr>\n      <th>2016-05-13</th>\n      <td>26.2</td>\n      <td>-122.3</td>\n      <td>2016-05-13</td>\n    </tr>\n    <tr>\n      <th>2016-05-16</th>\n      <td>3.2</td>\n      <td>6.6</td>\n      <td>2016-05-16</td>\n    </tr>\n    <tr>\n      <th>2016-05-20</th>\n      <td>-32.8</td>\n      <td>15.1</td>\n      <td>2016-05-20</td>\n    </tr>\n    <tr>\n      <th>2016-05-29</th>\n      <td>10.2</td>\n      <td>-48.8</td>\n      <td>2016-05-29</td>\n    </tr>\n    <tr>\n      <th>2016-06-02</th>\n      <td>33.8</td>\n      <td>-110.9</td>\n      <td>2016-06-02</td>\n    </tr>\n    <tr>\n      <th>2016-06-05</th>\n      <td>-17.4</td>\n      <td>138.3</td>\n      <td>2016-06-05</td>\n    </tr>\n    <tr>\n      <th>2016-06-27</th>\n      <td>15.8</td>\n      <td>-11.9</td>\n      <td>2016-06-27</td>\n    </tr>\n    <tr>\n      <th>2016-07-05</th>\n      <td>1.0</td>\n      <td>48.6</td>\n      <td>2016-07-05</td>\n    </tr>\n    <tr>\n      <th>2016-07-21</th>\n      <td>7.8</td>\n      <td>-1.6</td>\n      <td>2016-07-21</td>\n    </tr>\n    <tr>\n      <th>2016-08-05</th>\n      <td>46.4</td>\n      <td>171.6</td>\n      <td>2016-08-05</td>\n    </tr>\n    <tr>\n      <th>2016-08-11</th>\n      <td>-43.7</td>\n      <td>53.8</td>\n      <td>2016-08-11</td>\n    </tr>\n    <tr>\n      <th>2016-08-27</th>\n      <td>-56.9</td>\n      <td>162.2</td>\n      <td>2016-08-27</td>\n    </tr>\n    <tr>\n      <th>2016-09-14</th>\n      <td>-3.5</td>\n      <td>44.6</td>\n      <td>2016-09-14</td>\n    </tr>\n    <tr>\n      <th>2016-09-22</th>\n      <td>-51.8</td>\n      <td>178.5</td>\n      <td>2016-09-22</td>\n    </tr>\n    <tr>\n      <th>2016-10-01</th>\n      <td>36.2</td>\n      <td>6.7</td>\n      <td>2016-10-01</td>\n    </tr>\n    <tr>\n      <th>2016-11-03</th>\n      <td>-39.6</td>\n      <td>-16.3</td>\n      <td>2016-11-03</td>\n    </tr>\n    <tr>\n      <th>2016-11-24</th>\n      <td>-15.2</td>\n      <td>80.3</td>\n      <td>2016-11-24</td>\n    </tr>\n    <tr>\n      <th>2016-11-29</th>\n      <td>-30.6</td>\n      <td>-93.1</td>\n      <td>2016-11-29</td>\n    </tr>\n    <tr>\n      <th>2016-12-07</th>\n      <td>-34.5</td>\n      <td>-126.6</td>\n      <td>2016-12-07</td>\n    </tr>\n    <tr>\n      <th>2016-12-23</th>\n      <td>21.3</td>\n      <td>49.3</td>\n      <td>2016-12-23</td>\n    </tr>\n  </tbody>\n</table>\n</div>"
     },
     "metadata": {},
     "execution_count": 337
    }
   ],
   "source": [
    "fireball_df.reset_index()\n",
    "fireball_df"
   ]
  },
  {
   "cell_type": "code",
   "execution_count": 338,
   "metadata": {},
   "outputs": [
    {
     "output_type": "execute_result",
     "data": {
      "text/plain": [
       "           Latitude (deg.) Longitude (deg.)       date\n",
       "Date                                                  \n",
       "2016-01-21           -10.8              0.7 2016-01-21\n",
       "2016-01-27           -45.8             53.6 2016-01-27\n",
       "2016-02-06           -30.4            -25.5 2016-02-06\n",
       "2016-02-19             0.7            -11.6 2016-02-19\n",
       "2016-02-21            36.5            -37.2 2016-02-21\n",
       "2016-02-23            32.3             67.2 2016-02-23\n",
       "2016-03-03           -48.0             51.0 2016-03-03\n",
       "2016-03-16           -49.2             -6.3 2016-03-16\n",
       "2016-04-10            22.0            149.0 2016-04-10\n",
       "2016-04-12            38.3            162.2 2016-04-12\n",
       "2016-04-18            20.7            -14.5 2016-04-18\n",
       "2016-04-24             9.8            -42.8 2016-04-24\n",
       "2016-05-13            26.2           -122.3 2016-05-13\n",
       "2016-05-16             3.2              6.6 2016-05-16\n",
       "2016-05-20           -32.8             15.1 2016-05-20\n",
       "2016-05-29            10.2            -48.8 2016-05-29\n",
       "2016-06-02            33.8           -110.9 2016-06-02\n",
       "2016-06-05           -17.4            138.3 2016-06-05\n",
       "2016-06-27            15.8            -11.9 2016-06-27\n",
       "2016-07-05             1.0             48.6 2016-07-05\n",
       "2016-07-21             7.8             -1.6 2016-07-21\n",
       "2016-08-05            46.4            171.6 2016-08-05\n",
       "2016-08-11           -43.7             53.8 2016-08-11\n",
       "2016-08-27           -56.9            162.2 2016-08-27\n",
       "2016-09-14            -3.5             44.6 2016-09-14\n",
       "2016-09-22           -51.8            178.5 2016-09-22\n",
       "2016-10-01            36.2              6.7 2016-10-01\n",
       "2016-11-03           -39.6            -16.3 2016-11-03\n",
       "2016-11-24           -15.2             80.3 2016-11-24\n",
       "2016-11-29           -30.6            -93.1 2016-11-29\n",
       "2016-12-07           -34.5           -126.6 2016-12-07\n",
       "2016-12-23            21.3             49.3 2016-12-23"
      ],
      "text/html": "<div>\n<style scoped>\n    .dataframe tbody tr th:only-of-type {\n        vertical-align: middle;\n    }\n\n    .dataframe tbody tr th {\n        vertical-align: top;\n    }\n\n    .dataframe thead th {\n        text-align: right;\n    }\n</style>\n<table border=\"1\" class=\"dataframe\">\n  <thead>\n    <tr style=\"text-align: right;\">\n      <th></th>\n      <th>Latitude (deg.)</th>\n      <th>Longitude (deg.)</th>\n      <th>date</th>\n    </tr>\n    <tr>\n      <th>Date</th>\n      <th></th>\n      <th></th>\n      <th></th>\n    </tr>\n  </thead>\n  <tbody>\n    <tr>\n      <th>2016-01-21</th>\n      <td>-10.8</td>\n      <td>0.7</td>\n      <td>2016-01-21</td>\n    </tr>\n    <tr>\n      <th>2016-01-27</th>\n      <td>-45.8</td>\n      <td>53.6</td>\n      <td>2016-01-27</td>\n    </tr>\n    <tr>\n      <th>2016-02-06</th>\n      <td>-30.4</td>\n      <td>-25.5</td>\n      <td>2016-02-06</td>\n    </tr>\n    <tr>\n      <th>2016-02-19</th>\n      <td>0.7</td>\n      <td>-11.6</td>\n      <td>2016-02-19</td>\n    </tr>\n    <tr>\n      <th>2016-02-21</th>\n      <td>36.5</td>\n      <td>-37.2</td>\n      <td>2016-02-21</td>\n    </tr>\n    <tr>\n      <th>2016-02-23</th>\n      <td>32.3</td>\n      <td>67.2</td>\n      <td>2016-02-23</td>\n    </tr>\n    <tr>\n      <th>2016-03-03</th>\n      <td>-48.0</td>\n      <td>51.0</td>\n      <td>2016-03-03</td>\n    </tr>\n    <tr>\n      <th>2016-03-16</th>\n      <td>-49.2</td>\n      <td>-6.3</td>\n      <td>2016-03-16</td>\n    </tr>\n    <tr>\n      <th>2016-04-10</th>\n      <td>22.0</td>\n      <td>149.0</td>\n      <td>2016-04-10</td>\n    </tr>\n    <tr>\n      <th>2016-04-12</th>\n      <td>38.3</td>\n      <td>162.2</td>\n      <td>2016-04-12</td>\n    </tr>\n    <tr>\n      <th>2016-04-18</th>\n      <td>20.7</td>\n      <td>-14.5</td>\n      <td>2016-04-18</td>\n    </tr>\n    <tr>\n      <th>2016-04-24</th>\n      <td>9.8</td>\n      <td>-42.8</td>\n      <td>2016-04-24</td>\n    </tr>\n    <tr>\n      <th>2016-05-13</th>\n      <td>26.2</td>\n      <td>-122.3</td>\n      <td>2016-05-13</td>\n    </tr>\n    <tr>\n      <th>2016-05-16</th>\n      <td>3.2</td>\n      <td>6.6</td>\n      <td>2016-05-16</td>\n    </tr>\n    <tr>\n      <th>2016-05-20</th>\n      <td>-32.8</td>\n      <td>15.1</td>\n      <td>2016-05-20</td>\n    </tr>\n    <tr>\n      <th>2016-05-29</th>\n      <td>10.2</td>\n      <td>-48.8</td>\n      <td>2016-05-29</td>\n    </tr>\n    <tr>\n      <th>2016-06-02</th>\n      <td>33.8</td>\n      <td>-110.9</td>\n      <td>2016-06-02</td>\n    </tr>\n    <tr>\n      <th>2016-06-05</th>\n      <td>-17.4</td>\n      <td>138.3</td>\n      <td>2016-06-05</td>\n    </tr>\n    <tr>\n      <th>2016-06-27</th>\n      <td>15.8</td>\n      <td>-11.9</td>\n      <td>2016-06-27</td>\n    </tr>\n    <tr>\n      <th>2016-07-05</th>\n      <td>1.0</td>\n      <td>48.6</td>\n      <td>2016-07-05</td>\n    </tr>\n    <tr>\n      <th>2016-07-21</th>\n      <td>7.8</td>\n      <td>-1.6</td>\n      <td>2016-07-21</td>\n    </tr>\n    <tr>\n      <th>2016-08-05</th>\n      <td>46.4</td>\n      <td>171.6</td>\n      <td>2016-08-05</td>\n    </tr>\n    <tr>\n      <th>2016-08-11</th>\n      <td>-43.7</td>\n      <td>53.8</td>\n      <td>2016-08-11</td>\n    </tr>\n    <tr>\n      <th>2016-08-27</th>\n      <td>-56.9</td>\n      <td>162.2</td>\n      <td>2016-08-27</td>\n    </tr>\n    <tr>\n      <th>2016-09-14</th>\n      <td>-3.5</td>\n      <td>44.6</td>\n      <td>2016-09-14</td>\n    </tr>\n    <tr>\n      <th>2016-09-22</th>\n      <td>-51.8</td>\n      <td>178.5</td>\n      <td>2016-09-22</td>\n    </tr>\n    <tr>\n      <th>2016-10-01</th>\n      <td>36.2</td>\n      <td>6.7</td>\n      <td>2016-10-01</td>\n    </tr>\n    <tr>\n      <th>2016-11-03</th>\n      <td>-39.6</td>\n      <td>-16.3</td>\n      <td>2016-11-03</td>\n    </tr>\n    <tr>\n      <th>2016-11-24</th>\n      <td>-15.2</td>\n      <td>80.3</td>\n      <td>2016-11-24</td>\n    </tr>\n    <tr>\n      <th>2016-11-29</th>\n      <td>-30.6</td>\n      <td>-93.1</td>\n      <td>2016-11-29</td>\n    </tr>\n    <tr>\n      <th>2016-12-07</th>\n      <td>-34.5</td>\n      <td>-126.6</td>\n      <td>2016-12-07</td>\n    </tr>\n    <tr>\n      <th>2016-12-23</th>\n      <td>21.3</td>\n      <td>49.3</td>\n      <td>2016-12-23</td>\n    </tr>\n  </tbody>\n</table>\n</div>"
     },
     "metadata": {},
     "execution_count": 338
    }
   ],
   "source": [
    "fireball_df.index.names = ['Date']\n",
    "fireball_df"
   ]
  },
  {
   "cell_type": "code",
   "execution_count": 339,
   "metadata": {},
   "outputs": [],
   "source": [
    "#export to csv\n",
    "fireball_df.to_csv('fireball_clean.csv')"
   ]
  },
  {
   "cell_type": "code",
   "execution_count": null,
   "metadata": {},
   "outputs": [],
   "source": []
  }
 ]
}