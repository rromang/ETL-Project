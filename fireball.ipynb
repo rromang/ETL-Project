{
 "metadata": {
  "language_info": {
   "codemirror_mode": {
    "name": "ipython",
    "version": 3
   },
   "file_extension": ".py",
   "mimetype": "text/x-python",
   "name": "python",
   "nbconvert_exporter": "python",
   "pygments_lexer": "ipython3",
   "version": "3.8.5"
  },
  "orig_nbformat": 2,
  "kernelspec": {
   "name": "python385jvsc74a57bd0b75be9ad71603c40476c6c8216298ace4da278de65ecdbf5da31753ceef4d599",
   "display_name": "Python 3.8.5 64-bit ('base': conda)"
  }
 },
 "nbformat": 4,
 "nbformat_minor": 2,
 "cells": [
  {
   "cell_type": "code",
   "execution_count": 6,
   "metadata": {},
   "outputs": [],
   "source": [
    "#import dependencies\n",
    "import pandas as pd\n",
    "import csv"
   ]
  },
  {
   "cell_type": "code",
   "execution_count": 7,
   "metadata": {},
   "outputs": [],
   "source": [
    "#create filepath\n",
    "fireball_csv = \"Datasets/cneos_fireball_data.csv\"\n",
    "fireball_df = pd.read_csv(fireball_csv)"
   ]
  },
  {
   "cell_type": "code",
   "execution_count": 8,
   "metadata": {},
   "outputs": [
    {
     "output_type": "execute_result",
     "data": {
      "text/plain": [
       "  Peak Brightness Date/Time (UT) Latitude (deg.) Longitude (deg.)  \\\n",
       "0            2017-07-31 22:01:35           24.7N           118.5W   \n",
       "1            2017-07-23 06:12:38            6.6S            69.7W   \n",
       "2            2017-07-13 09:30:36           23.1N            60.7E   \n",
       "3            2017-06-30 14:26:45           34.3S           134.5E   \n",
       "4            2017-06-23 20:21:55           57.0N           143.7E   \n",
       "\n",
       "   Altitude (km)  Velocity (km/s)    vx    vy    vz  \\\n",
       "0            NaN              NaN   NaN   NaN   NaN   \n",
       "1           38.0             17.2  -0.4   8.7 -14.8   \n",
       "2           35.0             13.7 -10.0  -6.5  -6.8   \n",
       "3           20.0             15.2  10.9  -9.7   4.2   \n",
       "4           35.1             24.3  17.7  13.1 -10.3   \n",
       "\n",
       "   Total Radiated Energy (J)  Calculated Total Impact Energy (kt)  \n",
       "0               5.800000e+10                                 0.19  \n",
       "1               3.500000e+10                                 0.12  \n",
       "2               7.300000e+10                                 0.23  \n",
       "3               9.400000e+10                                 0.29  \n",
       "4               1.840000e+11                                 0.52  "
      ],
      "text/html": "<div>\n<style scoped>\n    .dataframe tbody tr th:only-of-type {\n        vertical-align: middle;\n    }\n\n    .dataframe tbody tr th {\n        vertical-align: top;\n    }\n\n    .dataframe thead th {\n        text-align: right;\n    }\n</style>\n<table border=\"1\" class=\"dataframe\">\n  <thead>\n    <tr style=\"text-align: right;\">\n      <th></th>\n      <th>Peak Brightness Date/Time (UT)</th>\n      <th>Latitude (deg.)</th>\n      <th>Longitude (deg.)</th>\n      <th>Altitude (km)</th>\n      <th>Velocity (km/s)</th>\n      <th>vx</th>\n      <th>vy</th>\n      <th>vz</th>\n      <th>Total Radiated Energy (J)</th>\n      <th>Calculated Total Impact Energy (kt)</th>\n    </tr>\n  </thead>\n  <tbody>\n    <tr>\n      <th>0</th>\n      <td>2017-07-31 22:01:35</td>\n      <td>24.7N</td>\n      <td>118.5W</td>\n      <td>NaN</td>\n      <td>NaN</td>\n      <td>NaN</td>\n      <td>NaN</td>\n      <td>NaN</td>\n      <td>5.800000e+10</td>\n      <td>0.19</td>\n    </tr>\n    <tr>\n      <th>1</th>\n      <td>2017-07-23 06:12:38</td>\n      <td>6.6S</td>\n      <td>69.7W</td>\n      <td>38.0</td>\n      <td>17.2</td>\n      <td>-0.4</td>\n      <td>8.7</td>\n      <td>-14.8</td>\n      <td>3.500000e+10</td>\n      <td>0.12</td>\n    </tr>\n    <tr>\n      <th>2</th>\n      <td>2017-07-13 09:30:36</td>\n      <td>23.1N</td>\n      <td>60.7E</td>\n      <td>35.0</td>\n      <td>13.7</td>\n      <td>-10.0</td>\n      <td>-6.5</td>\n      <td>-6.8</td>\n      <td>7.300000e+10</td>\n      <td>0.23</td>\n    </tr>\n    <tr>\n      <th>3</th>\n      <td>2017-06-30 14:26:45</td>\n      <td>34.3S</td>\n      <td>134.5E</td>\n      <td>20.0</td>\n      <td>15.2</td>\n      <td>10.9</td>\n      <td>-9.7</td>\n      <td>4.2</td>\n      <td>9.400000e+10</td>\n      <td>0.29</td>\n    </tr>\n    <tr>\n      <th>4</th>\n      <td>2017-06-23 20:21:55</td>\n      <td>57.0N</td>\n      <td>143.7E</td>\n      <td>35.1</td>\n      <td>24.3</td>\n      <td>17.7</td>\n      <td>13.1</td>\n      <td>-10.3</td>\n      <td>1.840000e+11</td>\n      <td>0.52</td>\n    </tr>\n  </tbody>\n</table>\n</div>"
     },
     "metadata": {},
     "execution_count": 8
    }
   ],
   "source": [
    "#inital print\n",
    "fireball_df.head()"
   ]
  },
  {
   "cell_type": "code",
   "execution_count": 9,
   "metadata": {},
   "outputs": [
    {
     "output_type": "execute_result",
     "data": {
      "text/plain": [
       "Index(['Peak Brightness Date/Time (UT)', 'Latitude (deg.)', 'Longitude (deg.)',\n",
       "       'Altitude (km)', 'Velocity (km/s)', 'vx', 'vy', 'vz',\n",
       "       'Total Radiated Energy (J)', 'Calculated Total Impact Energy (kt)'],\n",
       "      dtype='object')"
      ]
     },
     "metadata": {},
     "execution_count": 9
    }
   ],
   "source": [
    "fireball_df.columns"
   ]
  },
  {
   "cell_type": "code",
   "execution_count": 10,
   "metadata": {},
   "outputs": [],
   "source": [
    "#filter for columns we want to keep\n",
    "fireball_df = fireball_df[['Peak Brightness Date/Time (UT)', 'Latitude (deg.)', 'Longitude (deg.)']]"
   ]
  },
  {
   "cell_type": "code",
   "execution_count": 11,
   "metadata": {},
   "outputs": [
    {
     "output_type": "execute_result",
     "data": {
      "text/plain": [
       "    Peak Brightness Date/Time (UT) Latitude (deg.) Longitude (deg.)\n",
       "0              2017-07-31 22:01:35           24.7N           118.5W\n",
       "1              2017-07-23 06:12:38            6.6S            69.7W\n",
       "2              2017-07-13 09:30:36           23.1N            60.7E\n",
       "3              2017-06-30 14:26:45           34.3S           134.5E\n",
       "4              2017-06-23 20:21:55           57.0N           143.7E\n",
       "..                             ...             ...              ...\n",
       "714            1993-11-29 17:48:41           26.5N            78.3E\n",
       "715            1993-10-31 03:39:27           51.3N           100.9W\n",
       "716            1991-10-04 09:22:47           78.7N             6.3E\n",
       "717            1990-10-01 03:51:47            7.5N           142.8E\n",
       "718            1988-04-15 03:03:10            4.1S           124.3E\n",
       "\n",
       "[719 rows x 3 columns]"
      ],
      "text/html": "<div>\n<style scoped>\n    .dataframe tbody tr th:only-of-type {\n        vertical-align: middle;\n    }\n\n    .dataframe tbody tr th {\n        vertical-align: top;\n    }\n\n    .dataframe thead th {\n        text-align: right;\n    }\n</style>\n<table border=\"1\" class=\"dataframe\">\n  <thead>\n    <tr style=\"text-align: right;\">\n      <th></th>\n      <th>Peak Brightness Date/Time (UT)</th>\n      <th>Latitude (deg.)</th>\n      <th>Longitude (deg.)</th>\n    </tr>\n  </thead>\n  <tbody>\n    <tr>\n      <th>0</th>\n      <td>2017-07-31 22:01:35</td>\n      <td>24.7N</td>\n      <td>118.5W</td>\n    </tr>\n    <tr>\n      <th>1</th>\n      <td>2017-07-23 06:12:38</td>\n      <td>6.6S</td>\n      <td>69.7W</td>\n    </tr>\n    <tr>\n      <th>2</th>\n      <td>2017-07-13 09:30:36</td>\n      <td>23.1N</td>\n      <td>60.7E</td>\n    </tr>\n    <tr>\n      <th>3</th>\n      <td>2017-06-30 14:26:45</td>\n      <td>34.3S</td>\n      <td>134.5E</td>\n    </tr>\n    <tr>\n      <th>4</th>\n      <td>2017-06-23 20:21:55</td>\n      <td>57.0N</td>\n      <td>143.7E</td>\n    </tr>\n    <tr>\n      <th>...</th>\n      <td>...</td>\n      <td>...</td>\n      <td>...</td>\n    </tr>\n    <tr>\n      <th>714</th>\n      <td>1993-11-29 17:48:41</td>\n      <td>26.5N</td>\n      <td>78.3E</td>\n    </tr>\n    <tr>\n      <th>715</th>\n      <td>1993-10-31 03:39:27</td>\n      <td>51.3N</td>\n      <td>100.9W</td>\n    </tr>\n    <tr>\n      <th>716</th>\n      <td>1991-10-04 09:22:47</td>\n      <td>78.7N</td>\n      <td>6.3E</td>\n    </tr>\n    <tr>\n      <th>717</th>\n      <td>1990-10-01 03:51:47</td>\n      <td>7.5N</td>\n      <td>142.8E</td>\n    </tr>\n    <tr>\n      <th>718</th>\n      <td>1988-04-15 03:03:10</td>\n      <td>4.1S</td>\n      <td>124.3E</td>\n    </tr>\n  </tbody>\n</table>\n<p>719 rows × 3 columns</p>\n</div>"
     },
     "metadata": {},
     "execution_count": 11
    }
   ],
   "source": [
    "#sanity check\n",
    "fireball_df"
   ]
  },
  {
   "cell_type": "code",
   "execution_count": 12,
   "metadata": {},
   "outputs": [
    {
     "output_type": "execute_result",
     "data": {
      "text/plain": [
       "Peak Brightness Date/Time (UT)    object\n",
       "Latitude (deg.)                   object\n",
       "Longitude (deg.)                  object\n",
       "dtype: object"
      ]
     },
     "metadata": {},
     "execution_count": 12
    }
   ],
   "source": [
    "fireball_df.dtypes"
   ]
  },
  {
   "cell_type": "code",
   "execution_count": 13,
   "metadata": {},
   "outputs": [
    {
     "output_type": "execute_result",
     "data": {
      "text/plain": [
       "    Peak Brightness Date/Time (UT) Latitude (deg.) Longitude (deg.)\n",
       "1              2017-07-23 06:12:38            6.6S            69.7W\n",
       "3              2017-06-30 14:26:45           34.3S           134.5E\n",
       "5              2017-06-20 13:41:32           54.2S           133.0E\n",
       "6              2017-05-24 07:03:03            9.1S           101.8E\n",
       "7              2017-05-22 17:44:39           49.6S           157.6W\n",
       "..                             ...             ...              ...\n",
       "693            1995-07-09 18:20:09            0.9S            66.3E\n",
       "702            1994-12-16 09:41:03           42.2S            27.6E\n",
       "704            1994-11-01 06:50:46            1.5S            84.5W\n",
       "706            1994-10-20 00:11:21           45.2S             1.9W\n",
       "718            1988-04-15 03:03:10            4.1S           124.3E\n",
       "\n",
       "[275 rows x 3 columns]"
      ],
      "text/html": "<div>\n<style scoped>\n    .dataframe tbody tr th:only-of-type {\n        vertical-align: middle;\n    }\n\n    .dataframe tbody tr th {\n        vertical-align: top;\n    }\n\n    .dataframe thead th {\n        text-align: right;\n    }\n</style>\n<table border=\"1\" class=\"dataframe\">\n  <thead>\n    <tr style=\"text-align: right;\">\n      <th></th>\n      <th>Peak Brightness Date/Time (UT)</th>\n      <th>Latitude (deg.)</th>\n      <th>Longitude (deg.)</th>\n    </tr>\n  </thead>\n  <tbody>\n    <tr>\n      <th>1</th>\n      <td>2017-07-23 06:12:38</td>\n      <td>6.6S</td>\n      <td>69.7W</td>\n    </tr>\n    <tr>\n      <th>3</th>\n      <td>2017-06-30 14:26:45</td>\n      <td>34.3S</td>\n      <td>134.5E</td>\n    </tr>\n    <tr>\n      <th>5</th>\n      <td>2017-06-20 13:41:32</td>\n      <td>54.2S</td>\n      <td>133.0E</td>\n    </tr>\n    <tr>\n      <th>6</th>\n      <td>2017-05-24 07:03:03</td>\n      <td>9.1S</td>\n      <td>101.8E</td>\n    </tr>\n    <tr>\n      <th>7</th>\n      <td>2017-05-22 17:44:39</td>\n      <td>49.6S</td>\n      <td>157.6W</td>\n    </tr>\n    <tr>\n      <th>...</th>\n      <td>...</td>\n      <td>...</td>\n      <td>...</td>\n    </tr>\n    <tr>\n      <th>693</th>\n      <td>1995-07-09 18:20:09</td>\n      <td>0.9S</td>\n      <td>66.3E</td>\n    </tr>\n    <tr>\n      <th>702</th>\n      <td>1994-12-16 09:41:03</td>\n      <td>42.2S</td>\n      <td>27.6E</td>\n    </tr>\n    <tr>\n      <th>704</th>\n      <td>1994-11-01 06:50:46</td>\n      <td>1.5S</td>\n      <td>84.5W</td>\n    </tr>\n    <tr>\n      <th>706</th>\n      <td>1994-10-20 00:11:21</td>\n      <td>45.2S</td>\n      <td>1.9W</td>\n    </tr>\n    <tr>\n      <th>718</th>\n      <td>1988-04-15 03:03:10</td>\n      <td>4.1S</td>\n      <td>124.3E</td>\n    </tr>\n  </tbody>\n</table>\n<p>275 rows × 3 columns</p>\n</div>"
     },
     "metadata": {},
     "execution_count": 13
    }
   ],
   "source": [
    "\n",
    "#southern_lat = fireball_df.loc[fireball_df['Latitude (deg.)'] == \"S\", :]\n",
    "\n",
    "fireball_df[fireball_df['Latitude (deg.)'].str.contains(\"S\", na=False)]"
   ]
  },
  {
   "cell_type": "code",
   "execution_count": 14,
   "metadata": {},
   "outputs": [
    {
     "output_type": "execute_result",
     "data": {
      "text/plain": [
       "0      -24.7\n",
       "1       -6.6\n",
       "2      -23.1\n",
       "3      -34.3\n",
       "4      -57.0\n",
       "       ...  \n",
       "714    -26.5\n",
       "715    -51.3\n",
       "716    -78.7\n",
       "717     -7.5\n",
       "718     -4.1\n",
       "Name: Latitude (deg.), Length: 719, dtype: object"
      ]
     },
     "metadata": {},
     "execution_count": 14
    }
   ],
   "source": [
    "#convert the lat/long to the same format as the other files\n",
    "# Northern latitudes are positive N = +\n",
    "#Southern latitudes are negative S = -\n",
    "#Eastern longitudes are positive E = +\n",
    "#Western longitudes are negative W = -\n",
    "\n",
    "#drop the N,E,S,W and make the correct values negative\n",
    "concat_attempt = \"-\" + fireball_df['Latitude (deg.)'].str[: -1]\n",
    "concat_attempt"
   ]
  },
  {
   "cell_type": "code",
   "execution_count": 15,
   "metadata": {},
   "outputs": [
    {
     "output_type": "stream",
     "name": "stderr",
     "text": [
      "<ipython-input-15-ec2425bf1f0d>:3: SettingWithCopyWarning: \nA value is trying to be set on a copy of a slice from a DataFrame.\nTry using .loc[row_indexer,col_indexer] = value instead\n\nSee the caveats in the documentation: https://pandas.pydata.org/pandas-docs/stable/user_guide/indexing.html#returning-a-view-versus-a-copy\n  southern_lat_df['Latitude (deg.)'] = \"-\" + southern_lat_df['Latitude (deg.)'].str[: -1]\n"
     ]
    },
    {
     "output_type": "execute_result",
     "data": {
      "text/plain": [
       "    Peak Brightness Date/Time (UT) Latitude (deg.) Longitude (deg.)\n",
       "1              2017-07-23 06:12:38            -6.6            69.7W\n",
       "3              2017-06-30 14:26:45           -34.3           134.5E\n",
       "5              2017-06-20 13:41:32           -54.2           133.0E\n",
       "6              2017-05-24 07:03:03            -9.1           101.8E\n",
       "7              2017-05-22 17:44:39           -49.6           157.6W\n",
       "..                             ...             ...              ...\n",
       "693            1995-07-09 18:20:09            -0.9            66.3E\n",
       "702            1994-12-16 09:41:03           -42.2            27.6E\n",
       "704            1994-11-01 06:50:46            -1.5            84.5W\n",
       "706            1994-10-20 00:11:21           -45.2             1.9W\n",
       "718            1988-04-15 03:03:10            -4.1           124.3E\n",
       "\n",
       "[275 rows x 3 columns]"
      ],
      "text/html": "<div>\n<style scoped>\n    .dataframe tbody tr th:only-of-type {\n        vertical-align: middle;\n    }\n\n    .dataframe tbody tr th {\n        vertical-align: top;\n    }\n\n    .dataframe thead th {\n        text-align: right;\n    }\n</style>\n<table border=\"1\" class=\"dataframe\">\n  <thead>\n    <tr style=\"text-align: right;\">\n      <th></th>\n      <th>Peak Brightness Date/Time (UT)</th>\n      <th>Latitude (deg.)</th>\n      <th>Longitude (deg.)</th>\n    </tr>\n  </thead>\n  <tbody>\n    <tr>\n      <th>1</th>\n      <td>2017-07-23 06:12:38</td>\n      <td>-6.6</td>\n      <td>69.7W</td>\n    </tr>\n    <tr>\n      <th>3</th>\n      <td>2017-06-30 14:26:45</td>\n      <td>-34.3</td>\n      <td>134.5E</td>\n    </tr>\n    <tr>\n      <th>5</th>\n      <td>2017-06-20 13:41:32</td>\n      <td>-54.2</td>\n      <td>133.0E</td>\n    </tr>\n    <tr>\n      <th>6</th>\n      <td>2017-05-24 07:03:03</td>\n      <td>-9.1</td>\n      <td>101.8E</td>\n    </tr>\n    <tr>\n      <th>7</th>\n      <td>2017-05-22 17:44:39</td>\n      <td>-49.6</td>\n      <td>157.6W</td>\n    </tr>\n    <tr>\n      <th>...</th>\n      <td>...</td>\n      <td>...</td>\n      <td>...</td>\n    </tr>\n    <tr>\n      <th>693</th>\n      <td>1995-07-09 18:20:09</td>\n      <td>-0.9</td>\n      <td>66.3E</td>\n    </tr>\n    <tr>\n      <th>702</th>\n      <td>1994-12-16 09:41:03</td>\n      <td>-42.2</td>\n      <td>27.6E</td>\n    </tr>\n    <tr>\n      <th>704</th>\n      <td>1994-11-01 06:50:46</td>\n      <td>-1.5</td>\n      <td>84.5W</td>\n    </tr>\n    <tr>\n      <th>706</th>\n      <td>1994-10-20 00:11:21</td>\n      <td>-45.2</td>\n      <td>1.9W</td>\n    </tr>\n    <tr>\n      <th>718</th>\n      <td>1988-04-15 03:03:10</td>\n      <td>-4.1</td>\n      <td>124.3E</td>\n    </tr>\n  </tbody>\n</table>\n<p>275 rows × 3 columns</p>\n</div>"
     },
     "metadata": {},
     "execution_count": 15
    }
   ],
   "source": [
    "#filter the southern lats\n",
    "southern_lat_df = fireball_df[fireball_df['Latitude (deg.)'].str.contains(\"S\", na=False)]\n",
    "southern_lat_df['Latitude (deg.)'] = \"-\" + southern_lat_df['Latitude (deg.)'].str[: -1]\n",
    "southern_lat_df"
   ]
  },
  {
   "cell_type": "code",
   "execution_count": 16,
   "metadata": {},
   "outputs": [
    {
     "output_type": "execute_result",
     "data": {
      "text/plain": [
       "    Peak Brightness Date/Time (UT) Latitude (deg.) Longitude (deg.)\n",
       "0              2017-07-31 22:01:35           24.7N           118.5W\n",
       "1              2017-07-23 06:12:38            -6.6            69.7W\n",
       "2              2017-07-13 09:30:36           23.1N            60.7E\n",
       "3              2017-06-30 14:26:45           -34.3           134.5E\n",
       "4              2017-06-23 20:21:55           57.0N           143.7E\n",
       "..                             ...             ...              ...\n",
       "714            1993-11-29 17:48:41           26.5N            78.3E\n",
       "715            1993-10-31 03:39:27           51.3N           100.9W\n",
       "716            1991-10-04 09:22:47           78.7N             6.3E\n",
       "717            1990-10-01 03:51:47            7.5N           142.8E\n",
       "718            1988-04-15 03:03:10            -4.1           124.3E\n",
       "\n",
       "[719 rows x 3 columns]"
      ],
      "text/html": "<div>\n<style scoped>\n    .dataframe tbody tr th:only-of-type {\n        vertical-align: middle;\n    }\n\n    .dataframe tbody tr th {\n        vertical-align: top;\n    }\n\n    .dataframe thead th {\n        text-align: right;\n    }\n</style>\n<table border=\"1\" class=\"dataframe\">\n  <thead>\n    <tr style=\"text-align: right;\">\n      <th></th>\n      <th>Peak Brightness Date/Time (UT)</th>\n      <th>Latitude (deg.)</th>\n      <th>Longitude (deg.)</th>\n    </tr>\n  </thead>\n  <tbody>\n    <tr>\n      <th>0</th>\n      <td>2017-07-31 22:01:35</td>\n      <td>24.7N</td>\n      <td>118.5W</td>\n    </tr>\n    <tr>\n      <th>1</th>\n      <td>2017-07-23 06:12:38</td>\n      <td>-6.6</td>\n      <td>69.7W</td>\n    </tr>\n    <tr>\n      <th>2</th>\n      <td>2017-07-13 09:30:36</td>\n      <td>23.1N</td>\n      <td>60.7E</td>\n    </tr>\n    <tr>\n      <th>3</th>\n      <td>2017-06-30 14:26:45</td>\n      <td>-34.3</td>\n      <td>134.5E</td>\n    </tr>\n    <tr>\n      <th>4</th>\n      <td>2017-06-23 20:21:55</td>\n      <td>57.0N</td>\n      <td>143.7E</td>\n    </tr>\n    <tr>\n      <th>...</th>\n      <td>...</td>\n      <td>...</td>\n      <td>...</td>\n    </tr>\n    <tr>\n      <th>714</th>\n      <td>1993-11-29 17:48:41</td>\n      <td>26.5N</td>\n      <td>78.3E</td>\n    </tr>\n    <tr>\n      <th>715</th>\n      <td>1993-10-31 03:39:27</td>\n      <td>51.3N</td>\n      <td>100.9W</td>\n    </tr>\n    <tr>\n      <th>716</th>\n      <td>1991-10-04 09:22:47</td>\n      <td>78.7N</td>\n      <td>6.3E</td>\n    </tr>\n    <tr>\n      <th>717</th>\n      <td>1990-10-01 03:51:47</td>\n      <td>7.5N</td>\n      <td>142.8E</td>\n    </tr>\n    <tr>\n      <th>718</th>\n      <td>1988-04-15 03:03:10</td>\n      <td>-4.1</td>\n      <td>124.3E</td>\n    </tr>\n  </tbody>\n</table>\n<p>719 rows × 3 columns</p>\n</div>"
     },
     "metadata": {},
     "execution_count": 16
    }
   ],
   "source": [
    "#update the dataframe with updated lat values\n",
    "fireball_df.set_index('Peak Brightness Date/Time (UT)', inplace=True)\n",
    "fireball_df.update(southern_lat_df.set_index('Peak Brightness Date/Time (UT)'))\n",
    "fireball_df.reset_index()"
   ]
  },
  {
   "cell_type": "code",
   "execution_count": 17,
   "metadata": {},
   "outputs": [
    {
     "output_type": "stream",
     "name": "stderr",
     "text": [
      "<ipython-input-17-6062add9dc00>:3: SettingWithCopyWarning: \nA value is trying to be set on a copy of a slice from a DataFrame.\nTry using .loc[row_indexer,col_indexer] = value instead\n\nSee the caveats in the documentation: https://pandas.pydata.org/pandas-docs/stable/user_guide/indexing.html#returning-a-view-versus-a-copy\n  longitude_df['Longitude (deg.)'] = \"-\" + longitude_df['Longitude (deg.)'].str[: -1]\n"
     ]
    },
    {
     "output_type": "execute_result",
     "data": {
      "text/plain": [
       "                               Latitude (deg.) Longitude (deg.)\n",
       "Peak Brightness Date/Time (UT)                                 \n",
       "2017-07-31 22:01:35                      24.7N           -118.5\n",
       "2017-07-23 06:12:38                       -6.6            -69.7\n",
       "2017-05-22 17:44:39                      -49.6           -157.6\n",
       "2017-03-11 04:51:21                      28.3N            -60.2\n",
       "2017-03-09 04:16:37                      40.5N            -18.0\n",
       "...                                        ...              ...\n",
       "1995-02-16 13:05:47                      16.7N           -141.7\n",
       "1994-11-01 06:50:46                       -1.5            -84.5\n",
       "1994-10-20 00:11:21                      -45.2             -1.9\n",
       "1994-06-15 00:02:26                      45.0N            -73.5\n",
       "1993-10-31 03:39:27                      51.3N           -100.9\n",
       "\n",
       "[252 rows x 2 columns]"
      ],
      "text/html": "<div>\n<style scoped>\n    .dataframe tbody tr th:only-of-type {\n        vertical-align: middle;\n    }\n\n    .dataframe tbody tr th {\n        vertical-align: top;\n    }\n\n    .dataframe thead th {\n        text-align: right;\n    }\n</style>\n<table border=\"1\" class=\"dataframe\">\n  <thead>\n    <tr style=\"text-align: right;\">\n      <th></th>\n      <th>Latitude (deg.)</th>\n      <th>Longitude (deg.)</th>\n    </tr>\n    <tr>\n      <th>Peak Brightness Date/Time (UT)</th>\n      <th></th>\n      <th></th>\n    </tr>\n  </thead>\n  <tbody>\n    <tr>\n      <th>2017-07-31 22:01:35</th>\n      <td>24.7N</td>\n      <td>-118.5</td>\n    </tr>\n    <tr>\n      <th>2017-07-23 06:12:38</th>\n      <td>-6.6</td>\n      <td>-69.7</td>\n    </tr>\n    <tr>\n      <th>2017-05-22 17:44:39</th>\n      <td>-49.6</td>\n      <td>-157.6</td>\n    </tr>\n    <tr>\n      <th>2017-03-11 04:51:21</th>\n      <td>28.3N</td>\n      <td>-60.2</td>\n    </tr>\n    <tr>\n      <th>2017-03-09 04:16:37</th>\n      <td>40.5N</td>\n      <td>-18.0</td>\n    </tr>\n    <tr>\n      <th>...</th>\n      <td>...</td>\n      <td>...</td>\n    </tr>\n    <tr>\n      <th>1995-02-16 13:05:47</th>\n      <td>16.7N</td>\n      <td>-141.7</td>\n    </tr>\n    <tr>\n      <th>1994-11-01 06:50:46</th>\n      <td>-1.5</td>\n      <td>-84.5</td>\n    </tr>\n    <tr>\n      <th>1994-10-20 00:11:21</th>\n      <td>-45.2</td>\n      <td>-1.9</td>\n    </tr>\n    <tr>\n      <th>1994-06-15 00:02:26</th>\n      <td>45.0N</td>\n      <td>-73.5</td>\n    </tr>\n    <tr>\n      <th>1993-10-31 03:39:27</th>\n      <td>51.3N</td>\n      <td>-100.9</td>\n    </tr>\n  </tbody>\n</table>\n<p>252 rows × 2 columns</p>\n</div>"
     },
     "metadata": {},
     "execution_count": 17
    }
   ],
   "source": [
    "#filter the Western Longitudes\n",
    "longitude_df = fireball_df[fireball_df['Longitude (deg.)'].str.contains(\"W\", na=False)]\n",
    "longitude_df['Longitude (deg.)'] = \"-\" + longitude_df['Longitude (deg.)'].str[: -1]\n",
    "longitude_df"
   ]
  },
  {
   "cell_type": "code",
   "execution_count": 18,
   "metadata": {},
   "outputs": [
    {
     "output_type": "execute_result",
     "data": {
      "text/plain": [
       "                               Latitude (deg.) Longitude (deg.)\n",
       "Peak Brightness Date/Time (UT)                                 \n",
       "2017-07-31 22:01:35                      24.7N           -118.5\n",
       "2017-07-23 06:12:38                       -6.6            -69.7\n",
       "2017-07-13 09:30:36                      23.1N            60.7E\n",
       "2017-06-30 14:26:45                      -34.3           134.5E\n",
       "2017-06-23 20:21:55                      57.0N           143.7E\n",
       "...                                        ...              ...\n",
       "1993-11-29 17:48:41                      26.5N            78.3E\n",
       "1993-10-31 03:39:27                      51.3N           -100.9\n",
       "1991-10-04 09:22:47                      78.7N             6.3E\n",
       "1990-10-01 03:51:47                       7.5N           142.8E\n",
       "1988-04-15 03:03:10                       -4.1           124.3E\n",
       "\n",
       "[719 rows x 2 columns]"
      ],
      "text/html": "<div>\n<style scoped>\n    .dataframe tbody tr th:only-of-type {\n        vertical-align: middle;\n    }\n\n    .dataframe tbody tr th {\n        vertical-align: top;\n    }\n\n    .dataframe thead th {\n        text-align: right;\n    }\n</style>\n<table border=\"1\" class=\"dataframe\">\n  <thead>\n    <tr style=\"text-align: right;\">\n      <th></th>\n      <th>Latitude (deg.)</th>\n      <th>Longitude (deg.)</th>\n    </tr>\n    <tr>\n      <th>Peak Brightness Date/Time (UT)</th>\n      <th></th>\n      <th></th>\n    </tr>\n  </thead>\n  <tbody>\n    <tr>\n      <th>2017-07-31 22:01:35</th>\n      <td>24.7N</td>\n      <td>-118.5</td>\n    </tr>\n    <tr>\n      <th>2017-07-23 06:12:38</th>\n      <td>-6.6</td>\n      <td>-69.7</td>\n    </tr>\n    <tr>\n      <th>2017-07-13 09:30:36</th>\n      <td>23.1N</td>\n      <td>60.7E</td>\n    </tr>\n    <tr>\n      <th>2017-06-30 14:26:45</th>\n      <td>-34.3</td>\n      <td>134.5E</td>\n    </tr>\n    <tr>\n      <th>2017-06-23 20:21:55</th>\n      <td>57.0N</td>\n      <td>143.7E</td>\n    </tr>\n    <tr>\n      <th>...</th>\n      <td>...</td>\n      <td>...</td>\n    </tr>\n    <tr>\n      <th>1993-11-29 17:48:41</th>\n      <td>26.5N</td>\n      <td>78.3E</td>\n    </tr>\n    <tr>\n      <th>1993-10-31 03:39:27</th>\n      <td>51.3N</td>\n      <td>-100.9</td>\n    </tr>\n    <tr>\n      <th>1991-10-04 09:22:47</th>\n      <td>78.7N</td>\n      <td>6.3E</td>\n    </tr>\n    <tr>\n      <th>1990-10-01 03:51:47</th>\n      <td>7.5N</td>\n      <td>142.8E</td>\n    </tr>\n    <tr>\n      <th>1988-04-15 03:03:10</th>\n      <td>-4.1</td>\n      <td>124.3E</td>\n    </tr>\n  </tbody>\n</table>\n<p>719 rows × 2 columns</p>\n</div>"
     },
     "metadata": {},
     "execution_count": 18
    }
   ],
   "source": [
    "#update with updated long values\n",
    "fireball_df.update(longitude_df['Longitude (deg.)'])\n",
    "fireball_df"
   ]
  },
  {
   "cell_type": "code",
   "execution_count": 19,
   "metadata": {},
   "outputs": [
    {
     "output_type": "stream",
     "name": "stderr",
     "text": [
      "<ipython-input-19-9b9f3087173c>:3: SettingWithCopyWarning: \nA value is trying to be set on a copy of a slice from a DataFrame.\nTry using .loc[row_indexer,col_indexer] = value instead\n\nSee the caveats in the documentation: https://pandas.pydata.org/pandas-docs/stable/user_guide/indexing.html#returning-a-view-versus-a-copy\n  northern_lat_df['Latitude (deg.)'] = northern_lat_df['Latitude (deg.)'].str[: -1]\n"
     ]
    },
    {
     "output_type": "execute_result",
     "data": {
      "text/plain": [
       "                               Latitude (deg.) Longitude (deg.)\n",
       "Peak Brightness Date/Time (UT)                                 \n",
       "2017-07-31 22:01:35                       24.7           -118.5\n",
       "2017-07-13 09:30:36                       23.1            60.7E\n",
       "2017-06-23 20:21:55                       57.0           143.7E\n",
       "2017-03-11 04:51:21                       28.3            -60.2\n",
       "2017-03-09 04:16:37                       40.5            -18.0\n",
       "...                                        ...              ...\n",
       "1994-02-01 22:38:09                        2.7           164.1E\n",
       "1993-11-29 17:48:41                       26.5            78.3E\n",
       "1993-10-31 03:39:27                       51.3           -100.9\n",
       "1991-10-04 09:22:47                       78.7             6.3E\n",
       "1990-10-01 03:51:47                        7.5           142.8E\n",
       "\n",
       "[264 rows x 2 columns]"
      ],
      "text/html": "<div>\n<style scoped>\n    .dataframe tbody tr th:only-of-type {\n        vertical-align: middle;\n    }\n\n    .dataframe tbody tr th {\n        vertical-align: top;\n    }\n\n    .dataframe thead th {\n        text-align: right;\n    }\n</style>\n<table border=\"1\" class=\"dataframe\">\n  <thead>\n    <tr style=\"text-align: right;\">\n      <th></th>\n      <th>Latitude (deg.)</th>\n      <th>Longitude (deg.)</th>\n    </tr>\n    <tr>\n      <th>Peak Brightness Date/Time (UT)</th>\n      <th></th>\n      <th></th>\n    </tr>\n  </thead>\n  <tbody>\n    <tr>\n      <th>2017-07-31 22:01:35</th>\n      <td>24.7</td>\n      <td>-118.5</td>\n    </tr>\n    <tr>\n      <th>2017-07-13 09:30:36</th>\n      <td>23.1</td>\n      <td>60.7E</td>\n    </tr>\n    <tr>\n      <th>2017-06-23 20:21:55</th>\n      <td>57.0</td>\n      <td>143.7E</td>\n    </tr>\n    <tr>\n      <th>2017-03-11 04:51:21</th>\n      <td>28.3</td>\n      <td>-60.2</td>\n    </tr>\n    <tr>\n      <th>2017-03-09 04:16:37</th>\n      <td>40.5</td>\n      <td>-18.0</td>\n    </tr>\n    <tr>\n      <th>...</th>\n      <td>...</td>\n      <td>...</td>\n    </tr>\n    <tr>\n      <th>1994-02-01 22:38:09</th>\n      <td>2.7</td>\n      <td>164.1E</td>\n    </tr>\n    <tr>\n      <th>1993-11-29 17:48:41</th>\n      <td>26.5</td>\n      <td>78.3E</td>\n    </tr>\n    <tr>\n      <th>1993-10-31 03:39:27</th>\n      <td>51.3</td>\n      <td>-100.9</td>\n    </tr>\n    <tr>\n      <th>1991-10-04 09:22:47</th>\n      <td>78.7</td>\n      <td>6.3E</td>\n    </tr>\n    <tr>\n      <th>1990-10-01 03:51:47</th>\n      <td>7.5</td>\n      <td>142.8E</td>\n    </tr>\n  </tbody>\n</table>\n<p>264 rows × 2 columns</p>\n</div>"
     },
     "metadata": {},
     "execution_count": 19
    }
   ],
   "source": [
    "#filter the northern lats to remove the north\n",
    "northern_lat_df = fireball_df[fireball_df['Latitude (deg.)'].str.contains(\"N\", na=False)]\n",
    "northern_lat_df['Latitude (deg.)'] = northern_lat_df['Latitude (deg.)'].str[: -1]\n",
    "northern_lat_df"
   ]
  },
  {
   "cell_type": "code",
   "execution_count": 20,
   "metadata": {},
   "outputs": [
    {
     "output_type": "execute_result",
     "data": {
      "text/plain": [
       "                               Latitude (deg.) Longitude (deg.)\n",
       "Peak Brightness Date/Time (UT)                                 \n",
       "2017-07-31 22:01:35                       24.7           -118.5\n",
       "2017-07-23 06:12:38                       -6.6            -69.7\n",
       "2017-07-13 09:30:36                       23.1            60.7E\n",
       "2017-06-30 14:26:45                      -34.3           134.5E\n",
       "2017-06-23 20:21:55                       57.0           143.7E\n",
       "...                                        ...              ...\n",
       "1993-11-29 17:48:41                       26.5            78.3E\n",
       "1993-10-31 03:39:27                       51.3           -100.9\n",
       "1991-10-04 09:22:47                       78.7             6.3E\n",
       "1990-10-01 03:51:47                        7.5           142.8E\n",
       "1988-04-15 03:03:10                       -4.1           124.3E\n",
       "\n",
       "[719 rows x 2 columns]"
      ],
      "text/html": "<div>\n<style scoped>\n    .dataframe tbody tr th:only-of-type {\n        vertical-align: middle;\n    }\n\n    .dataframe tbody tr th {\n        vertical-align: top;\n    }\n\n    .dataframe thead th {\n        text-align: right;\n    }\n</style>\n<table border=\"1\" class=\"dataframe\">\n  <thead>\n    <tr style=\"text-align: right;\">\n      <th></th>\n      <th>Latitude (deg.)</th>\n      <th>Longitude (deg.)</th>\n    </tr>\n    <tr>\n      <th>Peak Brightness Date/Time (UT)</th>\n      <th></th>\n      <th></th>\n    </tr>\n  </thead>\n  <tbody>\n    <tr>\n      <th>2017-07-31 22:01:35</th>\n      <td>24.7</td>\n      <td>-118.5</td>\n    </tr>\n    <tr>\n      <th>2017-07-23 06:12:38</th>\n      <td>-6.6</td>\n      <td>-69.7</td>\n    </tr>\n    <tr>\n      <th>2017-07-13 09:30:36</th>\n      <td>23.1</td>\n      <td>60.7E</td>\n    </tr>\n    <tr>\n      <th>2017-06-30 14:26:45</th>\n      <td>-34.3</td>\n      <td>134.5E</td>\n    </tr>\n    <tr>\n      <th>2017-06-23 20:21:55</th>\n      <td>57.0</td>\n      <td>143.7E</td>\n    </tr>\n    <tr>\n      <th>...</th>\n      <td>...</td>\n      <td>...</td>\n    </tr>\n    <tr>\n      <th>1993-11-29 17:48:41</th>\n      <td>26.5</td>\n      <td>78.3E</td>\n    </tr>\n    <tr>\n      <th>1993-10-31 03:39:27</th>\n      <td>51.3</td>\n      <td>-100.9</td>\n    </tr>\n    <tr>\n      <th>1991-10-04 09:22:47</th>\n      <td>78.7</td>\n      <td>6.3E</td>\n    </tr>\n    <tr>\n      <th>1990-10-01 03:51:47</th>\n      <td>7.5</td>\n      <td>142.8E</td>\n    </tr>\n    <tr>\n      <th>1988-04-15 03:03:10</th>\n      <td>-4.1</td>\n      <td>124.3E</td>\n    </tr>\n  </tbody>\n</table>\n<p>719 rows × 2 columns</p>\n</div>"
     },
     "metadata": {},
     "execution_count": 20
    }
   ],
   "source": [
    "#update fireball df with updated lat values\n",
    "fireball_df.update(northern_lat_df['Latitude (deg.)'])\n",
    "fireball_df"
   ]
  },
  {
   "cell_type": "code",
   "execution_count": 21,
   "metadata": {},
   "outputs": [
    {
     "output_type": "stream",
     "name": "stderr",
     "text": [
      "<ipython-input-21-ed1f437a96d8>:3: SettingWithCopyWarning: \nA value is trying to be set on a copy of a slice from a DataFrame.\nTry using .loc[row_indexer,col_indexer] = value instead\n\nSee the caveats in the documentation: https://pandas.pydata.org/pandas-docs/stable/user_guide/indexing.html#returning-a-view-versus-a-copy\n  eastern_longitude['Longitude (deg.)'] = eastern_longitude['Longitude (deg.)'].str[: -1]\n"
     ]
    },
    {
     "output_type": "execute_result",
     "data": {
      "text/plain": [
       "                               Latitude (deg.) Longitude (deg.)\n",
       "Peak Brightness Date/Time (UT)                                 \n",
       "2017-07-13 09:30:36                       23.1             60.7\n",
       "2017-06-30 14:26:45                      -34.3            134.5\n",
       "2017-06-23 20:21:55                       57.0            143.7\n",
       "2017-06-20 13:41:32                      -54.2            133.0\n",
       "2017-05-24 07:03:03                       -9.1            101.8\n",
       "...                                        ...              ...\n",
       "1994-02-01 22:38:09                        2.7            164.1\n",
       "1993-11-29 17:48:41                       26.5             78.3\n",
       "1991-10-04 09:22:47                       78.7              6.3\n",
       "1990-10-01 03:51:47                        7.5            142.8\n",
       "1988-04-15 03:03:10                       -4.1            124.3\n",
       "\n",
       "[287 rows x 2 columns]"
      ],
      "text/html": "<div>\n<style scoped>\n    .dataframe tbody tr th:only-of-type {\n        vertical-align: middle;\n    }\n\n    .dataframe tbody tr th {\n        vertical-align: top;\n    }\n\n    .dataframe thead th {\n        text-align: right;\n    }\n</style>\n<table border=\"1\" class=\"dataframe\">\n  <thead>\n    <tr style=\"text-align: right;\">\n      <th></th>\n      <th>Latitude (deg.)</th>\n      <th>Longitude (deg.)</th>\n    </tr>\n    <tr>\n      <th>Peak Brightness Date/Time (UT)</th>\n      <th></th>\n      <th></th>\n    </tr>\n  </thead>\n  <tbody>\n    <tr>\n      <th>2017-07-13 09:30:36</th>\n      <td>23.1</td>\n      <td>60.7</td>\n    </tr>\n    <tr>\n      <th>2017-06-30 14:26:45</th>\n      <td>-34.3</td>\n      <td>134.5</td>\n    </tr>\n    <tr>\n      <th>2017-06-23 20:21:55</th>\n      <td>57.0</td>\n      <td>143.7</td>\n    </tr>\n    <tr>\n      <th>2017-06-20 13:41:32</th>\n      <td>-54.2</td>\n      <td>133.0</td>\n    </tr>\n    <tr>\n      <th>2017-05-24 07:03:03</th>\n      <td>-9.1</td>\n      <td>101.8</td>\n    </tr>\n    <tr>\n      <th>...</th>\n      <td>...</td>\n      <td>...</td>\n    </tr>\n    <tr>\n      <th>1994-02-01 22:38:09</th>\n      <td>2.7</td>\n      <td>164.1</td>\n    </tr>\n    <tr>\n      <th>1993-11-29 17:48:41</th>\n      <td>26.5</td>\n      <td>78.3</td>\n    </tr>\n    <tr>\n      <th>1991-10-04 09:22:47</th>\n      <td>78.7</td>\n      <td>6.3</td>\n    </tr>\n    <tr>\n      <th>1990-10-01 03:51:47</th>\n      <td>7.5</td>\n      <td>142.8</td>\n    </tr>\n    <tr>\n      <th>1988-04-15 03:03:10</th>\n      <td>-4.1</td>\n      <td>124.3</td>\n    </tr>\n  </tbody>\n</table>\n<p>287 rows × 2 columns</p>\n</div>"
     },
     "metadata": {},
     "execution_count": 21
    }
   ],
   "source": [
    "#filter the Eastern Longitudes\n",
    "eastern_longitude = fireball_df[fireball_df['Longitude (deg.)'].str.contains(\"E\", na=False)]\n",
    "eastern_longitude['Longitude (deg.)'] = eastern_longitude['Longitude (deg.)'].str[: -1]\n",
    "eastern_longitude"
   ]
  },
  {
   "cell_type": "code",
   "execution_count": 22,
   "metadata": {},
   "outputs": [
    {
     "output_type": "execute_result",
     "data": {
      "text/plain": [
       "                               Latitude (deg.) Longitude (deg.)\n",
       "Peak Brightness Date/Time (UT)                                 \n",
       "2017-07-31 22:01:35                       24.7           -118.5\n",
       "2017-07-23 06:12:38                       -6.6            -69.7\n",
       "2017-07-13 09:30:36                       23.1             60.7\n",
       "2017-06-30 14:26:45                      -34.3            134.5\n",
       "2017-06-23 20:21:55                       57.0            143.7\n",
       "...                                        ...              ...\n",
       "1993-11-29 17:48:41                       26.5             78.3\n",
       "1993-10-31 03:39:27                       51.3           -100.9\n",
       "1991-10-04 09:22:47                       78.7              6.3\n",
       "1990-10-01 03:51:47                        7.5            142.8\n",
       "1988-04-15 03:03:10                       -4.1            124.3\n",
       "\n",
       "[719 rows x 2 columns]"
      ],
      "text/html": "<div>\n<style scoped>\n    .dataframe tbody tr th:only-of-type {\n        vertical-align: middle;\n    }\n\n    .dataframe tbody tr th {\n        vertical-align: top;\n    }\n\n    .dataframe thead th {\n        text-align: right;\n    }\n</style>\n<table border=\"1\" class=\"dataframe\">\n  <thead>\n    <tr style=\"text-align: right;\">\n      <th></th>\n      <th>Latitude (deg.)</th>\n      <th>Longitude (deg.)</th>\n    </tr>\n    <tr>\n      <th>Peak Brightness Date/Time (UT)</th>\n      <th></th>\n      <th></th>\n    </tr>\n  </thead>\n  <tbody>\n    <tr>\n      <th>2017-07-31 22:01:35</th>\n      <td>24.7</td>\n      <td>-118.5</td>\n    </tr>\n    <tr>\n      <th>2017-07-23 06:12:38</th>\n      <td>-6.6</td>\n      <td>-69.7</td>\n    </tr>\n    <tr>\n      <th>2017-07-13 09:30:36</th>\n      <td>23.1</td>\n      <td>60.7</td>\n    </tr>\n    <tr>\n      <th>2017-06-30 14:26:45</th>\n      <td>-34.3</td>\n      <td>134.5</td>\n    </tr>\n    <tr>\n      <th>2017-06-23 20:21:55</th>\n      <td>57.0</td>\n      <td>143.7</td>\n    </tr>\n    <tr>\n      <th>...</th>\n      <td>...</td>\n      <td>...</td>\n    </tr>\n    <tr>\n      <th>1993-11-29 17:48:41</th>\n      <td>26.5</td>\n      <td>78.3</td>\n    </tr>\n    <tr>\n      <th>1993-10-31 03:39:27</th>\n      <td>51.3</td>\n      <td>-100.9</td>\n    </tr>\n    <tr>\n      <th>1991-10-04 09:22:47</th>\n      <td>78.7</td>\n      <td>6.3</td>\n    </tr>\n    <tr>\n      <th>1990-10-01 03:51:47</th>\n      <td>7.5</td>\n      <td>142.8</td>\n    </tr>\n    <tr>\n      <th>1988-04-15 03:03:10</th>\n      <td>-4.1</td>\n      <td>124.3</td>\n    </tr>\n  </tbody>\n</table>\n<p>719 rows × 2 columns</p>\n</div>"
     },
     "metadata": {},
     "execution_count": 22
    }
   ],
   "source": [
    "#update fireball df with updated long values\n",
    "fireball_df.update(eastern_longitude['Longitude (deg.)'])\n",
    "fireball_df"
   ]
  },
  {
   "cell_type": "code",
   "execution_count": null,
   "metadata": {},
   "outputs": [],
   "source": []
  }
 ]
}